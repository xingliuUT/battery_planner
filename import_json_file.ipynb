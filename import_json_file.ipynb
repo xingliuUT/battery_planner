{
 "cells": [
  {
   "cell_type": "markdown",
   "metadata": {},
   "source": [
    "## Create a database"
   ]
  },
  {
   "cell_type": "code",
   "execution_count": 3,
   "metadata": {},
   "outputs": [],
   "source": [
    "import pandas as pd"
   ]
  },
  {
   "cell_type": "code",
   "execution_count": 5,
   "metadata": {},
   "outputs": [],
   "source": [
    "df01 = pd.read_json('EBA.txt', lines = True)"
   ]
  },
  {
   "cell_type": "code",
   "execution_count": 6,
   "metadata": {},
   "outputs": [
    {
     "data": {
      "text/plain": [
       "(742, 14)"
      ]
     },
     "execution_count": 6,
     "metadata": {},
     "output_type": "execute_result"
    }
   ],
   "source": [
    "df01.shape"
   ]
  },
  {
   "cell_type": "code",
   "execution_count": 7,
   "metadata": {},
   "outputs": [
    {
     "data": {
      "text/html": [
       "<div>\n",
       "<style>\n",
       "    .dataframe thead tr:only-child th {\n",
       "        text-align: right;\n",
       "    }\n",
       "\n",
       "    .dataframe thead th {\n",
       "        text-align: left;\n",
       "    }\n",
       "\n",
       "    .dataframe tbody tr th {\n",
       "        vertical-align: top;\n",
       "    }\n",
       "</style>\n",
       "<table border=\"1\" class=\"dataframe\">\n",
       "  <thead>\n",
       "    <tr style=\"text-align: right;\">\n",
       "      <th></th>\n",
       "      <th>category_id</th>\n",
       "      <th>childseries</th>\n",
       "      <th>data</th>\n",
       "      <th>description</th>\n",
       "      <th>end</th>\n",
       "      <th>f</th>\n",
       "      <th>geoset_id</th>\n",
       "      <th>last_updated</th>\n",
       "      <th>name</th>\n",
       "      <th>notes</th>\n",
       "      <th>parent_category_id</th>\n",
       "      <th>series_id</th>\n",
       "      <th>start</th>\n",
       "      <th>units</th>\n",
       "    </tr>\n",
       "  </thead>\n",
       "  <tbody>\n",
       "    <tr>\n",
       "      <th>0</th>\n",
       "      <td>NaN</td>\n",
       "      <td>NaN</td>\n",
       "      <td>[[20190101T08Z, 19], [20190101T07Z, 17], [2019...</td>\n",
       "      <td>Timestamps follow the ISO8601 standard (https:...</td>\n",
       "      <td>20190101T08Z</td>\n",
       "      <td>H</td>\n",
       "      <td>EBA.ID.H</td>\n",
       "      <td>2018-01-22T14:06:26-05:00</td>\n",
       "      <td>Actual Net Interchange for Imperial Irrigation...</td>\n",
       "      <td>NaN</td>\n",
       "      <td>NaN</td>\n",
       "      <td>EBA.IID-AZPS.ID.H</td>\n",
       "      <td>20150701T00Z</td>\n",
       "      <td>megawatthours</td>\n",
       "    </tr>\n",
       "  </tbody>\n",
       "</table>\n",
       "</div>"
      ],
      "text/plain": [
       "   category_id childseries                                               data  \\\n",
       "0          NaN         NaN  [[20190101T08Z, 19], [20190101T07Z, 17], [2019...   \n",
       "\n",
       "                                         description           end  f  \\\n",
       "0  Timestamps follow the ISO8601 standard (https:...  20190101T08Z  H   \n",
       "\n",
       "  geoset_id               last_updated  \\\n",
       "0  EBA.ID.H  2018-01-22T14:06:26-05:00   \n",
       "\n",
       "                                                name notes  \\\n",
       "0  Actual Net Interchange for Imperial Irrigation...   NaN   \n",
       "\n",
       "   parent_category_id          series_id         start          units  \n",
       "0                 NaN  EBA.IID-AZPS.ID.H  20150701T00Z  megawatthours  "
      ]
     },
     "execution_count": 7,
     "metadata": {},
     "output_type": "execute_result"
    }
   ],
   "source": [
    "df01.head(1)"
   ]
  },
  {
   "cell_type": "code",
   "execution_count": 10,
   "metadata": {},
   "outputs": [
    {
     "data": {
      "text/plain": [
       "20497"
      ]
     },
     "execution_count": 10,
     "metadata": {},
     "output_type": "execute_result"
    }
   ],
   "source": [
    "len(df01.loc[0, 'data'])"
   ]
  },
  {
   "cell_type": "code",
   "execution_count": 50,
   "metadata": {},
   "outputs": [],
   "source": [
    "demand_index = df01.name.apply(lambda x: 'Demand' in x)"
   ]
  },
  {
   "cell_type": "code",
   "execution_count": 51,
   "metadata": {},
   "outputs": [],
   "source": [
    "df03 = df01.loc[demand_index, :]"
   ]
  },
  {
   "cell_type": "code",
   "execution_count": 53,
   "metadata": {},
   "outputs": [
    {
     "data": {
      "text/plain": [
       "(69, 14)"
      ]
     },
     "execution_count": 53,
     "metadata": {},
     "output_type": "execute_result"
    }
   ],
   "source": [
    "df03.shape"
   ]
  },
  {
   "cell_type": "code",
   "execution_count": 54,
   "metadata": {},
   "outputs": [
    {
     "data": {
      "text/plain": [
       "3                    Demand for Florida (region), Hourly\n",
       "7               Demand for Mid-Atlantic (region), Hourly\n",
       "11                   Demand for Midwest (region), Hourly\n",
       "15     Demand for United States Lower 48 (region), Ho...\n",
       "19                   Demand for Central (region), Hourly\n",
       "23                 Demand for Northwest (region), Hourly\n",
       "27                 Demand for Southeast (region), Hourly\n",
       "31                 Demand for Southwest (region), Hourly\n",
       "35                Demand for California (region), Hourly\n",
       "39                 Demand for Carolinas (region), Hourly\n",
       "43       Demand for Tampa Electric Company (TEC), Hourly\n",
       "44     Demand for PUD No. 1 of Douglas County (DOPD),...\n",
       "45     Demand for Electric Reliability Council of Tex...\n",
       "46     Demand for Tennessee Valley Authority (TVA), H...\n",
       "47       Demand for Tucson Electric Power (TEPC), Hourly\n",
       "48     Demand for Southern Company Services, Inc. - T...\n",
       "49     Demand for Seminole Electric Cooperative (SEC)...\n",
       "50     Demand for New York Independent System Operato...\n",
       "51        Demand for Nevada Power Company (NEVP), Hourly\n",
       "52     Demand for Public Utility District No. 1 of Ch...\n",
       "53           Demand for Seattle City Light (SCL), Hourly\n",
       "54     Demand for South Carolina Public Service Autho...\n",
       "55     Demand for Public Utility District No. 2 of Gr...\n",
       "56         Demand for Idaho Power Company (IPCO), Hourly\n",
       "57     Demand for PJM Interconnection, LLC (PJM), Hourly\n",
       "58     Demand for Public Service Company of Colorado ...\n",
       "59     Demand for Western Area Power Administration -...\n",
       "60           Demand for Avista Corporation (AVA), Hourly\n",
       "61     Demand for Duke Energy Florida, Inc. (FPC), Ho...\n",
       "62     Demand for Duke Energy Progress East (CPLE), H...\n",
       "                             ...                        \n",
       "72     Demand for Gainesville Regional Utilities (GVL...\n",
       "73     Demand for Florida Municipal Power Pool (FMPP)...\n",
       "74     Demand for Puget Sound Energy, Inc. (PSEI), Ho...\n",
       "75     Demand for Associated Electric Cooperative, In...\n",
       "76     Demand for Arizona Public Service Company (AZP...\n",
       "77     Demand for Los Angeles Department of Water and...\n",
       "78        Demand for Southwest Power Pool (SWPP), Hourly\n",
       "79     Demand for Salt River Project Agricultural Imp...\n",
       "80     Demand for NorthWestern Corporation (NWMT), Ho...\n",
       "81             Demand for New England ISO (ISNE), Hourly\n",
       "82     Demand for Imperial Irrigation District (IID),...\n",
       "83     Demand for LG&E and KU Services Company as age...\n",
       "84                          Demand for JEA (JEA), Hourly\n",
       "85             Demand for PacifiCorp West (PACW), Hourly\n",
       "86             Demand for PacifiCorp East (PACE), Hourly\n",
       "87     Demand for PowerSouth Energy Cooperative (AEC)...\n",
       "88     Demand for Florida Power & Light Co. (FPL), Ho...\n",
       "89     Demand for Balancing Authority of Northern Cal...\n",
       "90           Demand for Homestead, City of (HST), Hourly\n",
       "91     Demand for South Carolina Electric & Gas Compa...\n",
       "92     Demand for City of Tacoma, Department of Publi...\n",
       "93         Demand for Tallahassee, City of (TAL), Hourly\n",
       "97     Demand for El Paso Electric Company (EPE), Hourly\n",
       "123    Demand for Ohio Valley Electric Corporation (O...\n",
       "602    Demand for New Smyrna Beach, Utilities Commiss...\n",
       "605    Demand for Bonneville Power Administration (BP...\n",
       "638    Demand for Midcontinent Independent System Ope...\n",
       "651    Demand for NaturEner Wind Watch, LLC (WWA), Ho...\n",
       "652       Demand for Electric Energy, Inc. (EEI), Hourly\n",
       "662                                               Demand\n",
       "Name: name, Length: 69, dtype: object"
      ]
     },
     "execution_count": 54,
     "metadata": {},
     "output_type": "execute_result"
    }
   ],
   "source": [
    "df03.name"
   ]
  },
  {
   "cell_type": "code",
   "execution_count": 55,
   "metadata": {},
   "outputs": [],
   "source": [
    "df02 = pd.DataFrame(df01.loc[50, 'data'], columns = ['time_stamp', 'net_interchange'])"
   ]
  },
  {
   "cell_type": "code",
   "execution_count": 56,
   "metadata": {},
   "outputs": [
    {
     "data": {
      "text/plain": [
       "time_stamp          object\n",
       "net_interchange    float64\n",
       "dtype: object"
      ]
     },
     "execution_count": 56,
     "metadata": {},
     "output_type": "execute_result"
    }
   ],
   "source": [
    "df02.dtypes"
   ]
  },
  {
   "cell_type": "code",
   "execution_count": 57,
   "metadata": {},
   "outputs": [
    {
     "data": {
      "text/html": [
       "<div>\n",
       "<style>\n",
       "    .dataframe thead tr:only-child th {\n",
       "        text-align: right;\n",
       "    }\n",
       "\n",
       "    .dataframe thead th {\n",
       "        text-align: left;\n",
       "    }\n",
       "\n",
       "    .dataframe tbody tr th {\n",
       "        vertical-align: top;\n",
       "    }\n",
       "</style>\n",
       "<table border=\"1\" class=\"dataframe\">\n",
       "  <thead>\n",
       "    <tr style=\"text-align: right;\">\n",
       "      <th></th>\n",
       "      <th>time_stamp</th>\n",
       "      <th>net_interchange</th>\n",
       "    </tr>\n",
       "  </thead>\n",
       "  <tbody>\n",
       "    <tr>\n",
       "      <th>0</th>\n",
       "      <td>20180122T18Z</td>\n",
       "      <td>19356.0</td>\n",
       "    </tr>\n",
       "    <tr>\n",
       "      <th>1</th>\n",
       "      <td>20180122T17Z</td>\n",
       "      <td>19464.0</td>\n",
       "    </tr>\n",
       "    <tr>\n",
       "      <th>2</th>\n",
       "      <td>20180122T16Z</td>\n",
       "      <td>19502.0</td>\n",
       "    </tr>\n",
       "  </tbody>\n",
       "</table>\n",
       "</div>"
      ],
      "text/plain": [
       "     time_stamp  net_interchange\n",
       "0  20180122T18Z          19356.0\n",
       "1  20180122T17Z          19464.0\n",
       "2  20180122T16Z          19502.0"
      ]
     },
     "execution_count": 57,
     "metadata": {},
     "output_type": "execute_result"
    }
   ],
   "source": [
    "df02.head(3)"
   ]
  },
  {
   "cell_type": "code",
   "execution_count": 58,
   "metadata": {},
   "outputs": [],
   "source": [
    "df02.loc[:, 'time_stamp'] = df02.time_stamp.apply(lambda x: pd.to_datetime(x))"
   ]
  },
  {
   "cell_type": "code",
   "execution_count": 59,
   "metadata": {},
   "outputs": [
    {
     "data": {
      "text/plain": [
       "time_stamp         datetime64[ns]\n",
       "net_interchange           float64\n",
       "dtype: object"
      ]
     },
     "execution_count": 59,
     "metadata": {},
     "output_type": "execute_result"
    }
   ],
   "source": [
    "df02.dtypes"
   ]
  },
  {
   "cell_type": "code",
   "execution_count": 60,
   "metadata": {},
   "outputs": [
    {
     "data": {
      "text/html": [
       "<div>\n",
       "<style>\n",
       "    .dataframe thead tr:only-child th {\n",
       "        text-align: right;\n",
       "    }\n",
       "\n",
       "    .dataframe thead th {\n",
       "        text-align: left;\n",
       "    }\n",
       "\n",
       "    .dataframe tbody tr th {\n",
       "        vertical-align: top;\n",
       "    }\n",
       "</style>\n",
       "<table border=\"1\" class=\"dataframe\">\n",
       "  <thead>\n",
       "    <tr style=\"text-align: right;\">\n",
       "      <th></th>\n",
       "      <th>time_stamp</th>\n",
       "      <th>net_interchange</th>\n",
       "    </tr>\n",
       "  </thead>\n",
       "  <tbody>\n",
       "    <tr>\n",
       "      <th>0</th>\n",
       "      <td>2018-01-22 18:00:00</td>\n",
       "      <td>19356.0</td>\n",
       "    </tr>\n",
       "    <tr>\n",
       "      <th>1</th>\n",
       "      <td>2018-01-22 17:00:00</td>\n",
       "      <td>19464.0</td>\n",
       "    </tr>\n",
       "    <tr>\n",
       "      <th>2</th>\n",
       "      <td>2018-01-22 16:00:00</td>\n",
       "      <td>19502.0</td>\n",
       "    </tr>\n",
       "  </tbody>\n",
       "</table>\n",
       "</div>"
      ],
      "text/plain": [
       "           time_stamp  net_interchange\n",
       "0 2018-01-22 18:00:00          19356.0\n",
       "1 2018-01-22 17:00:00          19464.0\n",
       "2 2018-01-22 16:00:00          19502.0"
      ]
     },
     "execution_count": 60,
     "metadata": {},
     "output_type": "execute_result"
    }
   ],
   "source": [
    "df02.head(3)"
   ]
  },
  {
   "cell_type": "code",
   "execution_count": 63,
   "metadata": {},
   "outputs": [
    {
     "data": {
      "text/plain": [
       "<matplotlib.text.Text at 0x1161a04a8>"
      ]
     },
     "execution_count": 63,
     "metadata": {},
     "output_type": "execute_result"
    },
    {
     "data": {
      "image/png": "[encoded data removed]",
      "text/plain": [
       "<matplotlib.figure.Figure at 0x1161f2940>"
      ]
     },
     "metadata": {},
     "output_type": "display_data"
    }
   ],
   "source": [
    "fig, ax = plt.subplots(figsize = (15, 9))\n",
    "ax.plot(df02.time_stamp, df02.net_interchange)\n",
    "ax.set_xlim(pd.datetime(2015,7,1), pd.datetime(2018,2,1));\n",
    "ax.set_title(df01.loc[50, 'name'])"
   ]
  },
  {
   "cell_type": "code",
   "execution_count": null,
   "metadata": {},
   "outputs": [],
   "source": []
  }
 ],
 "metadata": {
  "anaconda-cloud": {},
  "kernelspec": {
   "display_name": "Python 3",
   "language": "python",
   "name": "python3"
  },
  "language_info": {
   "codemirror_mode": {
    "name": "ipython",
    "version": 3
   },
   "file_extension": ".py",
   "mimetype": "text/x-python",
   "name": "python",
   "nbconvert_exporter": "python",
   "pygments_lexer": "ipython3",
   "version": "3.5.4"
  }
 },
 "nbformat": 4,
 "nbformat_minor": 1
}
