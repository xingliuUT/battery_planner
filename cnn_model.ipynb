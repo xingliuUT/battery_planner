{
 "cells": [
  {
   "cell_type": "markdown",
   "metadata": {},
   "source": [
    "## Electricity price prediction for NYC"
   ]
  },
  {
   "cell_type": "code",
   "execution_count": 1,
   "metadata": {},
   "outputs": [
    {
     "name": "stderr",
     "output_type": "stream",
     "text": [
      "Using TensorFlow backend.\n"
     ]
    }
   ],
   "source": [
    "import pandas as pd\n",
    "\n",
    "import numpy as np\n",
    "from sklearn import preprocessing\n",
    "from sklearn import metrics\n",
    "import matplotlib.pylab as plt\n",
    "import datetime as dt\n",
    "import time\n",
    "\n",
    "from keras.models import Sequential\n",
    "from keras.layers.core import Dense, Dropout, Activation, Flatten\n",
    "from keras.layers.recurrent import LSTM, GRU\n",
    "from keras.layers import Convolution1D, MaxPooling1D, AtrousConvolution1D, RepeatVector\n",
    "from keras.callbacks import ModelCheckpoint, ReduceLROnPlateau, CSVLogger\n",
    "from keras.layers.wrappers import Bidirectional\n",
    "from keras import regularizers\n",
    "from keras.layers.normalization import BatchNormalization\n",
    "from keras.layers.advanced_activations import *\n",
    "from keras.optimizers import RMSprop, Adam, SGD, Nadam\n",
    "from keras.initializers import *"
   ]
  },
  {
   "cell_type": "code",
   "execution_count": 2,
   "metadata": {},
   "outputs": [],
   "source": [
    "df_data = pd.read_csv('full_diff_data_2016_2017.csv', parse_dates=['time_stamp', 'time_stamp_local'])\n",
    "df_data.set_index('time_stamp', inplace = True)"
   ]
  },
  {
   "cell_type": "code",
   "execution_count": 3,
   "metadata": {},
   "outputs": [
    {
     "data": {
      "text/plain": [
       "(17520, 10)"
      ]
     },
     "execution_count": 3,
     "metadata": {},
     "output_type": "execute_result"
    }
   ],
   "source": [
    "df_data.shape"
   ]
  },
  {
   "cell_type": "code",
   "execution_count": 4,
   "metadata": {},
   "outputs": [
    {
     "data": {
      "text/plain": [
       "Index(['time_stamp_local', 'price', 'price_24hr_ago', 'price_diff', 'load',\n",
       "       'load_24hr_ago', 'load_diff', 'temp', 'temp_24hr_ago', 'temp_diff'],\n",
       "      dtype='object')"
      ]
     },
     "execution_count": 4,
     "metadata": {},
     "output_type": "execute_result"
    }
   ],
   "source": [
    "df_data.columns"
   ]
  },
  {
   "cell_type": "code",
   "execution_count": 5,
   "metadata": {},
   "outputs": [],
   "source": [
    "def train_test_ts_split(X, y, percentage=0.9):\n",
    "    X_train = X[0:int(len(X) * percentage)]\n",
    "    Y_train = y[0:int(len(y) * percentage)]\n",
    "    \n",
    "    #X_train, Y_train = shuffle_Xy(X_train, Y_train)\n",
    "\n",
    "    X_test = X[int(len(X) * percentage):]\n",
    "    Y_test = y[int(len(X) * percentage):]\n",
    "\n",
    "    return X_train, X_test, Y_train, Y_test"
   ]
  },
  {
   "cell_type": "code",
   "execution_count": 6,
   "metadata": {},
   "outputs": [],
   "source": [
    "scaler_price = preprocessing.StandardScaler().fit(df_data.price_diff.values.reshape(-1, 1))\n",
    "scaler_load = preprocessing.StandardScaler().fit(df_data.load_diff.values.reshape(-1, 1))\n",
    "scaler_temp = preprocessing.StandardScaler().fit(df_data.temp_diff.values.reshape(-1, 1))\n",
    "# scaler_price = preprocessing.MinMaxScaler().fit(df_data.price_diff.values.reshape(-1, 1))\n",
    "# scaler_load = preprocessing.MinMaxScaler().fit(df_data.load_diff.values.reshape(-1, 1))\n",
    "# scaler_temp = preprocessing.MinMaxScaler().fit(df_data.temp_diff.values.reshape(-1, 1))\n",
    "\n",
    "df_data.loc[:,'price_diff_norm'] = scaler_price.transform(df_data.price_diff.values.reshape(-1, 1))\n",
    "df_data.loc[:,'load_diff_norm'] = scaler_load.transform(df_data.load_diff.values.reshape(-1, 1))\n",
    "df_data.loc[:,'temp_diff_norm'] = scaler_temp.transform(df_data.temp_diff.values.reshape(-1, 1))"
   ]
  },
  {
   "cell_type": "code",
   "execution_count": 7,
   "metadata": {},
   "outputs": [],
   "source": [
    "WINDOW = 24 * 7 - 1\n",
    "EMB_SIZE = 3\n",
    "STEP = 1\n",
    "FORECAST = 1\n",
    "\n",
    "X, Y = [], []\n",
    "for i in range(0, df_data.shape[0], STEP): \n",
    "    try:\n",
    "        price_byweek = df_data.price_diff_norm.values[i: i + WINDOW]\n",
    "        load_byweek = df_data.load_diff_norm.values[i: i + WINDOW]\n",
    "        temp_byweek = df_data.temp_diff_norm.values[i: i + WINDOW]\n",
    "        \n",
    "#         price_norm = (np.array(price_byweek) - np.mean(price_byweek)) / np.std(price_byweek)\n",
    "#         load_norm = (np.array(load_byweek) - np.mean(load_byweek)) / np.std(load_byweek)\n",
    "#         temp_norm = (np.array(temp_byweek) - np.mean(temp_byweek)) / np.std(temp_byweek)\n",
    "        \n",
    "#         x_i = np.column_stack((price_norm, load_norm, temp_norm))\n",
    "        x_i = np.column_stack((price_byweek, load_byweek, temp_byweek))\n",
    "\n",
    "        y_i = df_data.price_diff_norm.values[i + WINDOW + FORECAST]\n",
    "    except Exception as e:\n",
    "        break\n",
    "\n",
    "    X.append(x_i)\n",
    "    Y.append(y_i)\n",
    "\n",
    "X, Y = np.array(X), np.array(Y)"
   ]
  },
  {
   "cell_type": "code",
   "execution_count": 8,
   "metadata": {},
   "outputs": [
    {
     "data": {
      "text/plain": [
       "((17352, 167, 3), (17352,))"
      ]
     },
     "execution_count": 8,
     "metadata": {},
     "output_type": "execute_result"
    }
   ],
   "source": [
    "X.shape, Y.shape"
   ]
  },
  {
   "cell_type": "code",
   "execution_count": 9,
   "metadata": {},
   "outputs": [
    {
     "data": {
      "text/plain": [
       "((8676, 167, 3), (8676, 167, 3), (8676,), (8676,))"
      ]
     },
     "execution_count": 9,
     "metadata": {},
     "output_type": "execute_result"
    }
   ],
   "source": [
    "X_train, X_test, Y_train, Y_test = train_test_ts_split(X, Y, percentage = 0.5)\n",
    "X_train.shape, X_test.shape, Y_train.shape, Y_test.shape"
   ]
  },
  {
   "cell_type": "code",
   "execution_count": 10,
   "metadata": {},
   "outputs": [
    {
     "data": {
      "text/plain": [
       "((8676, 167, 3), (8676, 167, 3), (8676,), (8676,))"
      ]
     },
     "execution_count": 10,
     "metadata": {},
     "output_type": "execute_result"
    }
   ],
   "source": [
    "X_train = np.reshape(X_train, (X_train.shape[0], X_train.shape[1], EMB_SIZE))\n",
    "X_test = np.reshape(X_test, (X_test.shape[0], X_test.shape[1], EMB_SIZE))\n",
    "X_train.shape, X_test.shape, Y_train.shape, Y_test.shape"
   ]
  },
  {
   "cell_type": "code",
   "execution_count": 11,
   "metadata": {},
   "outputs": [
    {
     "name": "stderr",
     "output_type": "stream",
     "text": [
      "/anaconda/envs/py35/lib/python3.5/site-packages/ipykernel_launcher.py:6: UserWarning: Update your `Conv1D` call to the Keras 2 API: `Conv1D(activation=\"relu\", padding=\"same\", kernel_size=24, input_shape=(167, 3), filters=32)`\n",
      "  \n",
      "/anaconda/envs/py35/lib/python3.5/site-packages/ipykernel_launcher.py:11: UserWarning: Update your `Conv1D` call to the Keras 2 API: `Conv1D(activation=\"relu\", padding=\"same\", kernel_size=2, filters=16)`\n",
      "  # This is added back by InteractiveShellApp.init_path()\n",
      "/anaconda/envs/py35/lib/python3.5/site-packages/keras/models.py:874: UserWarning: The `nb_epoch` argument in `fit` has been renamed `epochs`.\n",
      "  warnings.warn('The `nb_epoch` argument in `fit` '\n"
     ]
    },
    {
     "name": "stdout",
     "output_type": "stream",
     "text": [
      "Train on 6940 samples, validate on 1736 samples\n",
      "Epoch 1/20\n",
      "6940/6940 [==============================] - 3s 414us/step - loss: 1.0431 - val_loss: 0.3895\n",
      "Epoch 2/20\n",
      "6940/6940 [==============================] - 3s 405us/step - loss: 0.8410 - val_loss: 0.3818\n",
      "Epoch 3/20\n",
      "6940/6940 [==============================] - 2s 359us/step - loss: 0.7753 - val_loss: 0.3675\n",
      "Epoch 4/20\n",
      "6940/6940 [==============================] - 2s 351us/step - loss: 0.7165 - val_loss: 0.3565\n",
      "Epoch 5/20\n",
      "6940/6940 [==============================] - 3s 421us/step - loss: 0.6386 - val_loss: 0.3432\n",
      "Epoch 6/20\n",
      "6940/6940 [==============================] - 2s 350us/step - loss: 0.5830 - val_loss: 0.3587\n",
      "Epoch 7/20\n",
      "6940/6940 [==============================] - 2s 353us/step - loss: 0.5365 - val_loss: 0.3363\n",
      "Epoch 8/20\n",
      "6940/6940 [==============================] - 2s 354us/step - loss: 0.4741 - val_loss: 0.3403\n",
      "Epoch 9/20\n",
      "6940/6940 [==============================] - 3s 438us/step - loss: 0.4424 - val_loss: 0.3408\n",
      "Epoch 10/20\n",
      "6940/6940 [==============================] - 3s 390us/step - loss: 0.4011 - val_loss: 0.3446\n",
      "Epoch 11/20\n",
      "6940/6940 [==============================] - 3s 421us/step - loss: 0.3804 - val_loss: 0.3550\n",
      "Epoch 12/20\n",
      "6940/6940 [==============================] - 2s 357us/step - loss: 0.3465 - val_loss: 0.3329\n",
      "Epoch 13/20\n",
      "6940/6940 [==============================] - 3s 378us/step - loss: 0.3364 - val_loss: 0.3834\n",
      "Epoch 14/20\n",
      "6940/6940 [==============================] - 2s 355us/step - loss: 0.3461 - val_loss: 0.3688\n",
      "Epoch 15/20\n",
      "6940/6940 [==============================] - 3s 372us/step - loss: 0.3062 - val_loss: 0.3564\n",
      "Epoch 16/20\n",
      "6940/6940 [==============================] - 3s 360us/step - loss: 0.2882 - val_loss: 0.3498\n",
      "Epoch 17/20\n",
      "6940/6940 [==============================] - 3s 382us/step - loss: 0.2778 - val_loss: 0.3920\n",
      "Epoch 18/20\n",
      "6940/6940 [==============================] - 3s 364us/step - loss: 0.2894 - val_loss: 0.3674\n",
      "Epoch 19/20\n",
      "6940/6940 [==============================] - 2s 353us/step - loss: 0.2837 - val_loss: 0.3767\n",
      "Epoch 20/20\n",
      "6940/6940 [==============================] - 3s 361us/step - loss: 0.2998 - val_loss: 0.3595\n"
     ]
    }
   ],
   "source": [
    "model = Sequential()\n",
    "model.add(Convolution1D(input_shape = (WINDOW, EMB_SIZE),\n",
    "                        nb_filter=32,\n",
    "                        filter_length=24,\n",
    "                        border_mode='same')#,\n",
    "                        #activation = 'relu'))\n",
    "model.add(BatchNormalization())\n",
    "model.add(ReLU())\n",
    "\n",
    "model.add(MaxPooling1D(pool_size=2, strides=None, padding='valid'))\n",
    "model.add(Convolution1D(nb_filter=16,\n",
    "                        filter_length=2,\n",
    "                        border_mode='same',\n",
    "                        activation = 'relu'))\n",
    "\n",
    "model.add(MaxPooling1D(pool_size=2, strides=None, padding='valid'))\n",
    "model.add(Flatten())\n",
    "\n",
    "model.add(Dense(64, activation='relu'))\n",
    "model.add(Dropout(0.3))\n",
    "model.add(Dense(1, activation='linear'))\n",
    "\n",
    "model.compile(optimizer='adam', \n",
    "              loss='mse')\n",
    "history = model.fit(X_train, Y_train, \n",
    "          nb_epoch = 20, \n",
    "          batch_size = 128, \n",
    "          verbose=1, \n",
    "          validation_split=0.2,\n",
    "          shuffle=False)"
   ]
  },
  {
   "cell_type": "code",
   "execution_count": 12,
   "metadata": {},
   "outputs": [
    {
     "name": "stdout",
     "output_type": "stream",
     "text": [
      "_________________________________________________________________\n",
      "Layer (type)                 Output Shape              Param #   \n",
      "=================================================================\n",
      "conv1d_1 (Conv1D)            (None, 167, 32)           2336      \n",
      "_________________________________________________________________\n",
      "max_pooling1d_1 (MaxPooling1 (None, 83, 32)            0         \n",
      "_________________________________________________________________\n",
      "conv1d_2 (Conv1D)            (None, 83, 16)            1040      \n",
      "_________________________________________________________________\n",
      "max_pooling1d_2 (MaxPooling1 (None, 41, 16)            0         \n",
      "_________________________________________________________________\n",
      "flatten_1 (Flatten)          (None, 656)               0         \n",
      "_________________________________________________________________\n",
      "dense_1 (Dense)              (None, 64)                42048     \n",
      "_________________________________________________________________\n",
      "dropout_1 (Dropout)          (None, 64)                0         \n",
      "_________________________________________________________________\n",
      "dense_2 (Dense)              (None, 1)                 65        \n",
      "=================================================================\n",
      "Total params: 45,489\n",
      "Trainable params: 45,489\n",
      "Non-trainable params: 0\n",
      "_________________________________________________________________\n",
      "None\n"
     ]
    }
   ],
   "source": [
    "print(model.summary())"
   ]
  },
  {
   "cell_type": "code",
   "execution_count": 13,
   "metadata": {},
   "outputs": [],
   "source": [
    "model.save('model.h5')\n",
    "#model.load_weights(\"model.hdf5\")\n",
    "pred = model.predict(np.array(X_test))"
   ]
  },
  {
   "cell_type": "code",
   "execution_count": 14,
   "metadata": {},
   "outputs": [
    {
     "data": {
      "image/png": "[encoded data removed]",
      "text/plain": [
       "<matplotlib.figure.Figure at 0x1120c3e48>"
      ]
     },
     "metadata": {},
     "output_type": "display_data"
    },
    {
     "data": {
      "image/png": "[encoded data removed]",
      "text/plain": [
       "<matplotlib.figure.Figure at 0x1117d0f60>"
      ]
     },
     "metadata": {},
     "output_type": "display_data"
    }
   ],
   "source": [
    "plt.figure()\n",
    "plt.plot(history.history['loss'])\n",
    "plt.plot(history.history['val_loss'])\n",
    "plt.title('model loss')\n",
    "plt.ylabel('loss')\n",
    "plt.xlabel('epoch')\n",
    "plt.legend(['train', 'test'], loc='best')\n",
    "plt.show()\n",
    "\n",
    "plt.figure()\n",
    "plt.plot(scaler_price.inverse_transform(Y_test))\n",
    "plt.plot(scaler_price.inverse_transform(pred))\n",
    "plt.title('time series')\n",
    "# plt.ylabel('loss')\n",
    "plt.xlabel('epoch')\n",
    "plt.legend(['Y_test', 'pred'], loc='best')\n",
    "plt.xlim(8500, 8700)\n",
    "plt.ylim(-70,70)\n",
    "plt.show()"
   ]
  },
  {
   "cell_type": "code",
   "execution_count": 15,
   "metadata": {},
   "outputs": [
    {
     "data": {
      "text/plain": [
       "29.529838379456432"
      ]
     },
     "execution_count": 15,
     "metadata": {},
     "output_type": "execute_result"
    }
   ],
   "source": [
    "np.sqrt(metrics.mean_squared_error(scaler_price.inverse_transform(Y_test), scaler_price.inverse_transform(pred)))"
   ]
  },
  {
   "cell_type": "code",
   "execution_count": 16,
   "metadata": {},
   "outputs": [
    {
     "data": {
      "text/plain": [
       "14.64112085358428"
      ]
     },
     "execution_count": 16,
     "metadata": {},
     "output_type": "execute_result"
    }
   ],
   "source": [
    "metrics.mean_absolute_error(scaler_price.inverse_transform(Y_test), scaler_price.inverse_transform(pred))"
   ]
  },
  {
   "cell_type": "code",
   "execution_count": null,
   "metadata": {},
   "outputs": [],
   "source": []
  }
 ],
 "metadata": {
  "anaconda-cloud": {},
  "kernelspec": {
   "display_name": "Python 3",
   "language": "python",
   "name": "python3"
  },
  "language_info": {
   "codemirror_mode": {
    "name": "ipython",
    "version": 3
   },
   "file_extension": ".py",
   "mimetype": "text/x-python",
   "name": "python",
   "nbconvert_exporter": "python",
   "pygments_lexer": "ipython3",
   "version": "3.5.4"
  }
 },
 "nbformat": 4,
 "nbformat_minor": 1
}
