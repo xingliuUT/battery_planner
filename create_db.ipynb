{
 "cells": [
  {
   "cell_type": "markdown",
   "metadata": {},
   "source": [
    "## Create a database"
   ]
  },
  {
   "cell_type": "code",
   "execution_count": 1,
   "metadata": {},
   "outputs": [],
   "source": [
    "from sqlalchemy import create_engine\n",
    "from sqlalchemy_utils import database_exists, create_database\n",
    "import psycopg2\n",
    "import pandas as pd"
   ]
  },
  {
   "cell_type": "code",
   "execution_count": 2,
   "metadata": {},
   "outputs": [],
   "source": [
    "# Define a database name (we're using a dataset on births, so we'll call it birth_db)\n",
    "# Set your postgres username\n",
    "dbname = 'prediction_db'\n",
    "username = 'xingliu' # change this to your username"
   ]
  },
  {
   "cell_type": "code",
   "execution_count": 3,
   "metadata": {},
   "outputs": [
    {
     "name": "stdout",
     "output_type": "stream",
     "text": [
      "postgres://xingliu@localhost/prediction_db\n"
     ]
    }
   ],
   "source": [
    "## 'engine' is a connection to a database\n",
    "## Here, we're using postgres, but sqlalchemy can connect to other things too.\n",
    "engine = create_engine('postgres://%s@localhost/%s'%(username,dbname))\n",
    "print(engine.url)"
   ]
  },
  {
   "cell_type": "code",
   "execution_count": 4,
   "metadata": {},
   "outputs": [
    {
     "name": "stdout",
     "output_type": "stream",
     "text": [
      "True\n"
     ]
    }
   ],
   "source": [
    "## create a database (if it doesn't exist)\n",
    "if not database_exists(engine.url):\n",
    "    create_database(engine.url)\n",
    "print(database_exists(engine.url))"
   ]
  },
  {
   "cell_type": "code",
   "execution_count": 15,
   "metadata": {},
   "outputs": [],
   "source": [
    "# pred50187 = pd.read_csv('forecastplantid50187.csv', parse_dates = ['ds'])\n",
    "# pred50187['plant_id'] = 50187"
   ]
  },
  {
   "cell_type": "code",
   "execution_count": 17,
   "metadata": {},
   "outputs": [],
   "source": [
    "# pred3845 = pd.read_csv('forecastplantid3845.csv', parse_dates = ['ds'])\n",
    "# pred3845['plant_id'] = 3845"
   ]
  },
  {
   "cell_type": "code",
   "execution_count": 18,
   "metadata": {},
   "outputs": [],
   "source": [
    "# pred54268 = pd.read_csv('forecastplantid54268.csv', parse_dates = ['ds'])\n",
    "# pred54268['plant_id'] = 54268"
   ]
  },
  {
   "cell_type": "code",
   "execution_count": 19,
   "metadata": {},
   "outputs": [],
   "source": [
    "# plant_pred = pd.concat([pred50187, pred3845, pred54268], axis = 0)"
   ]
  },
  {
   "cell_type": "code",
   "execution_count": 15,
   "metadata": {},
   "outputs": [],
   "source": [
    "df_price = pd.read_csv('nyiso_price_2017.csv', parse_dates=['time_stamp', 'time_stamp_local'])"
   ]
  },
  {
   "cell_type": "code",
   "execution_count": 16,
   "metadata": {},
   "outputs": [
    {
     "data": {
      "text/html": [
       "<div>\n",
       "<style>\n",
       "    .dataframe thead tr:only-child th {\n",
       "        text-align: right;\n",
       "    }\n",
       "\n",
       "    .dataframe thead th {\n",
       "        text-align: left;\n",
       "    }\n",
       "\n",
       "    .dataframe tbody tr th {\n",
       "        vertical-align: top;\n",
       "    }\n",
       "</style>\n",
       "<table border=\"1\" class=\"dataframe\">\n",
       "  <thead>\n",
       "    <tr style=\"text-align: right;\">\n",
       "      <th></th>\n",
       "      <th>time_stamp</th>\n",
       "      <th>lbmp_price</th>\n",
       "      <th>time_stamp_local</th>\n",
       "    </tr>\n",
       "  </thead>\n",
       "  <tbody>\n",
       "    <tr>\n",
       "      <th>113156</th>\n",
       "      <td>2018-01-25 19:15:00</td>\n",
       "      <td>30.12</td>\n",
       "      <td>2018-01-25 14:15:00</td>\n",
       "    </tr>\n",
       "    <tr>\n",
       "      <th>113157</th>\n",
       "      <td>2018-01-25 19:30:00</td>\n",
       "      <td>29.97</td>\n",
       "      <td>2018-01-25 14:30:00</td>\n",
       "    </tr>\n",
       "    <tr>\n",
       "      <th>113158</th>\n",
       "      <td>2018-01-25 19:45:00</td>\n",
       "      <td>29.78</td>\n",
       "      <td>2018-01-25 14:45:00</td>\n",
       "    </tr>\n",
       "    <tr>\n",
       "      <th>113159</th>\n",
       "      <td>2018-01-25 20:00:00</td>\n",
       "      <td>41.62</td>\n",
       "      <td>2018-01-25 15:00:00</td>\n",
       "    </tr>\n",
       "    <tr>\n",
       "      <th>113160</th>\n",
       "      <td>2018-01-25 20:15:00</td>\n",
       "      <td>41.34</td>\n",
       "      <td>2018-01-25 15:15:00</td>\n",
       "    </tr>\n",
       "  </tbody>\n",
       "</table>\n",
       "</div>"
      ],
      "text/plain": [
       "                time_stamp  lbmp_price    time_stamp_local\n",
       "113156 2018-01-25 19:15:00       30.12 2018-01-25 14:15:00\n",
       "113157 2018-01-25 19:30:00       29.97 2018-01-25 14:30:00\n",
       "113158 2018-01-25 19:45:00       29.78 2018-01-25 14:45:00\n",
       "113159 2018-01-25 20:00:00       41.62 2018-01-25 15:00:00\n",
       "113160 2018-01-25 20:15:00       41.34 2018-01-25 15:15:00"
      ]
     },
     "execution_count": 16,
     "metadata": {},
     "output_type": "execute_result"
    }
   ],
   "source": [
    "df_price.tail()"
   ]
  },
  {
   "cell_type": "code",
   "execution_count": 17,
   "metadata": {},
   "outputs": [],
   "source": [
    "prev1week_index_price = df_price.time_stamp_local >= pd.datetime(2018, 1, 18, 15, 15)\n",
    "\n",
    "df_price = df_price.loc[prev1week_index_price, :]"
   ]
  },
  {
   "cell_type": "code",
   "execution_count": 18,
   "metadata": {},
   "outputs": [],
   "source": [
    "df_price.drop('time_stamp', axis = 1, inplace = True)"
   ]
  },
  {
   "cell_type": "code",
   "execution_count": 20,
   "metadata": {},
   "outputs": [],
   "source": [
    "df_price.columns = ['price', 'time_stamp']"
   ]
  },
  {
   "cell_type": "code",
   "execution_count": 21,
   "metadata": {},
   "outputs": [],
   "source": [
    "df_price.set_index('time_stamp', inplace = True)"
   ]
  },
  {
   "cell_type": "code",
   "execution_count": 25,
   "metadata": {},
   "outputs": [
    {
     "data": {
      "text/html": [
       "<div>\n",
       "<style>\n",
       "    .dataframe thead tr:only-child th {\n",
       "        text-align: right;\n",
       "    }\n",
       "\n",
       "    .dataframe thead th {\n",
       "        text-align: left;\n",
       "    }\n",
       "\n",
       "    .dataframe tbody tr th {\n",
       "        vertical-align: top;\n",
       "    }\n",
       "</style>\n",
       "<table border=\"1\" class=\"dataframe\">\n",
       "  <thead>\n",
       "    <tr style=\"text-align: right;\">\n",
       "      <th></th>\n",
       "      <th>price</th>\n",
       "    </tr>\n",
       "    <tr>\n",
       "      <th>time_stamp</th>\n",
       "      <th></th>\n",
       "    </tr>\n",
       "  </thead>\n",
       "  <tbody>\n",
       "    <tr>\n",
       "      <th>2018-01-18 15:15:00</th>\n",
       "      <td>103.02</td>\n",
       "    </tr>\n",
       "    <tr>\n",
       "      <th>2018-01-18 15:20:00</th>\n",
       "      <td>103.51</td>\n",
       "    </tr>\n",
       "    <tr>\n",
       "      <th>2018-01-18 15:25:00</th>\n",
       "      <td>103.99</td>\n",
       "    </tr>\n",
       "    <tr>\n",
       "      <th>2018-01-18 15:30:00</th>\n",
       "      <td>115.34</td>\n",
       "    </tr>\n",
       "    <tr>\n",
       "      <th>2018-01-18 15:35:00</th>\n",
       "      <td>115.71</td>\n",
       "    </tr>\n",
       "  </tbody>\n",
       "</table>\n",
       "</div>"
      ],
      "text/plain": [
       "                      price\n",
       "time_stamp                 \n",
       "2018-01-18 15:15:00  103.02\n",
       "2018-01-18 15:20:00  103.51\n",
       "2018-01-18 15:25:00  103.99\n",
       "2018-01-18 15:30:00  115.34\n",
       "2018-01-18 15:35:00  115.71"
      ]
     },
     "execution_count": 25,
     "metadata": {},
     "output_type": "execute_result"
    }
   ],
   "source": [
    "df_price.head()"
   ]
  },
  {
   "cell_type": "code",
   "execution_count": 26,
   "metadata": {},
   "outputs": [],
   "source": [
    "df_price_byhour = df_price.resample('1H').mean()"
   ]
  },
  {
   "cell_type": "code",
   "execution_count": 28,
   "metadata": {},
   "outputs": [],
   "source": [
    "df_price_byhour.reset_index(inplace=True)"
   ]
  },
  {
   "cell_type": "code",
   "execution_count": 34,
   "metadata": {},
   "outputs": [
    {
     "data": {
      "text/html": [
       "<div>\n",
       "<style>\n",
       "    .dataframe thead tr:only-child th {\n",
       "        text-align: right;\n",
       "    }\n",
       "\n",
       "    .dataframe thead th {\n",
       "        text-align: left;\n",
       "    }\n",
       "\n",
       "    .dataframe tbody tr th {\n",
       "        vertical-align: top;\n",
       "    }\n",
       "</style>\n",
       "<table border=\"1\" class=\"dataframe\">\n",
       "  <thead>\n",
       "    <tr style=\"text-align: right;\">\n",
       "      <th></th>\n",
       "      <th>time_stamp</th>\n",
       "      <th>price</th>\n",
       "      <th>hour</th>\n",
       "    </tr>\n",
       "  </thead>\n",
       "  <tbody>\n",
       "    <tr>\n",
       "      <th>0</th>\n",
       "      <td>2018-01-18 15:00:00</td>\n",
       "      <td>100.691111</td>\n",
       "      <td>15</td>\n",
       "    </tr>\n",
       "    <tr>\n",
       "      <th>1</th>\n",
       "      <td>2018-01-18 16:00:00</td>\n",
       "      <td>106.969286</td>\n",
       "      <td>16</td>\n",
       "    </tr>\n",
       "  </tbody>\n",
       "</table>\n",
       "</div>"
      ],
      "text/plain": [
       "           time_stamp       price  hour\n",
       "0 2018-01-18 15:00:00  100.691111    15\n",
       "1 2018-01-18 16:00:00  106.969286    16"
      ]
     },
     "execution_count": 34,
     "metadata": {},
     "output_type": "execute_result"
    }
   ],
   "source": [
    "df_price_byhour.head(2)"
   ]
  },
  {
   "cell_type": "code",
   "execution_count": 33,
   "metadata": {},
   "outputs": [],
   "source": [
    "df_price_byhour['hour'] = df_price_byhour.time_stamp.apply(lambda x: x.hour)"
   ]
  },
  {
   "cell_type": "code",
   "execution_count": 45,
   "metadata": {},
   "outputs": [],
   "source": [
    "df_price_pred = df_price_byhour.loc[:,['hour', 'price']].groupby('hour').mean()"
   ]
  },
  {
   "cell_type": "code",
   "execution_count": 47,
   "metadata": {},
   "outputs": [],
   "source": [
    "df_price_pred.sort_values(by='price', inplace = True)"
   ]
  },
  {
   "cell_type": "code",
   "execution_count": 50,
   "metadata": {},
   "outputs": [],
   "source": [
    "df_price_pred.reset_index(inplace=True)"
   ]
  },
  {
   "cell_type": "code",
   "execution_count": 51,
   "metadata": {},
   "outputs": [
    {
     "data": {
      "text/html": [
       "<div>\n",
       "<style>\n",
       "    .dataframe thead tr:only-child th {\n",
       "        text-align: right;\n",
       "    }\n",
       "\n",
       "    .dataframe thead th {\n",
       "        text-align: left;\n",
       "    }\n",
       "\n",
       "    .dataframe tbody tr th {\n",
       "        vertical-align: top;\n",
       "    }\n",
       "</style>\n",
       "<table border=\"1\" class=\"dataframe\">\n",
       "  <thead>\n",
       "    <tr style=\"text-align: right;\">\n",
       "      <th></th>\n",
       "      <th>hour</th>\n",
       "      <th>price</th>\n",
       "    </tr>\n",
       "  </thead>\n",
       "  <tbody>\n",
       "    <tr>\n",
       "      <th>0</th>\n",
       "      <td>23</td>\n",
       "      <td>29.848452</td>\n",
       "    </tr>\n",
       "    <tr>\n",
       "      <th>1</th>\n",
       "      <td>2</td>\n",
       "      <td>31.582738</td>\n",
       "    </tr>\n",
       "    <tr>\n",
       "      <th>2</th>\n",
       "      <td>1</td>\n",
       "      <td>31.740238</td>\n",
       "    </tr>\n",
       "    <tr>\n",
       "      <th>3</th>\n",
       "      <td>0</td>\n",
       "      <td>32.341310</td>\n",
       "    </tr>\n",
       "    <tr>\n",
       "      <th>4</th>\n",
       "      <td>13</td>\n",
       "      <td>32.540595</td>\n",
       "    </tr>\n",
       "    <tr>\n",
       "      <th>5</th>\n",
       "      <td>14</td>\n",
       "      <td>32.838810</td>\n",
       "    </tr>\n",
       "    <tr>\n",
       "      <th>6</th>\n",
       "      <td>4</td>\n",
       "      <td>32.923095</td>\n",
       "    </tr>\n",
       "    <tr>\n",
       "      <th>7</th>\n",
       "      <td>5</td>\n",
       "      <td>34.950969</td>\n",
       "    </tr>\n",
       "    <tr>\n",
       "      <th>8</th>\n",
       "      <td>3</td>\n",
       "      <td>35.208452</td>\n",
       "    </tr>\n",
       "    <tr>\n",
       "      <th>9</th>\n",
       "      <td>11</td>\n",
       "      <td>35.694405</td>\n",
       "    </tr>\n",
       "    <tr>\n",
       "      <th>10</th>\n",
       "      <td>12</td>\n",
       "      <td>35.977976</td>\n",
       "    </tr>\n",
       "    <tr>\n",
       "      <th>11</th>\n",
       "      <td>22</td>\n",
       "      <td>36.518571</td>\n",
       "    </tr>\n",
       "    <tr>\n",
       "      <th>12</th>\n",
       "      <td>6</td>\n",
       "      <td>36.940714</td>\n",
       "    </tr>\n",
       "    <tr>\n",
       "      <th>13</th>\n",
       "      <td>10</td>\n",
       "      <td>40.434286</td>\n",
       "    </tr>\n",
       "    <tr>\n",
       "      <th>14</th>\n",
       "      <td>15</td>\n",
       "      <td>42.685972</td>\n",
       "    </tr>\n",
       "    <tr>\n",
       "      <th>15</th>\n",
       "      <td>16</td>\n",
       "      <td>51.797160</td>\n",
       "    </tr>\n",
       "    <tr>\n",
       "      <th>16</th>\n",
       "      <td>7</td>\n",
       "      <td>52.073333</td>\n",
       "    </tr>\n",
       "    <tr>\n",
       "      <th>17</th>\n",
       "      <td>9</td>\n",
       "      <td>56.217976</td>\n",
       "    </tr>\n",
       "    <tr>\n",
       "      <th>18</th>\n",
       "      <td>21</td>\n",
       "      <td>56.926786</td>\n",
       "    </tr>\n",
       "    <tr>\n",
       "      <th>19</th>\n",
       "      <td>8</td>\n",
       "      <td>61.591071</td>\n",
       "    </tr>\n",
       "    <tr>\n",
       "      <th>20</th>\n",
       "      <td>17</td>\n",
       "      <td>69.655476</td>\n",
       "    </tr>\n",
       "    <tr>\n",
       "      <th>21</th>\n",
       "      <td>20</td>\n",
       "      <td>74.768095</td>\n",
       "    </tr>\n",
       "    <tr>\n",
       "      <th>22</th>\n",
       "      <td>18</td>\n",
       "      <td>93.707143</td>\n",
       "    </tr>\n",
       "    <tr>\n",
       "      <th>23</th>\n",
       "      <td>19</td>\n",
       "      <td>104.770952</td>\n",
       "    </tr>\n",
       "  </tbody>\n",
       "</table>\n",
       "</div>"
      ],
      "text/plain": [
       "    hour       price\n",
       "0     23   29.848452\n",
       "1      2   31.582738\n",
       "2      1   31.740238\n",
       "3      0   32.341310\n",
       "4     13   32.540595\n",
       "5     14   32.838810\n",
       "6      4   32.923095\n",
       "7      5   34.950969\n",
       "8      3   35.208452\n",
       "9     11   35.694405\n",
       "10    12   35.977976\n",
       "11    22   36.518571\n",
       "12     6   36.940714\n",
       "13    10   40.434286\n",
       "14    15   42.685972\n",
       "15    16   51.797160\n",
       "16     7   52.073333\n",
       "17     9   56.217976\n",
       "18    21   56.926786\n",
       "19     8   61.591071\n",
       "20    17   69.655476\n",
       "21    20   74.768095\n",
       "22    18   93.707143\n",
       "23    19  104.770952"
      ]
     },
     "execution_count": 51,
     "metadata": {},
     "output_type": "execute_result"
    }
   ],
   "source": [
    "df_price_pred"
   ]
  },
  {
   "cell_type": "code",
   "execution_count": 52,
   "metadata": {},
   "outputs": [],
   "source": [
    "## insert data into database from Python (proof of concept - this won't be useful for big data, of course)\n",
    "df_price_pred.to_sql('prediction_table', engine, index = False, if_exists='replace')"
   ]
  },
  {
   "cell_type": "markdown",
   "metadata": {},
   "source": [
    "The above line (to_sql) is doing a lot of heavy lifting.  It's reading a dataframe, it's creating a table, and adding the data to the table.  So ** SQLAlchemy is quite useful! **"
   ]
  },
  {
   "cell_type": "markdown",
   "metadata": {},
   "source": [
    "## Working with PostgresSQL without Python\n",
    "\n",
    "**Open up the PostgreSQL app, click on the \"Open psql\" button in the bottom right corner, ** <br>\n",
    "\n",
    "or alternatively type <br>\n",
    "\n",
    "    psql -h localhost\n",
    "\n",
    "into the command line  "
   ]
  },
  {
   "cell_type": "markdown",
   "metadata": {},
   "source": [
    "**Connect to the \"birth_db\" database we created**\n",
    "\n",
    "    \\c birth_db\n",
    "\n",
    "**You should see something like the following**\n",
    "\n",
    "`You are now connected to database \"birth_db\" as user \"rockson\".`\n",
    "\n",
    "\n",
    "**Then try the following query:**\n",
    "\n",
    "    SELECT * FROM birth_data_table;\n",
    "    \n",
    "Note that the semi-colon indicates an end-of-statement."
   ]
  },
  {
   "cell_type": "markdown",
   "metadata": {},
   "source": [
    "### You can see the table we created!  But it's kinda ugly and hard to read."
   ]
  },
  {
   "cell_type": "markdown",
   "metadata": {},
   "source": [
    "Try a few other sample queries.  Before you type in each one, ask yourself what you think the output will look like:\n",
    "\n",
    "`SELECT * FROM birth_data_table WHERE infant_sex='M';`\n",
    "\n",
    "`SELECT COUNT(infant_sex) FROM birth_data_table WHERE infant_sex='M';`\n",
    "\n",
    "`SELECT COUNT(gestation_weeks), infant_sex FROM birth_data_table WHERE infant_sex = 'M' GROUP BY gestation_weeks, infant_sex;`\n",
    "\n",
    "`SELECT gestation_weeks, COUNT(gestation_weeks) FROM birth_data_table WHERE infant_sex = 'M' GROUP BY gestation_weeks;`\n",
    "\n",
    "All the above queries run, but they are difficult to visually inspect in the Postgres terminal."
   ]
  },
  {
   "cell_type": "markdown",
   "metadata": {},
   "source": [
    "## Working with PostgreSQL in Python"
   ]
  },
  {
   "cell_type": "code",
   "execution_count": 23,
   "metadata": {},
   "outputs": [
    {
     "data": {
      "text/html": [
       "<div>\n",
       "<style>\n",
       "    .dataframe thead tr:only-child th {\n",
       "        text-align: right;\n",
       "    }\n",
       "\n",
       "    .dataframe thead th {\n",
       "        text-align: left;\n",
       "    }\n",
       "\n",
       "    .dataframe tbody tr th {\n",
       "        vertical-align: top;\n",
       "    }\n",
       "</style>\n",
       "<table border=\"1\" class=\"dataframe\">\n",
       "  <thead>\n",
       "    <tr style=\"text-align: right;\">\n",
       "      <th></th>\n",
       "      <th>ds</th>\n",
       "      <th>trend</th>\n",
       "      <th>trend_lower</th>\n",
       "      <th>trend_upper</th>\n",
       "      <th>yhat_lower</th>\n",
       "      <th>yhat_upper</th>\n",
       "      <th>seasonal</th>\n",
       "      <th>seasonal_lower</th>\n",
       "      <th>seasonal_upper</th>\n",
       "      <th>seasonalities</th>\n",
       "      <th>seasonalities_lower</th>\n",
       "      <th>seasonalities_upper</th>\n",
       "      <th>yearly</th>\n",
       "      <th>yearly_lower</th>\n",
       "      <th>yearly_upper</th>\n",
       "      <th>yhat</th>\n",
       "      <th>plant_id</th>\n",
       "    </tr>\n",
       "  </thead>\n",
       "  <tbody>\n",
       "    <tr>\n",
       "      <th>0</th>\n",
       "      <td>2007-01-31</td>\n",
       "      <td>723552.305973</td>\n",
       "      <td>723552.305973</td>\n",
       "      <td>723552.305973</td>\n",
       "      <td>579763.183656</td>\n",
       "      <td>1.059725e+06</td>\n",
       "      <td>100794.288359</td>\n",
       "      <td>100794.288359</td>\n",
       "      <td>100794.288359</td>\n",
       "      <td>100794.288359</td>\n",
       "      <td>100794.288359</td>\n",
       "      <td>100794.288359</td>\n",
       "      <td>100794.288359</td>\n",
       "      <td>100794.288359</td>\n",
       "      <td>100794.288359</td>\n",
       "      <td>824346.594332</td>\n",
       "      <td>3845</td>\n",
       "    </tr>\n",
       "    <tr>\n",
       "      <th>1</th>\n",
       "      <td>2007-02-28</td>\n",
       "      <td>720898.443786</td>\n",
       "      <td>720898.443786</td>\n",
       "      <td>720898.443786</td>\n",
       "      <td>334814.832317</td>\n",
       "      <td>8.584522e+05</td>\n",
       "      <td>-122945.732510</td>\n",
       "      <td>-122945.732510</td>\n",
       "      <td>-122945.732510</td>\n",
       "      <td>-122945.732510</td>\n",
       "      <td>-122945.732510</td>\n",
       "      <td>-122945.732510</td>\n",
       "      <td>-122945.732510</td>\n",
       "      <td>-122945.732510</td>\n",
       "      <td>-122945.732510</td>\n",
       "      <td>597952.711277</td>\n",
       "      <td>3845</td>\n",
       "    </tr>\n",
       "    <tr>\n",
       "      <th>2</th>\n",
       "      <td>2007-03-31</td>\n",
       "      <td>717960.239222</td>\n",
       "      <td>717960.239222</td>\n",
       "      <td>717960.239222</td>\n",
       "      <td>309813.118689</td>\n",
       "      <td>8.224113e+05</td>\n",
       "      <td>-150057.285630</td>\n",
       "      <td>-150057.285630</td>\n",
       "      <td>-150057.285630</td>\n",
       "      <td>-150057.285630</td>\n",
       "      <td>-150057.285630</td>\n",
       "      <td>-150057.285630</td>\n",
       "      <td>-150057.285630</td>\n",
       "      <td>-150057.285630</td>\n",
       "      <td>-150057.285630</td>\n",
       "      <td>567902.953592</td>\n",
       "      <td>3845</td>\n",
       "    </tr>\n",
       "    <tr>\n",
       "      <th>3</th>\n",
       "      <td>2007-04-30</td>\n",
       "      <td>715116.815450</td>\n",
       "      <td>715116.815450</td>\n",
       "      <td>715116.815450</td>\n",
       "      <td>119627.665185</td>\n",
       "      <td>6.371632e+05</td>\n",
       "      <td>-335516.867712</td>\n",
       "      <td>-335516.867712</td>\n",
       "      <td>-335516.867712</td>\n",
       "      <td>-335516.867712</td>\n",
       "      <td>-335516.867712</td>\n",
       "      <td>-335516.867712</td>\n",
       "      <td>-335516.867712</td>\n",
       "      <td>-335516.867712</td>\n",
       "      <td>-335516.867712</td>\n",
       "      <td>379599.947738</td>\n",
       "      <td>3845</td>\n",
       "    </tr>\n",
       "    <tr>\n",
       "      <th>4</th>\n",
       "      <td>2007-05-31</td>\n",
       "      <td>712178.610886</td>\n",
       "      <td>712178.610886</td>\n",
       "      <td>712178.610886</td>\n",
       "      <td>19117.550780</td>\n",
       "      <td>5.379736e+05</td>\n",
       "      <td>-426145.673792</td>\n",
       "      <td>-426145.673792</td>\n",
       "      <td>-426145.673792</td>\n",
       "      <td>-426145.673792</td>\n",
       "      <td>-426145.673792</td>\n",
       "      <td>-426145.673792</td>\n",
       "      <td>-426145.673792</td>\n",
       "      <td>-426145.673792</td>\n",
       "      <td>-426145.673792</td>\n",
       "      <td>286032.937094</td>\n",
       "      <td>3845</td>\n",
       "    </tr>\n",
       "  </tbody>\n",
       "</table>\n",
       "</div>"
      ],
      "text/plain": [
       "          ds          trend    trend_lower    trend_upper     yhat_lower  \\\n",
       "0 2007-01-31  723552.305973  723552.305973  723552.305973  579763.183656   \n",
       "1 2007-02-28  720898.443786  720898.443786  720898.443786  334814.832317   \n",
       "2 2007-03-31  717960.239222  717960.239222  717960.239222  309813.118689   \n",
       "3 2007-04-30  715116.815450  715116.815450  715116.815450  119627.665185   \n",
       "4 2007-05-31  712178.610886  712178.610886  712178.610886   19117.550780   \n",
       "\n",
       "     yhat_upper       seasonal  seasonal_lower  seasonal_upper  seasonalities  \\\n",
       "0  1.059725e+06  100794.288359   100794.288359   100794.288359  100794.288359   \n",
       "1  8.584522e+05 -122945.732510  -122945.732510  -122945.732510 -122945.732510   \n",
       "2  8.224113e+05 -150057.285630  -150057.285630  -150057.285630 -150057.285630   \n",
       "3  6.371632e+05 -335516.867712  -335516.867712  -335516.867712 -335516.867712   \n",
       "4  5.379736e+05 -426145.673792  -426145.673792  -426145.673792 -426145.673792   \n",
       "\n",
       "   seasonalities_lower  seasonalities_upper         yearly   yearly_lower  \\\n",
       "0        100794.288359        100794.288359  100794.288359  100794.288359   \n",
       "1       -122945.732510       -122945.732510 -122945.732510 -122945.732510   \n",
       "2       -150057.285630       -150057.285630 -150057.285630 -150057.285630   \n",
       "3       -335516.867712       -335516.867712 -335516.867712 -335516.867712   \n",
       "4       -426145.673792       -426145.673792 -426145.673792 -426145.673792   \n",
       "\n",
       "    yearly_upper           yhat  plant_id  \n",
       "0  100794.288359  824346.594332      3845  \n",
       "1 -122945.732510  597952.711277      3845  \n",
       "2 -150057.285630  567902.953592      3845  \n",
       "3 -335516.867712  379599.947738      3845  \n",
       "4 -426145.673792  286032.937094      3845  "
      ]
     },
     "execution_count": 23,
     "metadata": {},
     "output_type": "execute_result"
    }
   ],
   "source": [
    "# Connect to make queries using psycopg2\n",
    "con = None\n",
    "con = psycopg2.connect(database = dbname, user = username)\n",
    "\n",
    "# query:\n",
    "sql_query = \"\"\"\n",
    "SELECT * FROM prediction_table WHERE plant_id=3845;\n",
    "\"\"\"\n",
    "netgen_from_sql = pd.read_sql_query(sql_query,con)\n",
    "netgen_from_sql.head()"
   ]
  },
  {
   "cell_type": "markdown",
   "metadata": {},
   "source": [
    "Once the data has been pulled into python, we can leverage pandas methods to work with the data."
   ]
  }
 ],
 "metadata": {
  "anaconda-cloud": {},
  "kernelspec": {
   "display_name": "Python 3",
   "language": "python",
   "name": "python3"
  },
  "language_info": {
   "codemirror_mode": {
    "name": "ipython",
    "version": 3
   },
   "file_extension": ".py",
   "mimetype": "text/x-python",
   "name": "python",
   "nbconvert_exporter": "python",
   "pygments_lexer": "ipython3",
   "version": "3.5.4"
  }
 },
 "nbformat": 4,
 "nbformat_minor": 1
}
