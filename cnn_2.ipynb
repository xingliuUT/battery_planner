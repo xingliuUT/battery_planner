{
 "cells": [
  {
   "cell_type": "markdown",
   "metadata": {},
   "source": [
    "## Electricity price prediction for NYC"
   ]
  },
  {
   "cell_type": "code",
   "execution_count": 1,
   "metadata": {},
   "outputs": [
    {
     "name": "stderr",
     "output_type": "stream",
     "text": [
      "Using TensorFlow backend.\n"
     ]
    }
   ],
   "source": [
    "import pandas as pd\n",
    "\n",
    "import numpy as np\n",
    "from sklearn import preprocessing\n",
    "from sklearn import metrics\n",
    "import matplotlib.pylab as plt\n",
    "import datetime as dt\n",
    "import time\n",
    "\n",
    "from keras.models import Sequential\n",
    "from keras.layers.core import Dense, Dropout, Activation, Flatten\n",
    "from keras.layers.recurrent import LSTM, GRU\n",
    "from keras.layers import Convolution1D, MaxPooling1D, AtrousConvolution1D, RepeatVector\n",
    "from keras.callbacks import ModelCheckpoint, ReduceLROnPlateau, CSVLogger\n",
    "from keras.layers.wrappers import Bidirectional\n",
    "from keras import regularizers\n",
    "from keras.layers.normalization import BatchNormalization\n",
    "from keras.layers.advanced_activations import *\n",
    "from keras.optimizers import RMSprop, Adam, SGD, Nadam\n",
    "from keras.initializers import *"
   ]
  },
  {
   "cell_type": "code",
   "execution_count": 2,
   "metadata": {},
   "outputs": [],
   "source": [
    "df_data = pd.read_csv('full_diff_data_2016_2017.csv', parse_dates=['time_stamp', 'time_stamp_local'])\n",
    "df_data.set_index('time_stamp', inplace = True)"
   ]
  },
  {
   "cell_type": "code",
   "execution_count": 3,
   "metadata": {},
   "outputs": [
    {
     "data": {
      "text/plain": [
       "(17520, 10)"
      ]
     },
     "execution_count": 3,
     "metadata": {},
     "output_type": "execute_result"
    }
   ],
   "source": [
    "df_data.shape"
   ]
  },
  {
   "cell_type": "code",
   "execution_count": 4,
   "metadata": {},
   "outputs": [
    {
     "data": {
      "text/plain": [
       "Index(['time_stamp_local', 'price', 'price_24hr_ago', 'price_diff', 'load',\n",
       "       'load_24hr_ago', 'load_diff', 'temp', 'temp_24hr_ago', 'temp_diff'],\n",
       "      dtype='object')"
      ]
     },
     "execution_count": 4,
     "metadata": {},
     "output_type": "execute_result"
    }
   ],
   "source": [
    "df_data.columns"
   ]
  },
  {
   "cell_type": "code",
   "execution_count": 5,
   "metadata": {},
   "outputs": [],
   "source": [
    "def train_test_ts_split(X, y, percentage=0.9):\n",
    "    X_train = X[0:int(len(X) * percentage)]\n",
    "    Y_train = y[0:int(len(y) * percentage)]\n",
    "    \n",
    "    #X_train, Y_train = shuffle_Xy(X_train, Y_train)\n",
    "\n",
    "    X_test = X[int(len(X) * percentage):]\n",
    "    Y_test = y[int(len(X) * percentage):]\n",
    "\n",
    "    return X_train, X_test, Y_train, Y_test"
   ]
  },
  {
   "cell_type": "code",
   "execution_count": 6,
   "metadata": {},
   "outputs": [],
   "source": [
    "scaler_price = preprocessing.StandardScaler().fit(df_data.price.values.reshape(-1, 1))\n",
    "scaler_load = preprocessing.StandardScaler().fit(df_data.load.values.reshape(-1, 1))\n",
    "scaler_temp = preprocessing.StandardScaler().fit(df_data.temp.values.reshape(-1, 1))\n",
    "# # scaler_price = preprocessing.MinMaxScaler().fit(df_data.price_diff.values.reshape(-1, 1))\n",
    "# # scaler_load = preprocessing.MinMaxScaler().fit(df_data.load_diff.values.reshape(-1, 1))\n",
    "# # scaler_temp = preprocessing.MinMaxScaler().fit(df_data.temp_diff.values.reshape(-1, 1))\n",
    "\n",
    "df_data.loc[:,'price_norm'] = scaler_price.transform(df_data.price.values.reshape(-1, 1))\n",
    "df_data.loc[:,'load_norm'] = scaler_load.transform(df_data.load.values.reshape(-1, 1))\n",
    "df_data.loc[:,'temp_norm'] = scaler_temp.transform(df_data.temp.values.reshape(-1, 1))"
   ]
  },
  {
   "cell_type": "code",
   "execution_count": 7,
   "metadata": {},
   "outputs": [],
   "source": [
    "WINDOW = 24 * 7 - 1\n",
    "EMB_SIZE = 3\n",
    "STEP = 1\n",
    "FORECAST = 1\n",
    "\n",
    "X, Y = [], []\n",
    "for i in range(0, df_data.shape[0], STEP): \n",
    "    try:\n",
    "        price_byweek = df_data.price_norm.values[i: i + WINDOW]\n",
    "        load_byweek = df_data.load_norm.values[i: i + WINDOW]\n",
    "        temp_byweek = df_data.temp_norm.values[i: i + WINDOW]\n",
    "\n",
    "#         price_byweek = df_data.price.values[i: i + WINDOW]\n",
    "#         load_byweek = df_data.load.values[i: i + WINDOW]\n",
    "#         temp_byweek = df_data.temp.values[i: i + WINDOW]\n",
    "\n",
    "        \n",
    "#         price_norm = (np.array(price_byweek) - np.mean(price_byweek)) / np.std(price_byweek)\n",
    "#         load_norm = (np.array(load_byweek) - np.mean(load_byweek)) / np.std(load_byweek)\n",
    "#         temp_norm = (np.array(temp_byweek) - np.mean(temp_byweek)) / np.std(temp_byweek)\n",
    "        \n",
    "#         x_i = np.column_stack((price_norm, load_norm, temp_norm))\n",
    "        x_i = np.column_stack((price_byweek, load_byweek, temp_byweek))\n",
    "\n",
    "        y_i = df_data.price.values[i + WINDOW + FORECAST]\n",
    "    except Exception as e:\n",
    "        break\n",
    "\n",
    "    X.append(x_i)\n",
    "    Y.append(y_i)\n",
    "\n",
    "X, Y = np.array(X), np.array(Y)"
   ]
  },
  {
   "cell_type": "code",
   "execution_count": 8,
   "metadata": {},
   "outputs": [
    {
     "data": {
      "text/plain": [
       "((17352, 167, 3), (17352,))"
      ]
     },
     "execution_count": 8,
     "metadata": {},
     "output_type": "execute_result"
    }
   ],
   "source": [
    "X.shape, Y.shape"
   ]
  },
  {
   "cell_type": "code",
   "execution_count": 9,
   "metadata": {},
   "outputs": [
    {
     "data": {
      "text/plain": [
       "((15616, 167, 3), (1736, 167, 3), (15616,), (1736,))"
      ]
     },
     "execution_count": 9,
     "metadata": {},
     "output_type": "execute_result"
    }
   ],
   "source": [
    "X_train, X_test, Y_train, Y_test = train_test_ts_split(X, Y, percentage = 0.9)\n",
    "X_train.shape, X_test.shape, Y_train.shape, Y_test.shape"
   ]
  },
  {
   "cell_type": "code",
   "execution_count": 10,
   "metadata": {},
   "outputs": [
    {
     "data": {
      "text/plain": [
       "((15616, 167, 3), (1736, 167, 3), (15616,), (1736,))"
      ]
     },
     "execution_count": 10,
     "metadata": {},
     "output_type": "execute_result"
    }
   ],
   "source": [
    "X_train = np.reshape(X_train, (X_train.shape[0], X_train.shape[1], EMB_SIZE))\n",
    "X_test = np.reshape(X_test, (X_test.shape[0], X_test.shape[1], EMB_SIZE))\n",
    "X_train.shape, X_test.shape, Y_train.shape, Y_test.shape"
   ]
  },
  {
   "cell_type": "code",
   "execution_count": 11,
   "metadata": {},
   "outputs": [],
   "source": [
    "checkpointer = ModelCheckpoint(filepath='best_weights.hdf5', \n",
    "                               verbose=1, save_best_only=True)"
   ]
  },
  {
   "cell_type": "code",
   "execution_count": 12,
   "metadata": {},
   "outputs": [
    {
     "name": "stderr",
     "output_type": "stream",
     "text": [
      "/anaconda/envs/py35/lib/python3.5/site-packages/ipykernel_launcher.py:5: UserWarning: Update your `Conv1D` call to the Keras 2 API: `Conv1D(filters=32, kernel_size=24, padding=\"same\", input_shape=(167, 3))`\n",
      "  \"\"\"\n",
      "/anaconda/envs/py35/lib/python3.5/site-packages/ipykernel_launcher.py:13: UserWarning: Update your `Conv1D` call to the Keras 2 API: `Conv1D(filters=16, kernel_size=2, padding=\"same\")`\n",
      "  del sys.path[0]\n",
      "/anaconda/envs/py35/lib/python3.5/site-packages/keras/models.py:874: UserWarning: The `nb_epoch` argument in `fit` has been renamed `epochs`.\n",
      "  warnings.warn('The `nb_epoch` argument in `fit` '\n"
     ]
    },
    {
     "name": "stdout",
     "output_type": "stream",
     "text": [
      "Train on 12492 samples, validate on 3124 samples\n",
      "Epoch 1/20\n",
      "12416/12492 [============================>.] - ETA: 0s - loss: 896.3082Epoch 00001: val_loss improved from inf to 461.82540, saving model to best_weights.hdf5\n",
      "12492/12492 [==============================] - 16s 1ms/step - loss: 893.1405 - val_loss: 461.8254\n",
      "Epoch 2/20\n",
      "12416/12492 [============================>.] - ETA: 0s - loss: 725.3681Epoch 00002: val_loss improved from 461.82540 to 430.46420, saving model to best_weights.hdf5\n",
      "12492/12492 [==============================] - 14s 1ms/step - loss: 722.5728 - val_loss: 430.4642\n",
      "Epoch 3/20\n",
      "12416/12492 [============================>.] - ETA: 0s - loss: 698.9599Epoch 00003: val_loss improved from 430.46420 to 356.19582, saving model to best_weights.hdf5\n",
      "12492/12492 [==============================] - 15s 1ms/step - loss: 696.2032 - val_loss: 356.1958\n",
      "Epoch 4/20\n",
      "12416/12492 [============================>.] - ETA: 0s - loss: 680.9170Epoch 00004: val_loss improved from 356.19582 to 332.79211, saving model to best_weights.hdf5\n",
      "12492/12492 [==============================] - 15s 1ms/step - loss: 678.8842 - val_loss: 332.7921\n",
      "Epoch 5/20\n",
      "12416/12492 [============================>.] - ETA: 0s - loss: 665.5496Epoch 00005: val_loss improved from 332.79211 to 303.60226, saving model to best_weights.hdf5\n",
      "12492/12492 [==============================] - 14s 1ms/step - loss: 662.1808 - val_loss: 303.6023\n",
      "Epoch 6/20\n",
      "12416/12492 [============================>.] - ETA: 0s - loss: 654.4873Epoch 00006: val_loss did not improve\n",
      "12492/12492 [==============================] - 14s 1ms/step - loss: 651.6688 - val_loss: 310.8400\n",
      "Epoch 7/20\n",
      "12416/12492 [============================>.] - ETA: 0s - loss: 638.2917Epoch 00007: val_loss improved from 303.60226 to 295.47029, saving model to best_weights.hdf5\n",
      "12492/12492 [==============================] - 14s 1ms/step - loss: 637.6624 - val_loss: 295.4703\n",
      "Epoch 8/20\n",
      "12416/12492 [============================>.] - ETA: 0s - loss: 631.4616Epoch 00008: val_loss did not improve\n",
      "12492/12492 [==============================] - 14s 1ms/step - loss: 628.7379 - val_loss: 320.9225\n",
      "Epoch 9/20\n",
      "12416/12492 [============================>.] - ETA: 0s - loss: 620.8287Epoch 00009: val_loss improved from 295.47029 to 284.10188, saving model to best_weights.hdf5\n",
      "12492/12492 [==============================] - 15s 1ms/step - loss: 618.6177 - val_loss: 284.1019\n",
      "Epoch 10/20\n",
      "12416/12492 [============================>.] - ETA: 0s - loss: 611.3149Epoch 00010: val_loss did not improve\n",
      "12492/12492 [==============================] - 15s 1ms/step - loss: 614.4990 - val_loss: 288.4816\n",
      "Epoch 11/20\n",
      "12416/12492 [============================>.] - ETA: 0s - loss: 633.1020Epoch 00011: val_loss did not improve\n",
      "12492/12492 [==============================] - 15s 1ms/step - loss: 630.5802 - val_loss: 285.0847\n",
      "Epoch 12/20\n",
      "12416/12492 [============================>.] - ETA: 0s - loss: 616.0176Epoch 00012: val_loss improved from 284.10188 to 282.28671, saving model to best_weights.hdf5\n",
      "12492/12492 [==============================] - 15s 1ms/step - loss: 613.3682 - val_loss: 282.2867\n",
      "Epoch 13/20\n",
      "12416/12492 [============================>.] - ETA: 0s - loss: 603.9792Epoch 00013: val_loss did not improve\n",
      "12492/12492 [==============================] - 15s 1ms/step - loss: 604.1606 - val_loss: 292.2247\n",
      "Epoch 14/20\n",
      "12416/12492 [============================>.] - ETA: 0s - loss: 592.6838Epoch 00014: val_loss improved from 282.28671 to 269.64604, saving model to best_weights.hdf5\n",
      "12492/12492 [==============================] - 15s 1ms/step - loss: 595.3048 - val_loss: 269.6460\n",
      "Epoch 15/20\n",
      "12416/12492 [============================>.] - ETA: 0s - loss: 600.5873Epoch 00015: val_loss did not improve\n",
      "12492/12492 [==============================] - 14s 1ms/step - loss: 598.0348 - val_loss: 282.1069\n",
      "Epoch 16/20\n",
      "12416/12492 [============================>.] - ETA: 0s - loss: 581.2147Epoch 00016: val_loss did not improve\n",
      "12492/12492 [==============================] - 15s 1ms/step - loss: 580.0514 - val_loss: 290.9299\n",
      "Epoch 17/20\n",
      "12416/12492 [============================>.] - ETA: 0s - loss: 570.4998Epoch 00017: val_loss did not improve\n",
      "12492/12492 [==============================] - 15s 1ms/step - loss: 569.4532 - val_loss: 278.3710\n",
      "Epoch 18/20\n",
      "12416/12492 [============================>.] - ETA: 0s - loss: 571.2255Epoch 00018: val_loss did not improve\n",
      "12492/12492 [==============================] - 16s 1ms/step - loss: 568.9932 - val_loss: 297.5165\n",
      "Epoch 19/20\n",
      "12416/12492 [============================>.] - ETA: 0s - loss: 538.2737Epoch 00019: val_loss did not improve\n",
      "12492/12492 [==============================] - 15s 1ms/step - loss: 536.5924 - val_loss: 307.0173\n",
      "Epoch 20/20\n",
      "12416/12492 [============================>.] - ETA: 0s - loss: 551.1399Epoch 00020: val_loss did not improve\n",
      "12492/12492 [==============================] - 15s 1ms/step - loss: 550.3303 - val_loss: 292.4508\n"
     ]
    }
   ],
   "source": [
    "model = Sequential()\n",
    "model.add(Convolution1D(input_shape = (WINDOW, EMB_SIZE),\n",
    "                        nb_filter=32,\n",
    "                        filter_length=24,\n",
    "                        border_mode='same'))\n",
    "\n",
    "model.add(BatchNormalization())\n",
    "model.add(Activation('relu'))\n",
    "\n",
    "model.add(MaxPooling1D(pool_size=2, strides=None, padding='valid'))\n",
    "model.add(Convolution1D(nb_filter=16,\n",
    "                        filter_length=2,\n",
    "                        border_mode='same'))\n",
    "\n",
    "model.add(BatchNormalization())\n",
    "model.add(Activation('relu'))\n",
    "\n",
    "\n",
    "model.add(MaxPooling1D(pool_size=2, strides=None, padding='valid'))\n",
    "model.add(Flatten())\n",
    "\n",
    "model.add(Dense(64))\n",
    "model.add(Activation('relu'))\n",
    "model.add(Dropout(0.6))\n",
    "\n",
    "model.add(Dense(1))\n",
    "model.add(Activation('linear'))\n",
    "\n",
    "model.compile(optimizer='adam', \n",
    "              loss='mse')\n",
    "history = model.fit(X_train, Y_train, \n",
    "          nb_epoch = 20, \n",
    "          batch_size = 128, \n",
    "          verbose=1, \n",
    "          validation_split=0.2,\n",
    "          shuffle=True,\n",
    "          callbacks=[checkpointer])"
   ]
  },
  {
   "cell_type": "code",
   "execution_count": 13,
   "metadata": {},
   "outputs": [
    {
     "name": "stdout",
     "output_type": "stream",
     "text": [
      "_________________________________________________________________\n",
      "Layer (type)                 Output Shape              Param #   \n",
      "=================================================================\n",
      "conv1d_1 (Conv1D)            (None, 167, 32)           2336      \n",
      "_________________________________________________________________\n",
      "batch_normalization_1 (Batch (None, 167, 32)           128       \n",
      "_________________________________________________________________\n",
      "activation_1 (Activation)    (None, 167, 32)           0         \n",
      "_________________________________________________________________\n",
      "max_pooling1d_1 (MaxPooling1 (None, 83, 32)            0         \n",
      "_________________________________________________________________\n",
      "conv1d_2 (Conv1D)            (None, 83, 16)            1040      \n",
      "_________________________________________________________________\n",
      "batch_normalization_2 (Batch (None, 83, 16)            64        \n",
      "_________________________________________________________________\n",
      "activation_2 (Activation)    (None, 83, 16)            0         \n",
      "_________________________________________________________________\n",
      "max_pooling1d_2 (MaxPooling1 (None, 41, 16)            0         \n",
      "_________________________________________________________________\n",
      "flatten_1 (Flatten)          (None, 656)               0         \n",
      "_________________________________________________________________\n",
      "dense_1 (Dense)              (None, 64)                42048     \n",
      "_________________________________________________________________\n",
      "activation_3 (Activation)    (None, 64)                0         \n",
      "_________________________________________________________________\n",
      "dropout_1 (Dropout)          (None, 64)                0         \n",
      "_________________________________________________________________\n",
      "dense_2 (Dense)              (None, 1)                 65        \n",
      "_________________________________________________________________\n",
      "activation_4 (Activation)    (None, 1)                 0         \n",
      "=================================================================\n",
      "Total params: 45,681\n",
      "Trainable params: 45,585\n",
      "Non-trainable params: 96\n",
      "_________________________________________________________________\n",
      "None\n"
     ]
    }
   ],
   "source": [
    "print(model.summary())"
   ]
  },
  {
   "cell_type": "code",
   "execution_count": 14,
   "metadata": {},
   "outputs": [],
   "source": [
    "model.save('model.h5')\n",
    "#model.load_weights(\"model.hdf5\")\n",
    "pred = model.predict(np.array(X_test))"
   ]
  },
  {
   "cell_type": "code",
   "execution_count": 15,
   "metadata": {},
   "outputs": [
    {
     "data": {
      "image/png": "[encoded data removed]",
      "text/plain": [
       "<matplotlib.figure.Figure at 0x120482f98>"
      ]
     },
     "metadata": {},
     "output_type": "display_data"
    },
    {
     "data": {
      "image/png": "[encoded data removed]",
      "text/plain": [
       "<matplotlib.figure.Figure at 0x11f5ab9b0>"
      ]
     },
     "metadata": {},
     "output_type": "display_data"
    }
   ],
   "source": [
    "plt.figure()\n",
    "plt.plot(history.history['loss'])\n",
    "plt.plot(history.history['val_loss'])\n",
    "plt.title('model loss')\n",
    "plt.ylabel('loss')\n",
    "plt.xlabel('epoch')\n",
    "plt.legend(['train', 'test'], loc='best')\n",
    "plt.show()\n",
    "\n",
    "plt.figure()\n",
    "# plt.plot(scaler_price.inverse_transform(Y_test))\n",
    "# plt.plot(scaler_price.inverse_transform(pred))\n",
    "plt.plot(Y_test)\n",
    "plt.plot(pred)\n",
    "\n",
    "\n",
    "plt.title('time series')\n",
    "# plt.ylabel('loss')\n",
    "plt.xlabel('epoch')\n",
    "plt.legend(['Y_test', 'pred'], loc='best')\n",
    "# plt.xlim(6000, 6100)\n",
    "# plt.ylim(0,100)\n",
    "plt.show()"
   ]
  },
  {
   "cell_type": "code",
   "execution_count": 16,
   "metadata": {},
   "outputs": [
    {
     "data": {
      "text/plain": [
       "23.857305277189596"
      ]
     },
     "execution_count": 16,
     "metadata": {},
     "output_type": "execute_result"
    }
   ],
   "source": [
    "# np.sqrt(metrics.mean_squared_error(scaler_price.inverse_transform(Y_test), scaler_price.inverse_transform(pred)))\n",
    "np.sqrt(metrics.mean_squared_error(Y_test.ravel(), pred.ravel()))"
   ]
  },
  {
   "cell_type": "code",
   "execution_count": 17,
   "metadata": {},
   "outputs": [
    {
     "data": {
      "text/plain": [
       "array([ 21.90473938], dtype=float32)"
      ]
     },
     "execution_count": 17,
     "metadata": {},
     "output_type": "execute_result"
    }
   ],
   "source": [
    "pred[0]"
   ]
  },
  {
   "cell_type": "code",
   "execution_count": 18,
   "metadata": {},
   "outputs": [
    {
     "data": {
      "text/plain": [
       "3.4706925887432485"
      ]
     },
     "execution_count": 18,
     "metadata": {},
     "output_type": "execute_result"
    }
   ],
   "source": [
    "# metrics.mean_absolute_error(scaler_price.inverse_transform(Y_test), scaler_price.inverse_transform(pred))\n",
    "np.sqrt(metrics.mean_absolute_error(Y_test.ravel(), pred.ravel()))"
   ]
  },
  {
   "cell_type": "code",
   "execution_count": null,
   "metadata": {},
   "outputs": [],
   "source": []
  }
 ],
 "metadata": {
  "anaconda-cloud": {},
  "kernelspec": {
   "display_name": "Python 3",
   "language": "python",
   "name": "python3"
  },
  "language_info": {
   "codemirror_mode": {
    "name": "ipython",
    "version": 3
   },
   "file_extension": ".py",
   "mimetype": "text/x-python",
   "name": "python",
   "nbconvert_exporter": "python",
   "pygments_lexer": "ipython3",
   "version": "3.5.4"
  }
 },
 "nbformat": 4,
 "nbformat_minor": 1
}
