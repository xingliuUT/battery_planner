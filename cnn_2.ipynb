{
 "cells": [
  {
   "cell_type": "markdown",
   "metadata": {},
   "source": [
    "## Electricity price prediction for NYC"
   ]
  },
  {
   "cell_type": "code",
   "execution_count": 1,
   "metadata": {},
   "outputs": [
    {
     "name": "stderr",
     "output_type": "stream",
     "text": [
      "Using TensorFlow backend.\n"
     ]
    }
   ],
   "source": [
    "import pandas as pd\n",
    "\n",
    "import numpy as np\n",
    "from sklearn import preprocessing\n",
    "from sklearn import metrics\n",
    "import matplotlib.pylab as plt\n",
    "import datetime as dt\n",
    "import time\n",
    "\n",
    "from keras.models import Sequential\n",
    "from keras.layers.core import Dense, Dropout, Activation, Flatten\n",
    "from keras.layers.recurrent import LSTM, GRU\n",
    "from keras.layers import Convolution1D, MaxPooling1D, AtrousConvolution1D, RepeatVector\n",
    "from keras.callbacks import ModelCheckpoint, ReduceLROnPlateau, CSVLogger\n",
    "from keras.layers.wrappers import Bidirectional\n",
    "from keras import regularizers\n",
    "from keras.layers.normalization import BatchNormalization\n",
    "from keras.layers.advanced_activations import *\n",
    "from keras.optimizers import RMSprop, Adam, SGD, Nadam\n",
    "from keras.initializers import *"
   ]
  },
  {
   "cell_type": "code",
   "execution_count": 2,
   "metadata": {},
   "outputs": [],
   "source": [
    "df_data = pd.read_csv('full_diff_data_2016_2017.csv', parse_dates=['time_stamp', 'time_stamp_local'])\n",
    "df_data.set_index('time_stamp', inplace = True)"
   ]
  },
  {
   "cell_type": "code",
   "execution_count": 3,
   "metadata": {},
   "outputs": [
    {
     "data": {
      "text/plain": [
       "(17520, 10)"
      ]
     },
     "execution_count": 3,
     "metadata": {},
     "output_type": "execute_result"
    }
   ],
   "source": [
    "df_data.shape"
   ]
  },
  {
   "cell_type": "code",
   "execution_count": 4,
   "metadata": {},
   "outputs": [
    {
     "data": {
      "text/plain": [
       "Index(['time_stamp_local', 'price', 'price_24hr_ago', 'price_diff', 'load',\n",
       "       'load_24hr_ago', 'load_diff', 'temp', 'temp_24hr_ago', 'temp_diff'],\n",
       "      dtype='object')"
      ]
     },
     "execution_count": 4,
     "metadata": {},
     "output_type": "execute_result"
    }
   ],
   "source": [
    "df_data.columns"
   ]
  },
  {
   "cell_type": "code",
   "execution_count": 5,
   "metadata": {},
   "outputs": [],
   "source": [
    "def train_test_ts_split(X, y, percentage=0.9):\n",
    "    X_train = X[0:int(len(X) * percentage)]\n",
    "    Y_train = y[0:int(len(y) * percentage)]\n",
    "    \n",
    "    #X_train, Y_train = shuffle_Xy(X_train, Y_train)\n",
    "\n",
    "    X_test = X[int(len(X) * percentage):]\n",
    "    Y_test = y[int(len(X) * percentage):]\n",
    "\n",
    "    return X_train, X_test, Y_train, Y_test"
   ]
  },
  {
   "cell_type": "code",
   "execution_count": 6,
   "metadata": {},
   "outputs": [],
   "source": [
    "scaler_price = preprocessing.StandardScaler().fit(df_data.price.values.reshape(-1, 1))\n",
    "scaler_load = preprocessing.StandardScaler().fit(df_data.load.values.reshape(-1, 1))\n",
    "scaler_temp = preprocessing.StandardScaler().fit(df_data.temp.values.reshape(-1, 1))\n",
    "# # scaler_price = preprocessing.MinMaxScaler().fit(df_data.price_diff.values.reshape(-1, 1))\n",
    "# # scaler_load = preprocessing.MinMaxScaler().fit(df_data.load_diff.values.reshape(-1, 1))\n",
    "# # scaler_temp = preprocessing.MinMaxScaler().fit(df_data.temp_diff.values.reshape(-1, 1))\n",
    "\n",
    "df_data.loc[:,'price_norm'] = scaler_price.transform(df_data.price.values.reshape(-1, 1))\n",
    "df_data.loc[:,'load_norm'] = scaler_load.transform(df_data.load.values.reshape(-1, 1))\n",
    "df_data.loc[:,'temp_norm'] = scaler_temp.transform(df_data.temp.values.reshape(-1, 1))"
   ]
  },
  {
   "cell_type": "code",
   "execution_count": 7,
   "metadata": {},
   "outputs": [],
   "source": [
    "WINDOW = 24 * 7 - 1\n",
    "EMB_SIZE = 3\n",
    "STEP = 1\n",
    "FORECAST = 1\n",
    "\n",
    "X, Y = [], []\n",
    "for i in range(0, df_data.shape[0], STEP): \n",
    "    try:\n",
    "        price_byweek = df_data.price_norm.values[i: i + WINDOW]\n",
    "        load_byweek = df_data.load_norm.values[i: i + WINDOW]\n",
    "        temp_byweek = df_data.temp_norm.values[i: i + WINDOW]\n",
    "\n",
    "#         price_byweek = df_data.price.values[i: i + WINDOW]\n",
    "#         load_byweek = df_data.load.values[i: i + WINDOW]\n",
    "#         temp_byweek = df_data.temp.values[i: i + WINDOW]\n",
    "\n",
    "        \n",
    "#         price_norm = (np.array(price_byweek) - np.mean(price_byweek)) / np.std(price_byweek)\n",
    "#         load_norm = (np.array(load_byweek) - np.mean(load_byweek)) / np.std(load_byweek)\n",
    "#         temp_norm = (np.array(temp_byweek) - np.mean(temp_byweek)) / np.std(temp_byweek)\n",
    "        \n",
    "#         x_i = np.column_stack((price_norm, load_norm, temp_norm))\n",
    "        x_i = np.column_stack((price_byweek, load_byweek, temp_byweek))\n",
    "\n",
    "        y_i = df_data.price.values[i + WINDOW + FORECAST]\n",
    "    except Exception as e:\n",
    "        break\n",
    "\n",
    "    X.append(x_i)\n",
    "    Y.append(y_i)\n",
    "\n",
    "X, Y = np.array(X), np.array(Y)"
   ]
  },
  {
   "cell_type": "code",
   "execution_count": 8,
   "metadata": {},
   "outputs": [
    {
     "data": {
      "text/plain": [
       "((17352, 167, 3), (17352,))"
      ]
     },
     "execution_count": 8,
     "metadata": {},
     "output_type": "execute_result"
    }
   ],
   "source": [
    "X.shape, Y.shape"
   ]
  },
  {
   "cell_type": "code",
   "execution_count": 9,
   "metadata": {},
   "outputs": [
    {
     "data": {
      "text/plain": [
       "((15616, 167, 3), (1736, 167, 3), (15616,), (1736,))"
      ]
     },
     "execution_count": 9,
     "metadata": {},
     "output_type": "execute_result"
    }
   ],
   "source": [
    "X_train, X_test, Y_train, Y_test = train_test_ts_split(X, Y, percentage = 0.9)\n",
    "X_train.shape, X_test.shape, Y_train.shape, Y_test.shape"
   ]
  },
  {
   "cell_type": "code",
   "execution_count": 10,
   "metadata": {},
   "outputs": [
    {
     "data": {
      "text/plain": [
       "((15616, 167, 3), (1736, 167, 3), (15616,), (1736,))"
      ]
     },
     "execution_count": 10,
     "metadata": {},
     "output_type": "execute_result"
    }
   ],
   "source": [
    "X_train = np.reshape(X_train, (X_train.shape[0], X_train.shape[1], EMB_SIZE))\n",
    "X_test = np.reshape(X_test, (X_test.shape[0], X_test.shape[1], EMB_SIZE))\n",
    "X_train.shape, X_test.shape, Y_train.shape, Y_test.shape"
   ]
  },
  {
   "cell_type": "code",
   "execution_count": null,
   "metadata": {},
   "outputs": [],
   "source": [
    "checkpointer = ModelCheckpoint(filepath='best_weights.hdf5', \n",
    "                               verbose=1, save_best_only=True)"
   ]
  },
  {
   "cell_type": "code",
   "execution_count": 11,
   "metadata": {},
   "outputs": [
    {
     "name": "stderr",
     "output_type": "stream",
     "text": [
      "/anaconda/envs/py35/lib/python3.5/site-packages/ipykernel_launcher.py:5: UserWarning: Update your `Conv1D` call to the Keras 2 API: `Conv1D(filters=32, padding=\"same\", kernel_size=24, input_shape=(167, 3))`\n",
      "  \"\"\"\n",
      "/anaconda/envs/py35/lib/python3.5/site-packages/ipykernel_launcher.py:15: UserWarning: Update your `Conv1D` call to the Keras 2 API: `Conv1D(filters=16, kernel_size=2, padding=\"same\")`\n",
      "  from ipykernel import kernelapp as app\n",
      "/anaconda/envs/py35/lib/python3.5/site-packages/keras/models.py:874: UserWarning: The `nb_epoch` argument in `fit` has been renamed `epochs`.\n",
      "  warnings.warn('The `nb_epoch` argument in `fit` '\n"
     ]
    },
    {
     "name": "stdout",
     "output_type": "stream",
     "text": [
      "Train on 12492 samples, validate on 3124 samples\n",
      "Epoch 1/50\n",
      "12492/12492 [==============================] - 10s 829us/step - loss: 912.2354 - val_loss: 592.2183\n",
      "Epoch 2/50\n",
      "12492/12492 [==============================] - 10s 822us/step - loss: 755.7925 - val_loss: 380.0836\n",
      "Epoch 3/50\n",
      "12492/12492 [==============================] - 10s 813us/step - loss: 729.6128 - val_loss: 385.1782\n",
      "Epoch 4/50\n",
      "12492/12492 [==============================] - 10s 809us/step - loss: 715.1923 - val_loss: 375.6433\n",
      "Epoch 5/50\n",
      "12492/12492 [==============================] - 10s 813us/step - loss: 697.3163 - val_loss: 306.4085\n",
      "Epoch 6/50\n",
      "12492/12492 [==============================] - 10s 811us/step - loss: 710.1198 - val_loss: 318.4843\n",
      "Epoch 7/50\n",
      "12492/12492 [==============================] - 10s 816us/step - loss: 678.7368 - val_loss: 290.8860\n",
      "Epoch 8/50\n",
      "12492/12492 [==============================] - 10s 816us/step - loss: 674.1021 - val_loss: 354.5699\n",
      "Epoch 9/50\n",
      "12492/12492 [==============================] - 10s 817us/step - loss: 659.3409 - val_loss: 301.1666\n",
      "Epoch 10/50\n",
      "12492/12492 [==============================] - 10s 814us/step - loss: 641.5583 - val_loss: 287.3325\n",
      "Epoch 11/50\n",
      "12492/12492 [==============================] - 10s 810us/step - loss: 643.4257 - val_loss: 315.8597\n",
      "Epoch 12/50\n",
      "12492/12492 [==============================] - 10s 824us/step - loss: 622.8004 - val_loss: 277.7078\n",
      "Epoch 13/50\n",
      "12492/12492 [==============================] - 11s 882us/step - loss: 614.0498 - val_loss: 277.5295\n",
      "Epoch 14/50\n",
      "12492/12492 [==============================] - 10s 820us/step - loss: 632.9993 - val_loss: 300.2477\n",
      "Epoch 15/50\n",
      "12492/12492 [==============================] - 10s 819us/step - loss: 601.4528 - val_loss: 300.3196\n",
      "Epoch 16/50\n",
      "12492/12492 [==============================] - 10s 823us/step - loss: 626.8540 - val_loss: 294.0249\n",
      "Epoch 17/50\n",
      "12492/12492 [==============================] - 10s 821us/step - loss: 600.1501 - val_loss: 310.5054\n",
      "Epoch 18/50\n",
      "12492/12492 [==============================] - 10s 818us/step - loss: 597.0328 - val_loss: 317.9778\n",
      "Epoch 19/50\n",
      "12492/12492 [==============================] - 10s 818us/step - loss: 600.5805 - val_loss: 366.6438\n",
      "Epoch 20/50\n",
      "12492/12492 [==============================] - 10s 819us/step - loss: 593.1758 - val_loss: 280.9104\n",
      "Epoch 21/50\n",
      "12492/12492 [==============================] - 10s 814us/step - loss: 592.6175 - val_loss: 321.1947\n",
      "Epoch 22/50\n",
      "12492/12492 [==============================] - 10s 820us/step - loss: 590.7738 - val_loss: 284.4590\n",
      "Epoch 23/50\n",
      "12492/12492 [==============================] - 10s 820us/step - loss: 583.8364 - val_loss: 288.3254\n",
      "Epoch 24/50\n",
      "12492/12492 [==============================] - 10s 840us/step - loss: 551.7961 - val_loss: 294.1380\n",
      "Epoch 25/50\n",
      "12492/12492 [==============================] - 10s 828us/step - loss: 589.7351 - val_loss: 287.1418\n",
      "Epoch 26/50\n",
      "12492/12492 [==============================] - 12s 930us/step - loss: 574.5290 - val_loss: 277.1799\n",
      "Epoch 27/50\n",
      "12492/12492 [==============================] - 12s 972us/step - loss: 563.3563 - val_loss: 332.6569\n",
      "Epoch 28/50\n",
      "12492/12492 [==============================] - 12s 955us/step - loss: 569.4322 - val_loss: 317.6861\n",
      "Epoch 29/50\n",
      "12492/12492 [==============================] - 11s 906us/step - loss: 528.5068 - val_loss: 359.2711\n",
      "Epoch 30/50\n",
      "12492/12492 [==============================] - 12s 946us/step - loss: 535.7662 - val_loss: 339.3408\n",
      "Epoch 31/50\n",
      "12492/12492 [==============================] - 12s 940us/step - loss: 568.7652 - val_loss: 341.0695\n",
      "Epoch 32/50\n",
      "12492/12492 [==============================] - 11s 902us/step - loss: 534.0958 - val_loss: 311.2303\n",
      "Epoch 33/50\n",
      "12492/12492 [==============================] - 10s 819us/step - loss: 496.9775 - val_loss: 306.2084\n",
      "Epoch 34/50\n",
      "12492/12492 [==============================] - 10s 837us/step - loss: 556.5877 - val_loss: 312.1966\n",
      "Epoch 35/50\n",
      "12492/12492 [==============================] - 12s 933us/step - loss: 516.7775 - val_loss: 298.7989\n",
      "Epoch 36/50\n",
      "12492/12492 [==============================] - 11s 901us/step - loss: 531.2296 - val_loss: 312.8862ETA: 1s - lo\n",
      "Epoch 37/50\n",
      "12492/12492 [==============================] - 11s 910us/step - loss: 527.8180 - val_loss: 323.0607\n",
      "Epoch 38/50\n",
      "12492/12492 [==============================] - 12s 926us/step - loss: 536.7495 - val_loss: 314.0602\n",
      "Epoch 39/50\n",
      "12492/12492 [==============================] - 11s 894us/step - loss: 516.2629 - val_loss: 338.6596\n",
      "Epoch 40/50\n",
      "12492/12492 [==============================] - 11s 913us/step - loss: 480.6721 - val_loss: 333.8383\n",
      "Epoch 41/50\n",
      "12492/12492 [==============================] - 11s 916us/step - loss: 472.6508 - val_loss: 337.5120\n",
      "Epoch 42/50\n",
      "12492/12492 [==============================] - 11s 894us/step - loss: 542.6184 - val_loss: 400.9953\n",
      "Epoch 43/50\n",
      "12492/12492 [==============================] - 11s 885us/step - loss: 471.4976 - val_loss: 356.7549\n",
      "Epoch 44/50\n",
      "12492/12492 [==============================] - 12s 941us/step - loss: 492.8715 - val_loss: 343.9922\n",
      "Epoch 45/50\n",
      "12492/12492 [==============================] - 12s 993us/step - loss: 487.7062 - val_loss: 318.6979\n",
      "Epoch 46/50\n",
      "12492/12492 [==============================] - 11s 893us/step - loss: 468.8766 - val_loss: 338.3090\n",
      "Epoch 47/50\n",
      "12492/12492 [==============================] - 12s 924us/step - loss: 480.7911 - val_loss: 362.3452\n",
      "Epoch 48/50\n",
      "12492/12492 [==============================] - 11s 914us/step - loss: 476.1067 - val_loss: 381.0079\n",
      "Epoch 49/50\n",
      "12492/12492 [==============================] - 12s 945us/step - loss: 480.4163 - val_loss: 443.9440\n",
      "Epoch 50/50\n",
      "12492/12492 [==============================] - 12s 934us/step - loss: 462.0557 - val_loss: 350.2129\n"
     ]
    }
   ],
   "source": [
    "model = Sequential()\n",
    "model.add(Convolution1D(input_shape = (WINDOW, EMB_SIZE),\n",
    "                        nb_filter=32,\n",
    "                        filter_length=24,\n",
    "                        border_mode='same'))\n",
    "\n",
    "model.add(BatchNormalization())\n",
    "model.add(Activation('relu'))\n",
    "# model.add(Dropout(0.5))\n",
    "\n",
    "\n",
    "model.add(MaxPooling1D(pool_size=2, strides=None, padding='valid'))\n",
    "model.add(Convolution1D(nb_filter=16,\n",
    "                        filter_length=2,\n",
    "                        border_mode='same'))\n",
    "\n",
    "model.add(BatchNormalization())\n",
    "model.add(Activation('relu'))\n",
    "\n",
    "\n",
    "model.add(MaxPooling1D(pool_size=2, strides=None, padding='valid'))\n",
    "model.add(Flatten())\n",
    "\n",
    "model.add(Dense(64))\n",
    "model.add(Activation('relu'))\n",
    "model.add(Dropout(0.7))\n",
    "\n",
    "model.add(Dense(1))\n",
    "model.add(Activation('linear'))\n",
    "\n",
    "model.compile(optimizer='adam', \n",
    "              loss='mse')\n",
    "history = model.fit(X_train, Y_train, \n",
    "          nb_epoch = 50, \n",
    "          batch_size = 128, \n",
    "          verbose=1, \n",
    "          validation_split=0.2,\n",
    "          shuffle=True,\n",
    "          callbacks=[checkpointer])"
   ]
  },
  {
   "cell_type": "code",
   "execution_count": 12,
   "metadata": {},
   "outputs": [
    {
     "name": "stdout",
     "output_type": "stream",
     "text": [
      "_________________________________________________________________\n",
      "Layer (type)                 Output Shape              Param #   \n",
      "=================================================================\n",
      "conv1d_1 (Conv1D)            (None, 167, 32)           2336      \n",
      "_________________________________________________________________\n",
      "batch_normalization_1 (Batch (None, 167, 32)           128       \n",
      "_________________________________________________________________\n",
      "activation_1 (Activation)    (None, 167, 32)           0         \n",
      "_________________________________________________________________\n",
      "max_pooling1d_1 (MaxPooling1 (None, 83, 32)            0         \n",
      "_________________________________________________________________\n",
      "conv1d_2 (Conv1D)            (None, 83, 16)            1040      \n",
      "_________________________________________________________________\n",
      "batch_normalization_2 (Batch (None, 83, 16)            64        \n",
      "_________________________________________________________________\n",
      "activation_2 (Activation)    (None, 83, 16)            0         \n",
      "_________________________________________________________________\n",
      "max_pooling1d_2 (MaxPooling1 (None, 41, 16)            0         \n",
      "_________________________________________________________________\n",
      "flatten_1 (Flatten)          (None, 656)               0         \n",
      "_________________________________________________________________\n",
      "dense_1 (Dense)              (None, 64)                42048     \n",
      "_________________________________________________________________\n",
      "activation_3 (Activation)    (None, 64)                0         \n",
      "_________________________________________________________________\n",
      "dropout_1 (Dropout)          (None, 64)                0         \n",
      "_________________________________________________________________\n",
      "dense_2 (Dense)              (None, 1)                 65        \n",
      "_________________________________________________________________\n",
      "activation_4 (Activation)    (None, 1)                 0         \n",
      "=================================================================\n",
      "Total params: 45,681\n",
      "Trainable params: 45,585\n",
      "Non-trainable params: 96\n",
      "_________________________________________________________________\n",
      "None\n"
     ]
    }
   ],
   "source": [
    "print(model.summary())"
   ]
  },
  {
   "cell_type": "code",
   "execution_count": 13,
   "metadata": {},
   "outputs": [],
   "source": [
    "model.save('model.h5')\n",
    "#model.load_weights(\"model.hdf5\")\n",
    "pred = model.predict(np.array(X_test))"
   ]
  },
  {
   "cell_type": "code",
   "execution_count": 14,
   "metadata": {},
   "outputs": [
    {
     "data": {
      "image/png": "[encoded data removed]",
      "text/plain": [
       "<matplotlib.figure.Figure at 0x11cbf2400>"
      ]
     },
     "metadata": {},
     "output_type": "display_data"
    },
    {
     "data": {
      "image/png": "[encoded data removed]",
      "text/plain": [
       "<matplotlib.figure.Figure at 0x10a461710>"
      ]
     },
     "metadata": {},
     "output_type": "display_data"
    }
   ],
   "source": [
    "plt.figure()\n",
    "plt.plot(history.history['loss'])\n",
    "plt.plot(history.history['val_loss'])\n",
    "plt.title('model loss')\n",
    "plt.ylabel('loss')\n",
    "plt.xlabel('epoch')\n",
    "plt.legend(['train', 'test'], loc='best')\n",
    "plt.show()\n",
    "\n",
    "plt.figure()\n",
    "# plt.plot(scaler_price.inverse_transform(Y_test))\n",
    "# plt.plot(scaler_price.inverse_transform(pred))\n",
    "plt.plot(Y_test)\n",
    "plt.plot(pred)\n",
    "\n",
    "\n",
    "plt.title('time series')\n",
    "# plt.ylabel('loss')\n",
    "plt.xlabel('epoch')\n",
    "plt.legend(['Y_test', 'pred'], loc='best')\n",
    "# plt.xlim(6000, 6100)\n",
    "# plt.ylim(0,100)\n",
    "plt.show()"
   ]
  },
  {
   "cell_type": "code",
   "execution_count": 15,
   "metadata": {},
   "outputs": [
    {
     "data": {
      "text/plain": [
       "26.764288571902362"
      ]
     },
     "execution_count": 15,
     "metadata": {},
     "output_type": "execute_result"
    }
   ],
   "source": [
    "# np.sqrt(metrics.mean_squared_error(scaler_price.inverse_transform(Y_test), scaler_price.inverse_transform(pred)))\n",
    "np.sqrt(metrics.mean_squared_error(Y_test.ravel(), pred.ravel()))"
   ]
  },
  {
   "cell_type": "code",
   "execution_count": 16,
   "metadata": {},
   "outputs": [
    {
     "data": {
      "text/plain": [
       "array([ 22.75250053], dtype=float32)"
      ]
     },
     "execution_count": 16,
     "metadata": {},
     "output_type": "execute_result"
    }
   ],
   "source": [
    "pred[0]"
   ]
  },
  {
   "cell_type": "code",
   "execution_count": 17,
   "metadata": {},
   "outputs": [
    {
     "data": {
      "text/plain": [
       "3.7151376015423767"
      ]
     },
     "execution_count": 17,
     "metadata": {},
     "output_type": "execute_result"
    }
   ],
   "source": [
    "# metrics.mean_absolute_error(scaler_price.inverse_transform(Y_test), scaler_price.inverse_transform(pred))\n",
    "np.sqrt(metrics.mean_absolute_error(Y_test.ravel(), pred.ravel()))"
   ]
  },
  {
   "cell_type": "code",
   "execution_count": null,
   "metadata": {},
   "outputs": [],
   "source": []
  }
 ],
 "metadata": {
  "anaconda-cloud": {},
  "kernelspec": {
   "display_name": "Python 3",
   "language": "python",
   "name": "python3"
  },
  "language_info": {
   "codemirror_mode": {
    "name": "ipython",
    "version": 3
   },
   "file_extension": ".py",
   "mimetype": "text/x-python",
   "name": "python",
   "nbconvert_exporter": "python",
   "pygments_lexer": "ipython3",
   "version": "3.5.4"
  }
 },
 "nbformat": 4,
 "nbformat_minor": 1
}
