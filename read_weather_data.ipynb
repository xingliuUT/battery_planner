{
 "cells": [
  {
   "cell_type": "markdown",
   "metadata": {},
   "source": [
    "## Time series data for weather\n",
    "\n",
    "www.ncei.noaa.gov"
   ]
  },
  {
   "cell_type": "code",
   "execution_count": 1,
   "metadata": {},
   "outputs": [],
   "source": [
    "import pandas as pd\n",
    "import requests"
   ]
  },
  {
   "cell_type": "code",
   "execution_count": 2,
   "metadata": {},
   "outputs": [
    {
     "name": "stdout",
     "output_type": "stream",
     "text": [
      "DCplants20162017.csv         \u001b[34mnyc_taxi\u001b[m\u001b[m\r\n",
      "ERCOT_op.csv                 nyc_taxi_2017.csv\r\n",
      "README.md                    nyiso_2016.csv\r\n",
      "SCL_op.csv                   nyiso_2017.csv\r\n",
      "create_db.ipynb              \u001b[34mnyiso_load\u001b[m\u001b[m\r\n",
      "decompose.ipynb              nyiso_load_2017.csv\r\n",
      "\u001b[34meia860\u001b[m\u001b[m                       \u001b[34mnyiso_price\u001b[m\u001b[m\r\n",
      "\u001b[34meia861\u001b[m\u001b[m                       nyiso_price_2017.csv\r\n",
      "\u001b[34meia923\u001b[m\u001b[m                       \u001b[34mother_projects\u001b[m\u001b[m\r\n",
      "forecast_nyiso_2016_2017.csv plantid3845.csv\r\n",
      "forecastplantid3845.csv      plantid50187.csv\r\n",
      "forecastplantid50187.csv     plantid54268.csv\r\n",
      "forecastplantid54268.csv     prediction_model.ipynb\r\n",
      "import_data.ipynb            read_nyctaxi_data.ipynb\r\n",
      "import_json_file.ipynb       read_nyiso_data.ipynb\r\n",
      "la_guardia_airport.txt       read_price_data.ipynb\r\n",
      "la_guardia_airport_2017.csv  read_weather_data.ipynb\r\n",
      "multivariate_nn_model.ipynb  \u001b[34mtime_series_resource\u001b[m\u001b[m\r\n",
      "nn_model.ipynb\r\n"
     ]
    }
   ],
   "source": [
    "!ls"
   ]
  },
  {
   "cell_type": "code",
   "execution_count": 3,
   "metadata": {},
   "outputs": [],
   "source": [
    "url = 'http://www.ncdc.noaa.gov/orders/isd/6303677539041dat.txt'"
   ]
  },
  {
   "cell_type": "code",
   "execution_count": 18,
   "metadata": {},
   "outputs": [],
   "source": [
    "resp = requests.get(url)"
   ]
  },
  {
   "cell_type": "code",
   "execution_count": 19,
   "metadata": {},
   "outputs": [],
   "source": [
    "#df_hourly = pd.read_csv(resp.text)\n",
    "with open('la_guardia_airport.txt', 'w') as f:\n",
    "    f.write(resp.text)"
   ]
  },
  {
   "cell_type": "code",
   "execution_count": 1,
   "metadata": {},
   "outputs": [],
   "source": [
    "df_hourly = pd.read_table('la_guardia_airport.txt', \n",
    "                          delim_whitespace = True, \n",
    "                          parse_dates=['YR--MODAHRMN'],\n",
    "                          dtype = {'TEMP':np.float64},\n",
    "                          na_values ='****')"
   ]
  },
  {
   "cell_type": "code",
   "execution_count": 2,
   "metadata": {},
   "outputs": [
    {
     "data": {
      "text/html": [
       "<div>\n",
       "<style>\n",
       "    .dataframe thead tr:only-child th {\n",
       "        text-align: right;\n",
       "    }\n",
       "\n",
       "    .dataframe thead th {\n",
       "        text-align: left;\n",
       "    }\n",
       "\n",
       "    .dataframe tbody tr th {\n",
       "        vertical-align: top;\n",
       "    }\n",
       "</style>\n",
       "<table border=\"1\" class=\"dataframe\">\n",
       "  <thead>\n",
       "    <tr style=\"text-align: right;\">\n",
       "      <th></th>\n",
       "      <th>USAF</th>\n",
       "      <th>WBAN</th>\n",
       "      <th>YR--MODAHRMN</th>\n",
       "      <th>DIR</th>\n",
       "      <th>SPD</th>\n",
       "      <th>GUS</th>\n",
       "      <th>CLG</th>\n",
       "      <th>SKC</th>\n",
       "      <th>L</th>\n",
       "      <th>M</th>\n",
       "      <th>...</th>\n",
       "      <th>SLP</th>\n",
       "      <th>ALT</th>\n",
       "      <th>STP</th>\n",
       "      <th>MAX</th>\n",
       "      <th>MIN</th>\n",
       "      <th>PCP01</th>\n",
       "      <th>PCP06</th>\n",
       "      <th>PCP24</th>\n",
       "      <th>PCPXX</th>\n",
       "      <th>SD</th>\n",
       "    </tr>\n",
       "  </thead>\n",
       "  <tbody>\n",
       "    <tr>\n",
       "      <th>221785</th>\n",
       "      <td>725030</td>\n",
       "      <td>14732</td>\n",
       "      <td>2018-01-20 20:51:00</td>\n",
       "      <td>250</td>\n",
       "      <td>20</td>\n",
       "      <td>25</td>\n",
       "      <td>250</td>\n",
       "      <td>***</td>\n",
       "      <td>*</td>\n",
       "      <td>*</td>\n",
       "      <td>...</td>\n",
       "      <td>1012.2</td>\n",
       "      <td>29.89</td>\n",
       "      <td>1011.1</td>\n",
       "      <td>***</td>\n",
       "      <td>***</td>\n",
       "      <td>0.00</td>\n",
       "      <td>*****</td>\n",
       "      <td>*****</td>\n",
       "      <td>*****</td>\n",
       "      <td>**</td>\n",
       "    </tr>\n",
       "    <tr>\n",
       "      <th>221786</th>\n",
       "      <td>725030</td>\n",
       "      <td>14732</td>\n",
       "      <td>2018-01-20 21:00:00</td>\n",
       "      <td>250</td>\n",
       "      <td>20</td>\n",
       "      <td>***</td>\n",
       "      <td>***</td>\n",
       "      <td>BKN</td>\n",
       "      <td>*</td>\n",
       "      <td>*</td>\n",
       "      <td>...</td>\n",
       "      <td>1012.2</td>\n",
       "      <td>*****</td>\n",
       "      <td>1010.8</td>\n",
       "      <td>***</td>\n",
       "      <td>***</td>\n",
       "      <td>*****</td>\n",
       "      <td>*****</td>\n",
       "      <td>*****</td>\n",
       "      <td>*****</td>\n",
       "      <td>**</td>\n",
       "    </tr>\n",
       "    <tr>\n",
       "      <th>221787</th>\n",
       "      <td>725030</td>\n",
       "      <td>14732</td>\n",
       "      <td>2018-01-20 21:51:00</td>\n",
       "      <td>270</td>\n",
       "      <td>15</td>\n",
       "      <td>***</td>\n",
       "      <td>250</td>\n",
       "      <td>***</td>\n",
       "      <td>*</td>\n",
       "      <td>*</td>\n",
       "      <td>...</td>\n",
       "      <td>1013.0</td>\n",
       "      <td>29.92</td>\n",
       "      <td>1012.1</td>\n",
       "      <td>***</td>\n",
       "      <td>***</td>\n",
       "      <td>0.00</td>\n",
       "      <td>*****</td>\n",
       "      <td>*****</td>\n",
       "      <td>*****</td>\n",
       "      <td>**</td>\n",
       "    </tr>\n",
       "    <tr>\n",
       "      <th>221788</th>\n",
       "      <td>725030</td>\n",
       "      <td>14732</td>\n",
       "      <td>2018-01-20 22:51:00</td>\n",
       "      <td>260</td>\n",
       "      <td>13</td>\n",
       "      <td>23</td>\n",
       "      <td>250</td>\n",
       "      <td>***</td>\n",
       "      <td>*</td>\n",
       "      <td>*</td>\n",
       "      <td>...</td>\n",
       "      <td>1014.0</td>\n",
       "      <td>29.94</td>\n",
       "      <td>1012.8</td>\n",
       "      <td>***</td>\n",
       "      <td>***</td>\n",
       "      <td>0.00</td>\n",
       "      <td>*****</td>\n",
       "      <td>*****</td>\n",
       "      <td>*****</td>\n",
       "      <td>**</td>\n",
       "    </tr>\n",
       "    <tr>\n",
       "      <th>221789</th>\n",
       "      <td>725030</td>\n",
       "      <td>14732</td>\n",
       "      <td>2018-01-20 23:51:00</td>\n",
       "      <td>270</td>\n",
       "      <td>14</td>\n",
       "      <td>***</td>\n",
       "      <td>250</td>\n",
       "      <td>***</td>\n",
       "      <td>*</td>\n",
       "      <td>*</td>\n",
       "      <td>...</td>\n",
       "      <td>1014.8</td>\n",
       "      <td>29.97</td>\n",
       "      <td>1013.8</td>\n",
       "      <td>54</td>\n",
       "      <td>48</td>\n",
       "      <td>0.00</td>\n",
       "      <td>*****</td>\n",
       "      <td>*****</td>\n",
       "      <td>*****</td>\n",
       "      <td>**</td>\n",
       "    </tr>\n",
       "  </tbody>\n",
       "</table>\n",
       "<p>5 rows × 33 columns</p>\n",
       "</div>"
      ],
      "text/plain": [
       "          USAF   WBAN        YR--MODAHRMN  DIR SPD  GUS  CLG  SKC  L  M ...  \\\n",
       "221785  725030  14732 2018-01-20 20:51:00  250  20   25  250  ***  *  * ...   \n",
       "221786  725030  14732 2018-01-20 21:00:00  250  20  ***  ***  BKN  *  * ...   \n",
       "221787  725030  14732 2018-01-20 21:51:00  270  15  ***  250  ***  *  * ...   \n",
       "221788  725030  14732 2018-01-20 22:51:00  260  13   23  250  ***  *  * ...   \n",
       "221789  725030  14732 2018-01-20 23:51:00  270  14  ***  250  ***  *  * ...   \n",
       "\n",
       "           SLP    ALT     STP  MAX  MIN  PCP01  PCP06  PCP24  PCPXX  SD  \n",
       "221785  1012.2  29.89  1011.1  ***  ***   0.00  *****  *****  *****  **  \n",
       "221786  1012.2  *****  1010.8  ***  ***  *****  *****  *****  *****  **  \n",
       "221787  1013.0  29.92  1012.1  ***  ***   0.00  *****  *****  *****  **  \n",
       "221788  1014.0  29.94  1012.8  ***  ***   0.00  *****  *****  *****  **  \n",
       "221789  1014.8  29.97  1013.8   54   48   0.00  *****  *****  *****  **  \n",
       "\n",
       "[5 rows x 33 columns]"
      ]
     },
     "execution_count": 2,
     "metadata": {},
     "output_type": "execute_result"
    }
   ],
   "source": [
    "df_hourly.tail()"
   ]
  },
  {
   "cell_type": "code",
   "execution_count": 3,
   "metadata": {},
   "outputs": [
    {
     "data": {
      "text/plain": [
       "(221790, 33)"
      ]
     },
     "execution_count": 3,
     "metadata": {},
     "output_type": "execute_result"
    }
   ],
   "source": [
    "df_hourly.shape"
   ]
  },
  {
   "cell_type": "code",
   "execution_count": 4,
   "metadata": {},
   "outputs": [
    {
     "data": {
      "text/plain": [
       "Index(['USAF', 'WBAN', 'YR--MODAHRMN', 'DIR', 'SPD', 'GUS', 'CLG', 'SKC', 'L',\n",
       "       'M', 'H', 'VSB', 'MW', 'MW.1', 'MW.2', 'MW.3', 'AW', 'AW.1', 'AW.2',\n",
       "       'AW.3', 'W', 'TEMP', 'DEWP', 'SLP', 'ALT', 'STP', 'MAX', 'MIN', 'PCP01',\n",
       "       'PCP06', 'PCP24', 'PCPXX', 'SD'],\n",
       "      dtype='object')"
      ]
     },
     "execution_count": 4,
     "metadata": {},
     "output_type": "execute_result"
    }
   ],
   "source": [
    "df_hourly.columns"
   ]
  },
  {
   "cell_type": "code",
   "execution_count": 5,
   "metadata": {},
   "outputs": [],
   "source": [
    "df2017_hourly = df_hourly.loc[(df_hourly.loc[:,'YR--MODAHRMN'] >= pd.datetime(2016, 1, 1)) \n",
    "                              & (df_hourly.loc[:,'YR--MODAHRMN'] < pd.datetime(2018, 2, 1)),\n",
    "                              ['YR--MODAHRMN', 'TEMP']]"
   ]
  },
  {
   "cell_type": "code",
   "execution_count": 6,
   "metadata": {},
   "outputs": [
    {
     "data": {
      "text/plain": [
       "(28116, 2)"
      ]
     },
     "execution_count": 6,
     "metadata": {},
     "output_type": "execute_result"
    }
   ],
   "source": [
    "df2017_hourly.shape"
   ]
  },
  {
   "cell_type": "code",
   "execution_count": 7,
   "metadata": {},
   "outputs": [],
   "source": [
    "df2017_hourly.dropna(inplace = True)"
   ]
  },
  {
   "cell_type": "code",
   "execution_count": 8,
   "metadata": {},
   "outputs": [
    {
     "data": {
      "text/plain": [
       "(27346, 2)"
      ]
     },
     "execution_count": 8,
     "metadata": {},
     "output_type": "execute_result"
    }
   ],
   "source": [
    "df2017_hourly.shape"
   ]
  },
  {
   "cell_type": "code",
   "execution_count": 9,
   "metadata": {},
   "outputs": [
    {
     "data": {
      "text/html": [
       "<div>\n",
       "<style>\n",
       "    .dataframe thead tr:only-child th {\n",
       "        text-align: right;\n",
       "    }\n",
       "\n",
       "    .dataframe thead th {\n",
       "        text-align: left;\n",
       "    }\n",
       "\n",
       "    .dataframe tbody tr th {\n",
       "        vertical-align: top;\n",
       "    }\n",
       "</style>\n",
       "<table border=\"1\" class=\"dataframe\">\n",
       "  <thead>\n",
       "    <tr style=\"text-align: right;\">\n",
       "      <th></th>\n",
       "      <th>YR--MODAHRMN</th>\n",
       "      <th>TEMP</th>\n",
       "    </tr>\n",
       "  </thead>\n",
       "  <tbody>\n",
       "    <tr>\n",
       "      <th>193674</th>\n",
       "      <td>2016-01-01 00:00:00</td>\n",
       "      <td>46.0</td>\n",
       "    </tr>\n",
       "    <tr>\n",
       "      <th>193675</th>\n",
       "      <td>2016-01-01 00:51:00</td>\n",
       "      <td>46.0</td>\n",
       "    </tr>\n",
       "    <tr>\n",
       "      <th>193676</th>\n",
       "      <td>2016-01-01 01:51:00</td>\n",
       "      <td>45.0</td>\n",
       "    </tr>\n",
       "    <tr>\n",
       "      <th>193677</th>\n",
       "      <td>2016-01-01 02:51:00</td>\n",
       "      <td>45.0</td>\n",
       "    </tr>\n",
       "    <tr>\n",
       "      <th>193678</th>\n",
       "      <td>2016-01-01 03:00:00</td>\n",
       "      <td>45.0</td>\n",
       "    </tr>\n",
       "    <tr>\n",
       "      <th>193679</th>\n",
       "      <td>2016-01-01 03:51:00</td>\n",
       "      <td>43.0</td>\n",
       "    </tr>\n",
       "    <tr>\n",
       "      <th>193680</th>\n",
       "      <td>2016-01-01 04:51:00</td>\n",
       "      <td>43.0</td>\n",
       "    </tr>\n",
       "    <tr>\n",
       "      <th>193682</th>\n",
       "      <td>2016-01-01 05:51:00</td>\n",
       "      <td>43.0</td>\n",
       "    </tr>\n",
       "    <tr>\n",
       "      <th>193683</th>\n",
       "      <td>2016-01-01 06:00:00</td>\n",
       "      <td>43.0</td>\n",
       "    </tr>\n",
       "    <tr>\n",
       "      <th>193684</th>\n",
       "      <td>2016-01-01 06:51:00</td>\n",
       "      <td>43.0</td>\n",
       "    </tr>\n",
       "    <tr>\n",
       "      <th>193685</th>\n",
       "      <td>2016-01-01 07:51:00</td>\n",
       "      <td>42.0</td>\n",
       "    </tr>\n",
       "    <tr>\n",
       "      <th>193686</th>\n",
       "      <td>2016-01-01 08:51:00</td>\n",
       "      <td>42.0</td>\n",
       "    </tr>\n",
       "    <tr>\n",
       "      <th>193687</th>\n",
       "      <td>2016-01-01 09:00:00</td>\n",
       "      <td>42.0</td>\n",
       "    </tr>\n",
       "    <tr>\n",
       "      <th>193688</th>\n",
       "      <td>2016-01-01 09:51:00</td>\n",
       "      <td>41.0</td>\n",
       "    </tr>\n",
       "    <tr>\n",
       "      <th>193689</th>\n",
       "      <td>2016-01-01 10:51:00</td>\n",
       "      <td>41.0</td>\n",
       "    </tr>\n",
       "    <tr>\n",
       "      <th>193690</th>\n",
       "      <td>2016-01-01 11:51:00</td>\n",
       "      <td>41.0</td>\n",
       "    </tr>\n",
       "    <tr>\n",
       "      <th>193691</th>\n",
       "      <td>2016-01-01 12:00:00</td>\n",
       "      <td>41.0</td>\n",
       "    </tr>\n",
       "    <tr>\n",
       "      <th>193692</th>\n",
       "      <td>2016-01-01 12:51:00</td>\n",
       "      <td>41.0</td>\n",
       "    </tr>\n",
       "    <tr>\n",
       "      <th>193693</th>\n",
       "      <td>2016-01-01 13:51:00</td>\n",
       "      <td>40.0</td>\n",
       "    </tr>\n",
       "    <tr>\n",
       "      <th>193694</th>\n",
       "      <td>2016-01-01 14:51:00</td>\n",
       "      <td>40.0</td>\n",
       "    </tr>\n",
       "    <tr>\n",
       "      <th>193695</th>\n",
       "      <td>2016-01-01 15:00:00</td>\n",
       "      <td>40.0</td>\n",
       "    </tr>\n",
       "    <tr>\n",
       "      <th>193696</th>\n",
       "      <td>2016-01-01 15:51:00</td>\n",
       "      <td>41.0</td>\n",
       "    </tr>\n",
       "    <tr>\n",
       "      <th>193697</th>\n",
       "      <td>2016-01-01 16:51:00</td>\n",
       "      <td>42.0</td>\n",
       "    </tr>\n",
       "    <tr>\n",
       "      <th>193698</th>\n",
       "      <td>2016-01-01 17:51:00</td>\n",
       "      <td>41.0</td>\n",
       "    </tr>\n",
       "    <tr>\n",
       "      <th>193699</th>\n",
       "      <td>2016-01-01 18:00:00</td>\n",
       "      <td>41.0</td>\n",
       "    </tr>\n",
       "    <tr>\n",
       "      <th>193700</th>\n",
       "      <td>2016-01-01 18:51:00</td>\n",
       "      <td>41.0</td>\n",
       "    </tr>\n",
       "    <tr>\n",
       "      <th>193701</th>\n",
       "      <td>2016-01-01 19:51:00</td>\n",
       "      <td>40.0</td>\n",
       "    </tr>\n",
       "    <tr>\n",
       "      <th>193702</th>\n",
       "      <td>2016-01-01 20:51:00</td>\n",
       "      <td>40.0</td>\n",
       "    </tr>\n",
       "    <tr>\n",
       "      <th>193703</th>\n",
       "      <td>2016-01-01 21:00:00</td>\n",
       "      <td>40.0</td>\n",
       "    </tr>\n",
       "    <tr>\n",
       "      <th>193704</th>\n",
       "      <td>2016-01-01 21:51:00</td>\n",
       "      <td>40.0</td>\n",
       "    </tr>\n",
       "  </tbody>\n",
       "</table>\n",
       "</div>"
      ],
      "text/plain": [
       "              YR--MODAHRMN  TEMP\n",
       "193674 2016-01-01 00:00:00  46.0\n",
       "193675 2016-01-01 00:51:00  46.0\n",
       "193676 2016-01-01 01:51:00  45.0\n",
       "193677 2016-01-01 02:51:00  45.0\n",
       "193678 2016-01-01 03:00:00  45.0\n",
       "193679 2016-01-01 03:51:00  43.0\n",
       "193680 2016-01-01 04:51:00  43.0\n",
       "193682 2016-01-01 05:51:00  43.0\n",
       "193683 2016-01-01 06:00:00  43.0\n",
       "193684 2016-01-01 06:51:00  43.0\n",
       "193685 2016-01-01 07:51:00  42.0\n",
       "193686 2016-01-01 08:51:00  42.0\n",
       "193687 2016-01-01 09:00:00  42.0\n",
       "193688 2016-01-01 09:51:00  41.0\n",
       "193689 2016-01-01 10:51:00  41.0\n",
       "193690 2016-01-01 11:51:00  41.0\n",
       "193691 2016-01-01 12:00:00  41.0\n",
       "193692 2016-01-01 12:51:00  41.0\n",
       "193693 2016-01-01 13:51:00  40.0\n",
       "193694 2016-01-01 14:51:00  40.0\n",
       "193695 2016-01-01 15:00:00  40.0\n",
       "193696 2016-01-01 15:51:00  41.0\n",
       "193697 2016-01-01 16:51:00  42.0\n",
       "193698 2016-01-01 17:51:00  41.0\n",
       "193699 2016-01-01 18:00:00  41.0\n",
       "193700 2016-01-01 18:51:00  41.0\n",
       "193701 2016-01-01 19:51:00  40.0\n",
       "193702 2016-01-01 20:51:00  40.0\n",
       "193703 2016-01-01 21:00:00  40.0\n",
       "193704 2016-01-01 21:51:00  40.0"
      ]
     },
     "execution_count": 9,
     "metadata": {},
     "output_type": "execute_result"
    }
   ],
   "source": [
    "df2017_hourly.head(30)"
   ]
  },
  {
   "cell_type": "code",
   "execution_count": 10,
   "metadata": {},
   "outputs": [],
   "source": [
    "df2017_hourly.set_index('YR--MODAHRMN', inplace = True)"
   ]
  },
  {
   "cell_type": "code",
   "execution_count": 11,
   "metadata": {},
   "outputs": [],
   "source": [
    "df2017_output = df2017_hourly.resample('1H').mean()"
   ]
  },
  {
   "cell_type": "code",
   "execution_count": 12,
   "metadata": {},
   "outputs": [
    {
     "data": {
      "text/plain": [
       "(18024, 1)"
      ]
     },
     "execution_count": 12,
     "metadata": {},
     "output_type": "execute_result"
    }
   ],
   "source": [
    "df2017_output.shape"
   ]
  },
  {
   "cell_type": "code",
   "execution_count": 13,
   "metadata": {},
   "outputs": [],
   "source": [
    "df2017_output.reset_index(level=0, inplace=True)"
   ]
  },
  {
   "cell_type": "code",
   "execution_count": 14,
   "metadata": {},
   "outputs": [],
   "source": [
    "df2017_output.columns = ['time_stamp', 'temp']"
   ]
  },
  {
   "cell_type": "code",
   "execution_count": 15,
   "metadata": {},
   "outputs": [
    {
     "data": {
      "text/html": [
       "<div>\n",
       "<style>\n",
       "    .dataframe thead tr:only-child th {\n",
       "        text-align: right;\n",
       "    }\n",
       "\n",
       "    .dataframe thead th {\n",
       "        text-align: left;\n",
       "    }\n",
       "\n",
       "    .dataframe tbody tr th {\n",
       "        vertical-align: top;\n",
       "    }\n",
       "</style>\n",
       "<table border=\"1\" class=\"dataframe\">\n",
       "  <thead>\n",
       "    <tr style=\"text-align: right;\">\n",
       "      <th></th>\n",
       "      <th>time_stamp</th>\n",
       "      <th>temp</th>\n",
       "    </tr>\n",
       "  </thead>\n",
       "  <tbody>\n",
       "    <tr>\n",
       "      <th>0</th>\n",
       "      <td>2016-01-01 00:00:00</td>\n",
       "      <td>46.0</td>\n",
       "    </tr>\n",
       "    <tr>\n",
       "      <th>1</th>\n",
       "      <td>2016-01-01 01:00:00</td>\n",
       "      <td>45.0</td>\n",
       "    </tr>\n",
       "    <tr>\n",
       "      <th>2</th>\n",
       "      <td>2016-01-01 02:00:00</td>\n",
       "      <td>45.0</td>\n",
       "    </tr>\n",
       "    <tr>\n",
       "      <th>3</th>\n",
       "      <td>2016-01-01 03:00:00</td>\n",
       "      <td>44.0</td>\n",
       "    </tr>\n",
       "    <tr>\n",
       "      <th>4</th>\n",
       "      <td>2016-01-01 04:00:00</td>\n",
       "      <td>43.0</td>\n",
       "    </tr>\n",
       "  </tbody>\n",
       "</table>\n",
       "</div>"
      ],
      "text/plain": [
       "           time_stamp  temp\n",
       "0 2016-01-01 00:00:00  46.0\n",
       "1 2016-01-01 01:00:00  45.0\n",
       "2 2016-01-01 02:00:00  45.0\n",
       "3 2016-01-01 03:00:00  44.0\n",
       "4 2016-01-01 04:00:00  43.0"
      ]
     },
     "execution_count": 15,
     "metadata": {},
     "output_type": "execute_result"
    }
   ],
   "source": [
    "df2017_output.head()"
   ]
  },
  {
   "cell_type": "code",
   "execution_count": 16,
   "metadata": {},
   "outputs": [],
   "source": [
    "df2017_output.to_csv('la_guardia_airport_2017.csv', index = False)"
   ]
  },
  {
   "cell_type": "code",
   "execution_count": 17,
   "metadata": {},
   "outputs": [
    {
     "data": {
      "text/plain": [
       "TEMP    float64\n",
       "dtype: object"
      ]
     },
     "execution_count": 17,
     "metadata": {},
     "output_type": "execute_result"
    }
   ],
   "source": [
    "df2017_hourly.dtypes"
   ]
  },
  {
   "cell_type": "code",
   "execution_count": 18,
   "metadata": {},
   "outputs": [
    {
     "data": {
      "text/plain": [
       "[<matplotlib.lines.Line2D at 0x10d5a2d68>]"
      ]
     },
     "execution_count": 18,
     "metadata": {},
     "output_type": "execute_result"
    },
    {
     "data": {
      "image/png": "[encoded data removed]",
      "text/plain": [
       "<matplotlib.figure.Figure at 0x10f001ef0>"
      ]
     },
     "metadata": {},
     "output_type": "display_data"
    }
   ],
   "source": [
    "fig, ax = plt.subplots(figsize = (16, 9))\n",
    "ax.plot(df2017_output.loc[:,'time_stamp'], df2017_output.loc[:, 'temp'])"
   ]
  },
  {
   "cell_type": "markdown",
   "metadata": {},
   "source": [
    "### Data by Day"
   ]
  },
  {
   "cell_type": "code",
   "execution_count": 6,
   "metadata": {},
   "outputs": [],
   "source": [
    "df_input = pd.read_csv('https://www.ncei.noaa.gov/orders/cdo/1188581.csv', parse_dates = ['DATE'])"
   ]
  },
  {
   "cell_type": "code",
   "execution_count": 7,
   "metadata": {},
   "outputs": [
    {
     "data": {
      "text/html": [
       "<div>\n",
       "<style>\n",
       "    .dataframe thead tr:only-child th {\n",
       "        text-align: right;\n",
       "    }\n",
       "\n",
       "    .dataframe thead th {\n",
       "        text-align: left;\n",
       "    }\n",
       "\n",
       "    .dataframe tbody tr th {\n",
       "        vertical-align: top;\n",
       "    }\n",
       "</style>\n",
       "<table border=\"1\" class=\"dataframe\">\n",
       "  <thead>\n",
       "    <tr style=\"text-align: right;\">\n",
       "      <th></th>\n",
       "      <th>STATION</th>\n",
       "      <th>NAME</th>\n",
       "      <th>LATITUDE</th>\n",
       "      <th>LONGITUDE</th>\n",
       "      <th>ELEVATION</th>\n",
       "      <th>DATE</th>\n",
       "      <th>AWND</th>\n",
       "      <th>AWND_ATTRIBUTES</th>\n",
       "      <th>FMTM</th>\n",
       "      <th>FMTM_ATTRIBUTES</th>\n",
       "      <th>...</th>\n",
       "      <th>WT16</th>\n",
       "      <th>WT16_ATTRIBUTES</th>\n",
       "      <th>WT17</th>\n",
       "      <th>WT17_ATTRIBUTES</th>\n",
       "      <th>WT18</th>\n",
       "      <th>WT18_ATTRIBUTES</th>\n",
       "      <th>WT19</th>\n",
       "      <th>WT19_ATTRIBUTES</th>\n",
       "      <th>WT22</th>\n",
       "      <th>WT22_ATTRIBUTES</th>\n",
       "    </tr>\n",
       "  </thead>\n",
       "  <tbody>\n",
       "    <tr>\n",
       "      <th>0</th>\n",
       "      <td>USW00094728</td>\n",
       "      <td>NY CITY CENTRAL PARK, NY US</td>\n",
       "      <td>40.77898</td>\n",
       "      <td>-73.96925</td>\n",
       "      <td>42.7</td>\n",
       "      <td>2009-01-01</td>\n",
       "      <td>11.18</td>\n",
       "      <td>,,W</td>\n",
       "      <td>615.0</td>\n",
       "      <td>,,X</td>\n",
       "      <td>...</td>\n",
       "      <td>NaN</td>\n",
       "      <td>NaN</td>\n",
       "      <td>NaN</td>\n",
       "      <td>NaN</td>\n",
       "      <td>NaN</td>\n",
       "      <td>NaN</td>\n",
       "      <td>NaN</td>\n",
       "      <td>NaN</td>\n",
       "      <td>NaN</td>\n",
       "      <td>NaN</td>\n",
       "    </tr>\n",
       "    <tr>\n",
       "      <th>1</th>\n",
       "      <td>USW00094728</td>\n",
       "      <td>NY CITY CENTRAL PARK, NY US</td>\n",
       "      <td>40.77898</td>\n",
       "      <td>-73.96925</td>\n",
       "      <td>42.7</td>\n",
       "      <td>2009-01-02</td>\n",
       "      <td>6.26</td>\n",
       "      <td>,,W</td>\n",
       "      <td>959.0</td>\n",
       "      <td>,,X</td>\n",
       "      <td>...</td>\n",
       "      <td>1.0</td>\n",
       "      <td>,,0</td>\n",
       "      <td>NaN</td>\n",
       "      <td>NaN</td>\n",
       "      <td>1.0</td>\n",
       "      <td>,,X</td>\n",
       "      <td>NaN</td>\n",
       "      <td>NaN</td>\n",
       "      <td>NaN</td>\n",
       "      <td>NaN</td>\n",
       "    </tr>\n",
       "    <tr>\n",
       "      <th>2</th>\n",
       "      <td>USW00094728</td>\n",
       "      <td>NY CITY CENTRAL PARK, NY US</td>\n",
       "      <td>40.77898</td>\n",
       "      <td>-73.96925</td>\n",
       "      <td>42.7</td>\n",
       "      <td>2009-01-03</td>\n",
       "      <td>10.07</td>\n",
       "      <td>,,W</td>\n",
       "      <td>1209.0</td>\n",
       "      <td>,,X</td>\n",
       "      <td>...</td>\n",
       "      <td>NaN</td>\n",
       "      <td>NaN</td>\n",
       "      <td>NaN</td>\n",
       "      <td>NaN</td>\n",
       "      <td>1.0</td>\n",
       "      <td>,,X</td>\n",
       "      <td>NaN</td>\n",
       "      <td>NaN</td>\n",
       "      <td>NaN</td>\n",
       "      <td>NaN</td>\n",
       "    </tr>\n",
       "    <tr>\n",
       "      <th>3</th>\n",
       "      <td>USW00094728</td>\n",
       "      <td>NY CITY CENTRAL PARK, NY US</td>\n",
       "      <td>40.77898</td>\n",
       "      <td>-73.96925</td>\n",
       "      <td>42.7</td>\n",
       "      <td>2009-01-04</td>\n",
       "      <td>7.61</td>\n",
       "      <td>,,W</td>\n",
       "      <td>13.0</td>\n",
       "      <td>,,X</td>\n",
       "      <td>...</td>\n",
       "      <td>NaN</td>\n",
       "      <td>NaN</td>\n",
       "      <td>NaN</td>\n",
       "      <td>NaN</td>\n",
       "      <td>NaN</td>\n",
       "      <td>NaN</td>\n",
       "      <td>NaN</td>\n",
       "      <td>NaN</td>\n",
       "      <td>NaN</td>\n",
       "      <td>NaN</td>\n",
       "    </tr>\n",
       "    <tr>\n",
       "      <th>4</th>\n",
       "      <td>USW00094728</td>\n",
       "      <td>NY CITY CENTRAL PARK, NY US</td>\n",
       "      <td>40.77898</td>\n",
       "      <td>-73.96925</td>\n",
       "      <td>42.7</td>\n",
       "      <td>2009-01-05</td>\n",
       "      <td>6.93</td>\n",
       "      <td>,,W</td>\n",
       "      <td>1023.0</td>\n",
       "      <td>,,X</td>\n",
       "      <td>...</td>\n",
       "      <td>1.0</td>\n",
       "      <td>,,X</td>\n",
       "      <td>NaN</td>\n",
       "      <td>NaN</td>\n",
       "      <td>NaN</td>\n",
       "      <td>NaN</td>\n",
       "      <td>NaN</td>\n",
       "      <td>NaN</td>\n",
       "      <td>NaN</td>\n",
       "      <td>NaN</td>\n",
       "    </tr>\n",
       "  </tbody>\n",
       "</table>\n",
       "<p>5 rows × 66 columns</p>\n",
       "</div>"
      ],
      "text/plain": [
       "       STATION                         NAME  LATITUDE  LONGITUDE  ELEVATION  \\\n",
       "0  USW00094728  NY CITY CENTRAL PARK, NY US  40.77898  -73.96925       42.7   \n",
       "1  USW00094728  NY CITY CENTRAL PARK, NY US  40.77898  -73.96925       42.7   \n",
       "2  USW00094728  NY CITY CENTRAL PARK, NY US  40.77898  -73.96925       42.7   \n",
       "3  USW00094728  NY CITY CENTRAL PARK, NY US  40.77898  -73.96925       42.7   \n",
       "4  USW00094728  NY CITY CENTRAL PARK, NY US  40.77898  -73.96925       42.7   \n",
       "\n",
       "        DATE   AWND AWND_ATTRIBUTES    FMTM FMTM_ATTRIBUTES       ...         \\\n",
       "0 2009-01-01  11.18             ,,W   615.0             ,,X       ...          \n",
       "1 2009-01-02   6.26             ,,W   959.0             ,,X       ...          \n",
       "2 2009-01-03  10.07             ,,W  1209.0             ,,X       ...          \n",
       "3 2009-01-04   7.61             ,,W    13.0             ,,X       ...          \n",
       "4 2009-01-05   6.93             ,,W  1023.0             ,,X       ...          \n",
       "\n",
       "   WT16 WT16_ATTRIBUTES  WT17 WT17_ATTRIBUTES  WT18 WT18_ATTRIBUTES  WT19  \\\n",
       "0   NaN             NaN   NaN             NaN   NaN             NaN   NaN   \n",
       "1   1.0             ,,0   NaN             NaN   1.0             ,,X   NaN   \n",
       "2   NaN             NaN   NaN             NaN   1.0             ,,X   NaN   \n",
       "3   NaN             NaN   NaN             NaN   NaN             NaN   NaN   \n",
       "4   1.0             ,,X   NaN             NaN   NaN             NaN   NaN   \n",
       "\n",
       "  WT19_ATTRIBUTES  WT22  WT22_ATTRIBUTES  \n",
       "0             NaN   NaN              NaN  \n",
       "1             NaN   NaN              NaN  \n",
       "2             NaN   NaN              NaN  \n",
       "3             NaN   NaN              NaN  \n",
       "4             NaN   NaN              NaN  \n",
       "\n",
       "[5 rows x 66 columns]"
      ]
     },
     "execution_count": 7,
     "metadata": {},
     "output_type": "execute_result"
    }
   ],
   "source": [
    "df_input.head()"
   ]
  },
  {
   "cell_type": "code",
   "execution_count": 8,
   "metadata": {},
   "outputs": [
    {
     "data": {
      "text/plain": [
       "(3304, 66)"
      ]
     },
     "execution_count": 8,
     "metadata": {},
     "output_type": "execute_result"
    }
   ],
   "source": [
    "df_input.shape"
   ]
  },
  {
   "cell_type": "code",
   "execution_count": 9,
   "metadata": {},
   "outputs": [
    {
     "data": {
      "text/plain": [
       "Index(['STATION', 'NAME', 'LATITUDE', 'LONGITUDE', 'ELEVATION', 'DATE', 'AWND',\n",
       "       'AWND_ATTRIBUTES', 'FMTM', 'FMTM_ATTRIBUTES', 'PGTM', 'PGTM_ATTRIBUTES',\n",
       "       'PRCP', 'PRCP_ATTRIBUTES', 'SNOW', 'SNOW_ATTRIBUTES', 'SNWD',\n",
       "       'SNWD_ATTRIBUTES', 'TAVG', 'TAVG_ATTRIBUTES', 'TMAX', 'TMAX_ATTRIBUTES',\n",
       "       'TMIN', 'TMIN_ATTRIBUTES', 'TSUN', 'TSUN_ATTRIBUTES', 'WDF2',\n",
       "       'WDF2_ATTRIBUTES', 'WDF5', 'WDF5_ATTRIBUTES', 'WSF2', 'WSF2_ATTRIBUTES',\n",
       "       'WSF5', 'WSF5_ATTRIBUTES', 'WT01', 'WT01_ATTRIBUTES', 'WT02',\n",
       "       'WT02_ATTRIBUTES', 'WT04', 'WT04_ATTRIBUTES', 'WT05', 'WT05_ATTRIBUTES',\n",
       "       'WT06', 'WT06_ATTRIBUTES', 'WT07', 'WT07_ATTRIBUTES', 'WT08',\n",
       "       'WT08_ATTRIBUTES', 'WT09', 'WT09_ATTRIBUTES', 'WT11', 'WT11_ATTRIBUTES',\n",
       "       'WT13', 'WT13_ATTRIBUTES', 'WT14', 'WT14_ATTRIBUTES', 'WT16',\n",
       "       'WT16_ATTRIBUTES', 'WT17', 'WT17_ATTRIBUTES', 'WT18', 'WT18_ATTRIBUTES',\n",
       "       'WT19', 'WT19_ATTRIBUTES', 'WT22', 'WT22_ATTRIBUTES'],\n",
       "      dtype='object')"
      ]
     },
     "execution_count": 9,
     "metadata": {},
     "output_type": "execute_result"
    }
   ],
   "source": [
    "df_input.columns"
   ]
  },
  {
   "cell_type": "code",
   "execution_count": 13,
   "metadata": {},
   "outputs": [
    {
     "data": {
      "text/plain": [
       "<matplotlib.axes._subplots.AxesSubplot at 0x113c94898>"
      ]
     },
     "execution_count": 13,
     "metadata": {},
     "output_type": "execute_result"
    },
    {
     "data": {
      "image/png": "[encoded data removed]",
      "text/plain": [
       "<matplotlib.figure.Figure at 0x1187dfac8>"
      ]
     },
     "metadata": {},
     "output_type": "display_data"
    }
   ],
   "source": [
    "df_input.PRCP.hist(bins = 100, log = True)"
   ]
  },
  {
   "cell_type": "code",
   "execution_count": 19,
   "metadata": {},
   "outputs": [
    {
     "data": {
      "text/plain": [
       "(array([',,0,2400', 'T,,0,2400', ',,X,2400', 'T,,X,2400', ',,Z,2400',\n",
       "        ',,W,2400', 'T,,W,2400'], dtype=object),\n",
       " array([',,0,', 'T,,0,', ',,X,', 'T,,X,', ',,Z,', ',,W,', 'T,,W,',\n",
       "        ',,W,2400', 'T,,W,2400', nan], dtype=object))"
      ]
     },
     "execution_count": 19,
     "metadata": {},
     "output_type": "execute_result"
    }
   ],
   "source": [
    "df_input.PRCP_ATTRIBUTES.unique(), df_input.SNOW_ATTRIBUTES.unique()"
   ]
  },
  {
   "cell_type": "code",
   "execution_count": 18,
   "metadata": {},
   "outputs": [
    {
     "data": {
      "text/plain": [
       "<matplotlib.axes._subplots.AxesSubplot at 0x119832fd0>"
      ]
     },
     "execution_count": 18,
     "metadata": {},
     "output_type": "execute_result"
    },
    {
     "data": {
      "image/png": "[encoded data removed]",
      "text/plain": [
       "<matplotlib.figure.Figure at 0x11965f908>"
      ]
     },
     "metadata": {},
     "output_type": "display_data"
    }
   ],
   "source": [
    "df_input.SNOW.hist(bins = 100, log = True)"
   ]
  },
  {
   "cell_type": "code",
   "execution_count": 17,
   "metadata": {},
   "outputs": [
    {
     "data": {
      "text/plain": [
       "<matplotlib.axes._subplots.AxesSubplot at 0x119486b00>"
      ]
     },
     "execution_count": 17,
     "metadata": {},
     "output_type": "execute_result"
    },
    {
     "data": {
      "image/png": "[encoded data removed]",
      "text/plain": [
       "<matplotlib.figure.Figure at 0x119490828>"
      ]
     },
     "metadata": {},
     "output_type": "display_data"
    }
   ],
   "source": [
    "df_input.SNWD.hist(bins = 100, log = True)"
   ]
  },
  {
   "cell_type": "code",
   "execution_count": 22,
   "metadata": {},
   "outputs": [
    {
     "data": {
      "text/plain": [
       "<matplotlib.axes._subplots.AxesSubplot at 0x119ae97f0>"
      ]
     },
     "execution_count": 22,
     "metadata": {},
     "output_type": "execute_result"
    },
    {
     "data": {
      "image/png": "[encoded data removed]",
      "text/plain": [
       "<matplotlib.figure.Figure at 0x119851a90>"
      ]
     },
     "metadata": {},
     "output_type": "display_data"
    }
   ],
   "source": [
    "df_input.TMIN.hist(bins = 100)"
   ]
  },
  {
   "cell_type": "code",
   "execution_count": 23,
   "metadata": {},
   "outputs": [
    {
     "data": {
      "text/plain": [
       "<matplotlib.axes._subplots.AxesSubplot at 0x119990320>"
      ]
     },
     "execution_count": 23,
     "metadata": {},
     "output_type": "execute_result"
    },
    {
     "data": {
      "image/png": "[encoded data removed]",
      "text/plain": [
       "<matplotlib.figure.Figure at 0x119eee668>"
      ]
     },
     "metadata": {},
     "output_type": "display_data"
    }
   ],
   "source": [
    "df_input.TMAX.hist(bins = 100)"
   ]
  },
  {
   "cell_type": "code",
   "execution_count": 25,
   "metadata": {},
   "outputs": [
    {
     "data": {
      "text/plain": [
       "array([ nan,   0.])"
      ]
     },
     "execution_count": 25,
     "metadata": {},
     "output_type": "execute_result"
    }
   ],
   "source": [
    "df_input.TSUN.unique()"
   ]
  },
  {
   "cell_type": "code",
   "execution_count": 26,
   "metadata": {},
   "outputs": [
    {
     "data": {
      "text/plain": [
       "<matplotlib.axes._subplots.AxesSubplot at 0x11a076cc0>"
      ]
     },
     "execution_count": 26,
     "metadata": {},
     "output_type": "execute_result"
    },
    {
     "data": {
      "image/png": "[encoded data removed]",
      "text/plain": [
       "<matplotlib.figure.Figure at 0x119437668>"
      ]
     },
     "metadata": {},
     "output_type": "display_data"
    }
   ],
   "source": [
    "df_input.AWND.hist(bins = 100)"
   ]
  },
  {
   "cell_type": "code",
   "execution_count": 27,
   "metadata": {},
   "outputs": [],
   "source": [
    "df_use = df_input.loc[:,['DATE', 'AWND', 'PRCP', 'SNWD', 'TMIN', 'TMAX']]"
   ]
  },
  {
   "cell_type": "code",
   "execution_count": 29,
   "metadata": {},
   "outputs": [
    {
     "data": {
      "text/html": [
       "<div>\n",
       "<style>\n",
       "    .dataframe thead tr:only-child th {\n",
       "        text-align: right;\n",
       "    }\n",
       "\n",
       "    .dataframe thead th {\n",
       "        text-align: left;\n",
       "    }\n",
       "\n",
       "    .dataframe tbody tr th {\n",
       "        vertical-align: top;\n",
       "    }\n",
       "</style>\n",
       "<table border=\"1\" class=\"dataframe\">\n",
       "  <thead>\n",
       "    <tr style=\"text-align: right;\">\n",
       "      <th></th>\n",
       "      <th>DATE</th>\n",
       "      <th>AWND</th>\n",
       "      <th>PRCP</th>\n",
       "      <th>SNWD</th>\n",
       "      <th>TMIN</th>\n",
       "      <th>TMAX</th>\n",
       "    </tr>\n",
       "  </thead>\n",
       "  <tbody>\n",
       "    <tr>\n",
       "      <th>0</th>\n",
       "      <td>2009-01-01</td>\n",
       "      <td>11.18</td>\n",
       "      <td>0.0</td>\n",
       "      <td>0.0</td>\n",
       "      <td>15</td>\n",
       "      <td>26</td>\n",
       "    </tr>\n",
       "    <tr>\n",
       "      <th>1</th>\n",
       "      <td>2009-01-02</td>\n",
       "      <td>6.26</td>\n",
       "      <td>0.0</td>\n",
       "      <td>0.0</td>\n",
       "      <td>23</td>\n",
       "      <td>34</td>\n",
       "    </tr>\n",
       "    <tr>\n",
       "      <th>2</th>\n",
       "      <td>2009-01-03</td>\n",
       "      <td>10.07</td>\n",
       "      <td>0.0</td>\n",
       "      <td>0.0</td>\n",
       "      <td>29</td>\n",
       "      <td>38</td>\n",
       "    </tr>\n",
       "    <tr>\n",
       "      <th>3</th>\n",
       "      <td>2009-01-04</td>\n",
       "      <td>7.61</td>\n",
       "      <td>0.0</td>\n",
       "      <td>0.0</td>\n",
       "      <td>25</td>\n",
       "      <td>42</td>\n",
       "    </tr>\n",
       "    <tr>\n",
       "      <th>4</th>\n",
       "      <td>2009-01-05</td>\n",
       "      <td>6.93</td>\n",
       "      <td>0.0</td>\n",
       "      <td>0.0</td>\n",
       "      <td>38</td>\n",
       "      <td>43</td>\n",
       "    </tr>\n",
       "  </tbody>\n",
       "</table>\n",
       "</div>"
      ],
      "text/plain": [
       "        DATE   AWND  PRCP  SNWD  TMIN  TMAX\n",
       "0 2009-01-01  11.18   0.0   0.0    15    26\n",
       "1 2009-01-02   6.26   0.0   0.0    23    34\n",
       "2 2009-01-03  10.07   0.0   0.0    29    38\n",
       "3 2009-01-04   7.61   0.0   0.0    25    42\n",
       "4 2009-01-05   6.93   0.0   0.0    38    43"
      ]
     },
     "execution_count": 29,
     "metadata": {},
     "output_type": "execute_result"
    }
   ],
   "source": [
    "df_use.head()"
   ]
  },
  {
   "cell_type": "code",
   "execution_count": 34,
   "metadata": {},
   "outputs": [
    {
     "data": {
      "text/plain": [
       "[<matplotlib.lines.Line2D at 0x11aaffba8>]"
      ]
     },
     "execution_count": 34,
     "metadata": {},
     "output_type": "execute_result"
    },
    {
     "data": {
      "image/png": "[encoded data removed]",
      "text/plain": [
       "<matplotlib.figure.Figure at 0x11a8ca2b0>"
      ]
     },
     "metadata": {},
     "output_type": "display_data"
    }
   ],
   "source": [
    "plt.plot(df_use.iloc[:, 0], df_use.iloc[:, 5])"
   ]
  },
  {
   "cell_type": "code",
   "execution_count": 35,
   "metadata": {},
   "outputs": [],
   "source": [
    "df_use.to_csv('central_park_weather.csv', index = False)"
   ]
  },
  {
   "cell_type": "code",
   "execution_count": null,
   "metadata": {},
   "outputs": [],
   "source": []
  }
 ],
 "metadata": {
  "anaconda-cloud": {},
  "kernelspec": {
   "display_name": "Python 3",
   "language": "python",
   "name": "python3"
  },
  "language_info": {
   "codemirror_mode": {
    "name": "ipython",
    "version": 3
   },
   "file_extension": ".py",
   "mimetype": "text/x-python",
   "name": "python",
   "nbconvert_exporter": "python",
   "pygments_lexer": "ipython3",
   "version": "3.5.4"
  }
 },
 "nbformat": 4,
 "nbformat_minor": 1
}
