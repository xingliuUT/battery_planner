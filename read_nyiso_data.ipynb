{
 "cells": [
  {
   "cell_type": "code",
   "execution_count": 36,
   "metadata": {},
   "outputs": [],
   "source": [
    "import os\n",
    "import pandas as pd\n",
    "import matplotlib.pyplot as plt"
   ]
  },
  {
   "cell_type": "code",
   "execution_count": 80,
   "metadata": {},
   "outputs": [
    {
     "name": "stdout",
     "output_type": "stream",
     "text": [
      "\u001b[34m20160101palIntegrated_csv\u001b[m\u001b[m \u001b[34m20160501palIntegrated_csv\u001b[m\u001b[m \u001b[34m20160901palIntegrated_csv\u001b[m\u001b[m\r\n",
      "\u001b[34m20160201palIntegrated_csv\u001b[m\u001b[m \u001b[34m20160601palIntegrated_csv\u001b[m\u001b[m \u001b[34m20161001palIntegrated_csv\u001b[m\u001b[m\r\n",
      "\u001b[34m20160301palIntegrated_csv\u001b[m\u001b[m \u001b[34m20160701palIntegrated_csv\u001b[m\u001b[m \u001b[34m20161101palIntegrated_csv\u001b[m\u001b[m\r\n",
      "\u001b[34m20160401palIntegrated_csv\u001b[m\u001b[m \u001b[34m20160801palIntegrated_csv\u001b[m\u001b[m \u001b[34m20161201palIntegrated_csv\u001b[m\u001b[m\r\n"
     ]
    }
   ],
   "source": [
    "!ls nyiso_load/"
   ]
  },
  {
   "cell_type": "code",
   "execution_count": 28,
   "metadata": {},
   "outputs": [],
   "source": [
    "df_int = pd.read_csv('nyiso_load/' + '20170301palIntegrated_csv/' + '20170312palIntegrated.csv', parse_dates = ['Time Stamp'])"
   ]
  },
  {
   "cell_type": "code",
   "execution_count": 29,
   "metadata": {},
   "outputs": [],
   "source": [
    "nyc_ind = df_int.Name.apply(lambda x: 'N.Y.C.' in x)\n",
    "df_nyc = df_int.loc[nyc_ind,['Time Stamp', 'Integrated Load']].reset_index(drop = True)"
   ]
  },
  {
   "cell_type": "code",
   "execution_count": 30,
   "metadata": {},
   "outputs": [
    {
     "data": {
      "text/html": [
       "<div>\n",
       "<style>\n",
       "    .dataframe thead tr:only-child th {\n",
       "        text-align: right;\n",
       "    }\n",
       "\n",
       "    .dataframe thead th {\n",
       "        text-align: left;\n",
       "    }\n",
       "\n",
       "    .dataframe tbody tr th {\n",
       "        vertical-align: top;\n",
       "    }\n",
       "</style>\n",
       "<table border=\"1\" class=\"dataframe\">\n",
       "  <thead>\n",
       "    <tr style=\"text-align: right;\">\n",
       "      <th></th>\n",
       "      <th>Time Stamp</th>\n",
       "      <th>Integrated Load</th>\n",
       "    </tr>\n",
       "  </thead>\n",
       "  <tbody>\n",
       "    <tr>\n",
       "      <th>0</th>\n",
       "      <td>2017-03-12 00:00:00</td>\n",
       "      <td>5331.5</td>\n",
       "    </tr>\n",
       "    <tr>\n",
       "      <th>1</th>\n",
       "      <td>2017-03-12 01:00:00</td>\n",
       "      <td>5103.5</td>\n",
       "    </tr>\n",
       "    <tr>\n",
       "      <th>2</th>\n",
       "      <td>2017-03-12 03:00:00</td>\n",
       "      <td>4974.3</td>\n",
       "    </tr>\n",
       "    <tr>\n",
       "      <th>3</th>\n",
       "      <td>2017-03-12 04:00:00</td>\n",
       "      <td>4906.6</td>\n",
       "    </tr>\n",
       "    <tr>\n",
       "      <th>4</th>\n",
       "      <td>2017-03-12 05:00:00</td>\n",
       "      <td>4920.1</td>\n",
       "    </tr>\n",
       "  </tbody>\n",
       "</table>\n",
       "</div>"
      ],
      "text/plain": [
       "           Time Stamp  Integrated Load\n",
       "0 2017-03-12 00:00:00           5331.5\n",
       "1 2017-03-12 01:00:00           5103.5\n",
       "2 2017-03-12 03:00:00           4974.3\n",
       "3 2017-03-12 04:00:00           4906.6\n",
       "4 2017-03-12 05:00:00           4920.1"
      ]
     },
     "execution_count": 30,
     "metadata": {},
     "output_type": "execute_result"
    }
   ],
   "source": [
    "df_nyc.head()"
   ]
  },
  {
   "cell_type": "code",
   "execution_count": 31,
   "metadata": {},
   "outputs": [],
   "source": [
    "df_nyc.columns = ['time_stamp', 'integrated_load']"
   ]
  },
  {
   "cell_type": "code",
   "execution_count": 32,
   "metadata": {},
   "outputs": [],
   "source": [
    "df_nyc.set_index('time_stamp', inplace = True)\n",
    "\n",
    "df_nyc['time_stamp_local'] = df_nyc.index\n",
    "\n",
    "df_nyc.set_index(df_nyc.index.tz_localize('US/Eastern'), inplace = True)"
   ]
  },
  {
   "cell_type": "code",
   "execution_count": 33,
   "metadata": {},
   "outputs": [
    {
     "data": {
      "text/html": [
       "<div>\n",
       "<style>\n",
       "    .dataframe thead tr:only-child th {\n",
       "        text-align: right;\n",
       "    }\n",
       "\n",
       "    .dataframe thead th {\n",
       "        text-align: left;\n",
       "    }\n",
       "\n",
       "    .dataframe tbody tr th {\n",
       "        vertical-align: top;\n",
       "    }\n",
       "</style>\n",
       "<table border=\"1\" class=\"dataframe\">\n",
       "  <thead>\n",
       "    <tr style=\"text-align: right;\">\n",
       "      <th></th>\n",
       "      <th>integrated_load</th>\n",
       "      <th>time_stamp_local</th>\n",
       "    </tr>\n",
       "    <tr>\n",
       "      <th>time_stamp</th>\n",
       "      <th></th>\n",
       "      <th></th>\n",
       "    </tr>\n",
       "  </thead>\n",
       "  <tbody>\n",
       "    <tr>\n",
       "      <th>2017-03-12 00:00:00-05:00</th>\n",
       "      <td>5331.5</td>\n",
       "      <td>2017-03-12 00:00:00</td>\n",
       "    </tr>\n",
       "    <tr>\n",
       "      <th>2017-03-12 01:00:00-05:00</th>\n",
       "      <td>5103.5</td>\n",
       "      <td>2017-03-12 01:00:00</td>\n",
       "    </tr>\n",
       "    <tr>\n",
       "      <th>2017-03-12 03:00:00-04:00</th>\n",
       "      <td>4974.3</td>\n",
       "      <td>2017-03-12 03:00:00</td>\n",
       "    </tr>\n",
       "    <tr>\n",
       "      <th>2017-03-12 04:00:00-04:00</th>\n",
       "      <td>4906.6</td>\n",
       "      <td>2017-03-12 04:00:00</td>\n",
       "    </tr>\n",
       "    <tr>\n",
       "      <th>2017-03-12 05:00:00-04:00</th>\n",
       "      <td>4920.1</td>\n",
       "      <td>2017-03-12 05:00:00</td>\n",
       "    </tr>\n",
       "  </tbody>\n",
       "</table>\n",
       "</div>"
      ],
      "text/plain": [
       "                           integrated_load    time_stamp_local\n",
       "time_stamp                                                    \n",
       "2017-03-12 00:00:00-05:00           5331.5 2017-03-12 00:00:00\n",
       "2017-03-12 01:00:00-05:00           5103.5 2017-03-12 01:00:00\n",
       "2017-03-12 03:00:00-04:00           4974.3 2017-03-12 03:00:00\n",
       "2017-03-12 04:00:00-04:00           4906.6 2017-03-12 04:00:00\n",
       "2017-03-12 05:00:00-04:00           4920.1 2017-03-12 05:00:00"
      ]
     },
     "execution_count": 33,
     "metadata": {},
     "output_type": "execute_result"
    }
   ],
   "source": [
    "df_nyc.head()"
   ]
  },
  {
   "cell_type": "code",
   "execution_count": 34,
   "metadata": {},
   "outputs": [],
   "source": [
    "df_nyc.set_index(df_nyc.index.tz_convert('GMT'), inplace = True)"
   ]
  },
  {
   "cell_type": "code",
   "execution_count": 35,
   "metadata": {},
   "outputs": [
    {
     "data": {
      "text/html": [
       "<div>\n",
       "<style>\n",
       "    .dataframe thead tr:only-child th {\n",
       "        text-align: right;\n",
       "    }\n",
       "\n",
       "    .dataframe thead th {\n",
       "        text-align: left;\n",
       "    }\n",
       "\n",
       "    .dataframe tbody tr th {\n",
       "        vertical-align: top;\n",
       "    }\n",
       "</style>\n",
       "<table border=\"1\" class=\"dataframe\">\n",
       "  <thead>\n",
       "    <tr style=\"text-align: right;\">\n",
       "      <th></th>\n",
       "      <th>integrated_load</th>\n",
       "      <th>time_stamp_local</th>\n",
       "    </tr>\n",
       "    <tr>\n",
       "      <th>time_stamp</th>\n",
       "      <th></th>\n",
       "      <th></th>\n",
       "    </tr>\n",
       "  </thead>\n",
       "  <tbody>\n",
       "    <tr>\n",
       "      <th>2017-03-12 05:00:00+00:00</th>\n",
       "      <td>5331.5</td>\n",
       "      <td>2017-03-12 00:00:00</td>\n",
       "    </tr>\n",
       "    <tr>\n",
       "      <th>2017-03-12 06:00:00+00:00</th>\n",
       "      <td>5103.5</td>\n",
       "      <td>2017-03-12 01:00:00</td>\n",
       "    </tr>\n",
       "    <tr>\n",
       "      <th>2017-03-12 07:00:00+00:00</th>\n",
       "      <td>4974.3</td>\n",
       "      <td>2017-03-12 03:00:00</td>\n",
       "    </tr>\n",
       "    <tr>\n",
       "      <th>2017-03-12 08:00:00+00:00</th>\n",
       "      <td>4906.6</td>\n",
       "      <td>2017-03-12 04:00:00</td>\n",
       "    </tr>\n",
       "    <tr>\n",
       "      <th>2017-03-12 09:00:00+00:00</th>\n",
       "      <td>4920.1</td>\n",
       "      <td>2017-03-12 05:00:00</td>\n",
       "    </tr>\n",
       "  </tbody>\n",
       "</table>\n",
       "</div>"
      ],
      "text/plain": [
       "                           integrated_load    time_stamp_local\n",
       "time_stamp                                                    \n",
       "2017-03-12 05:00:00+00:00           5331.5 2017-03-12 00:00:00\n",
       "2017-03-12 06:00:00+00:00           5103.5 2017-03-12 01:00:00\n",
       "2017-03-12 07:00:00+00:00           4974.3 2017-03-12 03:00:00\n",
       "2017-03-12 08:00:00+00:00           4906.6 2017-03-12 04:00:00\n",
       "2017-03-12 09:00:00+00:00           4920.1 2017-03-12 05:00:00"
      ]
     },
     "execution_count": 35,
     "metadata": {},
     "output_type": "execute_result"
    }
   ],
   "source": [
    "df_nyc.head()"
   ]
  },
  {
   "cell_type": "code",
   "execution_count": 102,
   "metadata": {},
   "outputs": [],
   "source": [
    "def select_nyc(dir_path, filename):\n",
    "    df_int = pd.read_csv(dir_path + filename, parse_dates = ['Time Stamp'])#, dtype={'Integrated Load' : np.float64})\n",
    "    nyc_ind = df_int.Name.apply(lambda x: 'N.Y.C.' in x)\n",
    "    df_nyc = df_int.loc[nyc_ind,['Time Stamp', 'Integrated Load']].reset_index(drop = True)\n",
    "    df_nyc.columns = ['time_stamp', 'integrated_load']\n",
    "    df_nyc.set_index('time_stamp', inplace = True)\n",
    "    df_nyc['time_stamp_local'] = df_nyc.index\n",
    "    df_nyc.set_index(df_nyc.index.tz_localize('US/Eastern', ambiguous='infer'), inplace = True)\n",
    "    df_nyc.set_index(df_nyc.index.tz_convert('GMT'), inplace = True)\n",
    "    output_filename = filename[:8] + 'nyc.csv'\n",
    "    df_nyc.to_csv(dir_path + output_filename)\n",
    "    return df_nyc"
   ]
  },
  {
   "cell_type": "code",
   "execution_count": 103,
   "metadata": {},
   "outputs": [],
   "source": [
    "df_t = pd.DataFrame()\n",
    "for dir_path in os.listdir('nyiso_load/'):\n",
    "    if 'csv' in dir_path:\n",
    "        dir_path = 'nyiso_load/' + dir_path + '/'\n",
    "        for filename in os.listdir(dir_path):\n",
    "            if 'Integrated' in filename:\n",
    "                df_t = pd.concat([df_t, select_nyc(dir_path, filename)])\n",
    "                #select_nyc(dir_path, filename)"
   ]
  },
  {
   "cell_type": "code",
   "execution_count": 104,
   "metadata": {},
   "outputs": [
    {
     "data": {
      "text/html": [
       "<div>\n",
       "<style>\n",
       "    .dataframe thead tr:only-child th {\n",
       "        text-align: right;\n",
       "    }\n",
       "\n",
       "    .dataframe thead th {\n",
       "        text-align: left;\n",
       "    }\n",
       "\n",
       "    .dataframe tbody tr th {\n",
       "        vertical-align: top;\n",
       "    }\n",
       "</style>\n",
       "<table border=\"1\" class=\"dataframe\">\n",
       "  <thead>\n",
       "    <tr style=\"text-align: right;\">\n",
       "      <th></th>\n",
       "      <th>integrated_load</th>\n",
       "      <th>time_stamp_local</th>\n",
       "    </tr>\n",
       "    <tr>\n",
       "      <th>time_stamp</th>\n",
       "      <th></th>\n",
       "      <th></th>\n",
       "    </tr>\n",
       "  </thead>\n",
       "  <tbody>\n",
       "    <tr>\n",
       "      <th>2016-01-06 05:00:00+00:00</th>\n",
       "      <td>5303.9</td>\n",
       "      <td>2016-01-06 00:00:00</td>\n",
       "    </tr>\n",
       "    <tr>\n",
       "      <th>2016-01-06 06:00:00+00:00</th>\n",
       "      <td>5060.4</td>\n",
       "      <td>2016-01-06 01:00:00</td>\n",
       "    </tr>\n",
       "    <tr>\n",
       "      <th>2016-01-06 07:00:00+00:00</th>\n",
       "      <td>4911.2</td>\n",
       "      <td>2016-01-06 02:00:00</td>\n",
       "    </tr>\n",
       "    <tr>\n",
       "      <th>2016-01-06 08:00:00+00:00</th>\n",
       "      <td>4851.6</td>\n",
       "      <td>2016-01-06 03:00:00</td>\n",
       "    </tr>\n",
       "    <tr>\n",
       "      <th>2016-01-06 09:00:00+00:00</th>\n",
       "      <td>4888.2</td>\n",
       "      <td>2016-01-06 04:00:00</td>\n",
       "    </tr>\n",
       "  </tbody>\n",
       "</table>\n",
       "</div>"
      ],
      "text/plain": [
       "                          integrated_load    time_stamp_local\n",
       "time_stamp                                                   \n",
       "2016-01-06 05:00:00+00:00          5303.9 2016-01-06 00:00:00\n",
       "2016-01-06 06:00:00+00:00          5060.4 2016-01-06 01:00:00\n",
       "2016-01-06 07:00:00+00:00          4911.2 2016-01-06 02:00:00\n",
       "2016-01-06 08:00:00+00:00          4851.6 2016-01-06 03:00:00\n",
       "2016-01-06 09:00:00+00:00          4888.2 2016-01-06 04:00:00"
      ]
     },
     "execution_count": 104,
     "metadata": {},
     "output_type": "execute_result"
    }
   ],
   "source": [
    "df_t.head()"
   ]
  },
  {
   "cell_type": "code",
   "execution_count": 105,
   "metadata": {},
   "outputs": [
    {
     "data": {
      "text/plain": [
       "integrated_load             object\n",
       "time_stamp_local    datetime64[ns]\n",
       "dtype: object"
      ]
     },
     "execution_count": 105,
     "metadata": {},
     "output_type": "execute_result"
    }
   ],
   "source": [
    "df_t.dtypes"
   ]
  },
  {
   "cell_type": "code",
   "execution_count": 108,
   "metadata": {},
   "outputs": [],
   "source": [
    "def is_number(s):\n",
    "    try:\n",
    "        float(s)\n",
    "        return float(s)\n",
    "    except ValueError:\n",
    "        return 0."
   ]
  },
  {
   "cell_type": "code",
   "execution_count": 110,
   "metadata": {},
   "outputs": [],
   "source": [
    "df_t.loc[:,'integrated_load'] = df_t.integrated_load.apply(is_number)"
   ]
  },
  {
   "cell_type": "code",
   "execution_count": 46,
   "metadata": {},
   "outputs": [],
   "source": [
    "#df_cmp = pd.read_csv('nyiso_2017.csv', parse_dates=['time_stamp'])"
   ]
  },
  {
   "cell_type": "code",
   "execution_count": 111,
   "metadata": {},
   "outputs": [
    {
     "data": {
      "text/plain": [
       "(736274.0, 736275.0)"
      ]
     },
     "execution_count": 111,
     "metadata": {},
     "output_type": "execute_result"
    },
    {
     "data": {
      "image/png": "[encoded data removed]",
      "text/plain": [
       "<matplotlib.figure.Figure at 0x11655bc50>"
      ]
     },
     "metadata": {},
     "output_type": "display_data"
    }
   ],
   "source": [
    "fig, ax = plt.subplots(figsize = (8, 8))\n",
    "#ax.plot(df_t.loc[:,'time_stamp_local'], df_t.loc[:,'integrated_load'], '.')\n",
    "ax.plot(df_t.index, df_t.loc[:,'time_stamp_local'], '.', label = 'GMT')\n",
    "# ax.set_xlim(pd.datetime(2016,3,13), pd.datetime(2016,3,14))\n",
    "# ax.set_ylim(pd.datetime(2016,3,13), pd.datetime(2016,3,14))\n",
    "ax.set_xlim(pd.datetime(2016,11,6), pd.datetime(2016,11,7))\n",
    "ax.set_ylim(pd.datetime(2016,11,6), pd.datetime(2016,11,7))"
   ]
  },
  {
   "cell_type": "code",
   "execution_count": 112,
   "metadata": {},
   "outputs": [
    {
     "data": {
      "text/plain": [
       "<matplotlib.legend.Legend at 0x1164e7ba8>"
      ]
     },
     "execution_count": 112,
     "metadata": {},
     "output_type": "execute_result"
    },
    {
     "data": {
      "image/png": "[encoded data removed]",
      "text/plain": [
       "<matplotlib.figure.Figure at 0x115c45160>"
      ]
     },
     "metadata": {},
     "output_type": "display_data"
    }
   ],
   "source": [
    "fig, ax = plt.subplots(figsize = (16, 9))\n",
    "#ax.plot(df_t.loc[:,'time_stamp_local'], df_t.loc[:,'integrated_load'], '.')\n",
    "ax.plot(df_t.index, df_t.loc[:,'integrated_load'], '.', label = 'GMT')\n",
    "#ax.plot(df_cmp.iloc[:,0], df_cmp.iloc[:,1], '.', label = 'EST')\n",
    "ax.legend()\n",
    "#ax.set_xlim(pd.datetime(2017,3,8), pd.datetime(2017,3,15))"
   ]
  },
  {
   "cell_type": "code",
   "execution_count": 113,
   "metadata": {},
   "outputs": [
    {
     "data": {
      "text/plain": [
       "(8784, 2)"
      ]
     },
     "execution_count": 113,
     "metadata": {},
     "output_type": "execute_result"
    }
   ],
   "source": [
    "df_t.shape"
   ]
  },
  {
   "cell_type": "code",
   "execution_count": 114,
   "metadata": {},
   "outputs": [
    {
     "data": {
      "text/plain": [
       "integrated_load            float64\n",
       "time_stamp_local    datetime64[ns]\n",
       "dtype: object"
      ]
     },
     "execution_count": 114,
     "metadata": {},
     "output_type": "execute_result"
    }
   ],
   "source": [
    "df_t.dtypes"
   ]
  },
  {
   "cell_type": "code",
   "execution_count": 115,
   "metadata": {},
   "outputs": [
    {
     "data": {
      "text/html": [
       "<div>\n",
       "<style>\n",
       "    .dataframe thead tr:only-child th {\n",
       "        text-align: right;\n",
       "    }\n",
       "\n",
       "    .dataframe thead th {\n",
       "        text-align: left;\n",
       "    }\n",
       "\n",
       "    .dataframe tbody tr th {\n",
       "        vertical-align: top;\n",
       "    }\n",
       "</style>\n",
       "<table border=\"1\" class=\"dataframe\">\n",
       "  <thead>\n",
       "    <tr style=\"text-align: right;\">\n",
       "      <th></th>\n",
       "      <th>integrated_load</th>\n",
       "      <th>time_stamp_local</th>\n",
       "    </tr>\n",
       "    <tr>\n",
       "      <th>time_stamp</th>\n",
       "      <th></th>\n",
       "      <th></th>\n",
       "    </tr>\n",
       "  </thead>\n",
       "  <tbody>\n",
       "    <tr>\n",
       "      <th>2016-01-06 05:00:00+00:00</th>\n",
       "      <td>5303.9</td>\n",
       "      <td>2016-01-06 00:00:00</td>\n",
       "    </tr>\n",
       "    <tr>\n",
       "      <th>2016-01-06 06:00:00+00:00</th>\n",
       "      <td>5060.4</td>\n",
       "      <td>2016-01-06 01:00:00</td>\n",
       "    </tr>\n",
       "    <tr>\n",
       "      <th>2016-01-06 07:00:00+00:00</th>\n",
       "      <td>4911.2</td>\n",
       "      <td>2016-01-06 02:00:00</td>\n",
       "    </tr>\n",
       "    <tr>\n",
       "      <th>2016-01-06 08:00:00+00:00</th>\n",
       "      <td>4851.6</td>\n",
       "      <td>2016-01-06 03:00:00</td>\n",
       "    </tr>\n",
       "    <tr>\n",
       "      <th>2016-01-06 09:00:00+00:00</th>\n",
       "      <td>4888.2</td>\n",
       "      <td>2016-01-06 04:00:00</td>\n",
       "    </tr>\n",
       "  </tbody>\n",
       "</table>\n",
       "</div>"
      ],
      "text/plain": [
       "                           integrated_load    time_stamp_local\n",
       "time_stamp                                                    \n",
       "2016-01-06 05:00:00+00:00           5303.9 2016-01-06 00:00:00\n",
       "2016-01-06 06:00:00+00:00           5060.4 2016-01-06 01:00:00\n",
       "2016-01-06 07:00:00+00:00           4911.2 2016-01-06 02:00:00\n",
       "2016-01-06 08:00:00+00:00           4851.6 2016-01-06 03:00:00\n",
       "2016-01-06 09:00:00+00:00           4888.2 2016-01-06 04:00:00"
      ]
     },
     "execution_count": 115,
     "metadata": {},
     "output_type": "execute_result"
    }
   ],
   "source": [
    "df_t.head()"
   ]
  },
  {
   "cell_type": "code",
   "execution_count": 116,
   "metadata": {},
   "outputs": [],
   "source": [
    "df_t.sort_index(inplace = True)"
   ]
  },
  {
   "cell_type": "code",
   "execution_count": 117,
   "metadata": {},
   "outputs": [
    {
     "data": {
      "text/html": [
       "<div>\n",
       "<style>\n",
       "    .dataframe thead tr:only-child th {\n",
       "        text-align: right;\n",
       "    }\n",
       "\n",
       "    .dataframe thead th {\n",
       "        text-align: left;\n",
       "    }\n",
       "\n",
       "    .dataframe tbody tr th {\n",
       "        vertical-align: top;\n",
       "    }\n",
       "</style>\n",
       "<table border=\"1\" class=\"dataframe\">\n",
       "  <thead>\n",
       "    <tr style=\"text-align: right;\">\n",
       "      <th></th>\n",
       "      <th>integrated_load</th>\n",
       "      <th>time_stamp_local</th>\n",
       "    </tr>\n",
       "    <tr>\n",
       "      <th>time_stamp</th>\n",
       "      <th></th>\n",
       "      <th></th>\n",
       "    </tr>\n",
       "  </thead>\n",
       "  <tbody>\n",
       "    <tr>\n",
       "      <th>2016-01-01 05:00:00+00:00</th>\n",
       "      <td>4894.5</td>\n",
       "      <td>2016-01-01 00:00:00</td>\n",
       "    </tr>\n",
       "    <tr>\n",
       "      <th>2016-01-01 06:00:00+00:00</th>\n",
       "      <td>4712.7</td>\n",
       "      <td>2016-01-01 01:00:00</td>\n",
       "    </tr>\n",
       "    <tr>\n",
       "      <th>2016-01-01 07:00:00+00:00</th>\n",
       "      <td>4510.4</td>\n",
       "      <td>2016-01-01 02:00:00</td>\n",
       "    </tr>\n",
       "    <tr>\n",
       "      <th>2016-01-01 08:00:00+00:00</th>\n",
       "      <td>4368.4</td>\n",
       "      <td>2016-01-01 03:00:00</td>\n",
       "    </tr>\n",
       "    <tr>\n",
       "      <th>2016-01-01 09:00:00+00:00</th>\n",
       "      <td>4286.8</td>\n",
       "      <td>2016-01-01 04:00:00</td>\n",
       "    </tr>\n",
       "  </tbody>\n",
       "</table>\n",
       "</div>"
      ],
      "text/plain": [
       "                           integrated_load    time_stamp_local\n",
       "time_stamp                                                    \n",
       "2016-01-01 05:00:00+00:00           4894.5 2016-01-01 00:00:00\n",
       "2016-01-01 06:00:00+00:00           4712.7 2016-01-01 01:00:00\n",
       "2016-01-01 07:00:00+00:00           4510.4 2016-01-01 02:00:00\n",
       "2016-01-01 08:00:00+00:00           4368.4 2016-01-01 03:00:00\n",
       "2016-01-01 09:00:00+00:00           4286.8 2016-01-01 04:00:00"
      ]
     },
     "execution_count": 117,
     "metadata": {},
     "output_type": "execute_result"
    }
   ],
   "source": [
    "df_t.head()"
   ]
  },
  {
   "cell_type": "code",
   "execution_count": 126,
   "metadata": {},
   "outputs": [
    {
     "data": {
      "text/html": [
       "<div>\n",
       "<style>\n",
       "    .dataframe thead tr:only-child th {\n",
       "        text-align: right;\n",
       "    }\n",
       "\n",
       "    .dataframe thead th {\n",
       "        text-align: left;\n",
       "    }\n",
       "\n",
       "    .dataframe tbody tr th {\n",
       "        vertical-align: top;\n",
       "    }\n",
       "</style>\n",
       "<table border=\"1\" class=\"dataframe\">\n",
       "  <thead>\n",
       "    <tr style=\"text-align: right;\">\n",
       "      <th></th>\n",
       "      <th>integrated_load</th>\n",
       "      <th>time_stamp_local</th>\n",
       "    </tr>\n",
       "    <tr>\n",
       "      <th>time_stamp</th>\n",
       "      <th></th>\n",
       "      <th></th>\n",
       "    </tr>\n",
       "  </thead>\n",
       "  <tbody>\n",
       "    <tr>\n",
       "      <th>2017-01-01 00:00:00+00:00</th>\n",
       "      <td>5985.5</td>\n",
       "      <td>2016-12-31 19:00:00</td>\n",
       "    </tr>\n",
       "    <tr>\n",
       "      <th>2017-01-01 01:00:00+00:00</th>\n",
       "      <td>5818.3</td>\n",
       "      <td>2016-12-31 20:00:00</td>\n",
       "    </tr>\n",
       "    <tr>\n",
       "      <th>2017-01-01 02:00:00+00:00</th>\n",
       "      <td>5615.7</td>\n",
       "      <td>2016-12-31 21:00:00</td>\n",
       "    </tr>\n",
       "    <tr>\n",
       "      <th>2017-01-01 03:00:00+00:00</th>\n",
       "      <td>5393.9</td>\n",
       "      <td>2016-12-31 22:00:00</td>\n",
       "    </tr>\n",
       "    <tr>\n",
       "      <th>2017-01-01 04:00:00+00:00</th>\n",
       "      <td>5200.2</td>\n",
       "      <td>2016-12-31 23:00:00</td>\n",
       "    </tr>\n",
       "  </tbody>\n",
       "</table>\n",
       "</div>"
      ],
      "text/plain": [
       "                           integrated_load    time_stamp_local\n",
       "time_stamp                                                    \n",
       "2017-01-01 00:00:00+00:00           5985.5 2016-12-31 19:00:00\n",
       "2017-01-01 01:00:00+00:00           5818.3 2016-12-31 20:00:00\n",
       "2017-01-01 02:00:00+00:00           5615.7 2016-12-31 21:00:00\n",
       "2017-01-01 03:00:00+00:00           5393.9 2016-12-31 22:00:00\n",
       "2017-01-01 04:00:00+00:00           5200.2 2016-12-31 23:00:00"
      ]
     },
     "execution_count": 126,
     "metadata": {},
     "output_type": "execute_result"
    }
   ],
   "source": [
    "df_t.tail()"
   ]
  },
  {
   "cell_type": "code",
   "execution_count": 118,
   "metadata": {},
   "outputs": [],
   "source": [
    "df_t.to_csv('nyiso_2016.csv')"
   ]
  },
  {
   "cell_type": "code",
   "execution_count": 128,
   "metadata": {},
   "outputs": [],
   "source": [
    "df_test = pd.read_csv('nyiso_2017.csv', parse_dates=['time_stamp', 'time_stamp_local'])"
   ]
  },
  {
   "cell_type": "code",
   "execution_count": 129,
   "metadata": {},
   "outputs": [
    {
     "data": {
      "text/html": [
       "<div>\n",
       "<style>\n",
       "    .dataframe thead tr:only-child th {\n",
       "        text-align: right;\n",
       "    }\n",
       "\n",
       "    .dataframe thead th {\n",
       "        text-align: left;\n",
       "    }\n",
       "\n",
       "    .dataframe tbody tr th {\n",
       "        vertical-align: top;\n",
       "    }\n",
       "</style>\n",
       "<table border=\"1\" class=\"dataframe\">\n",
       "  <thead>\n",
       "    <tr style=\"text-align: right;\">\n",
       "      <th></th>\n",
       "      <th>time_stamp</th>\n",
       "      <th>integrated_load</th>\n",
       "      <th>time_stamp_local</th>\n",
       "    </tr>\n",
       "  </thead>\n",
       "  <tbody>\n",
       "    <tr>\n",
       "      <th>0</th>\n",
       "      <td>2017-01-01 05:00:00</td>\n",
       "      <td>5011.2</td>\n",
       "      <td>2017-01-01 00:00:00</td>\n",
       "    </tr>\n",
       "    <tr>\n",
       "      <th>1</th>\n",
       "      <td>2017-01-01 06:00:00</td>\n",
       "      <td>4837.3</td>\n",
       "      <td>2017-01-01 01:00:00</td>\n",
       "    </tr>\n",
       "    <tr>\n",
       "      <th>2</th>\n",
       "      <td>2017-01-01 07:00:00</td>\n",
       "      <td>4652.6</td>\n",
       "      <td>2017-01-01 02:00:00</td>\n",
       "    </tr>\n",
       "    <tr>\n",
       "      <th>3</th>\n",
       "      <td>2017-01-01 08:00:00</td>\n",
       "      <td>4500.7</td>\n",
       "      <td>2017-01-01 03:00:00</td>\n",
       "    </tr>\n",
       "    <tr>\n",
       "      <th>4</th>\n",
       "      <td>2017-01-01 09:00:00</td>\n",
       "      <td>4423.5</td>\n",
       "      <td>2017-01-01 04:00:00</td>\n",
       "    </tr>\n",
       "  </tbody>\n",
       "</table>\n",
       "</div>"
      ],
      "text/plain": [
       "           time_stamp  integrated_load    time_stamp_local\n",
       "0 2017-01-01 05:00:00           5011.2 2017-01-01 00:00:00\n",
       "1 2017-01-01 06:00:00           4837.3 2017-01-01 01:00:00\n",
       "2 2017-01-01 07:00:00           4652.6 2017-01-01 02:00:00\n",
       "3 2017-01-01 08:00:00           4500.7 2017-01-01 03:00:00\n",
       "4 2017-01-01 09:00:00           4423.5 2017-01-01 04:00:00"
      ]
     },
     "execution_count": 129,
     "metadata": {},
     "output_type": "execute_result"
    }
   ],
   "source": [
    "df_test.head()"
   ]
  },
  {
   "cell_type": "code",
   "execution_count": 130,
   "metadata": {},
   "outputs": [
    {
     "data": {
      "text/plain": [
       "dtype('<M8[ns]')"
      ]
     },
     "execution_count": 130,
     "metadata": {},
     "output_type": "execute_result"
    }
   ],
   "source": [
    "df_test.time_stamp.dtype"
   ]
  },
  {
   "cell_type": "code",
   "execution_count": 124,
   "metadata": {},
   "outputs": [],
   "source": [
    "df_test.sort_values(['time_stamp'], inplace = True)"
   ]
  },
  {
   "cell_type": "code",
   "execution_count": 125,
   "metadata": {},
   "outputs": [
    {
     "data": {
      "text/html": [
       "<div>\n",
       "<style>\n",
       "    .dataframe thead tr:only-child th {\n",
       "        text-align: right;\n",
       "    }\n",
       "\n",
       "    .dataframe thead th {\n",
       "        text-align: left;\n",
       "    }\n",
       "\n",
       "    .dataframe tbody tr th {\n",
       "        vertical-align: top;\n",
       "    }\n",
       "</style>\n",
       "<table border=\"1\" class=\"dataframe\">\n",
       "  <thead>\n",
       "    <tr style=\"text-align: right;\">\n",
       "      <th></th>\n",
       "      <th>time_stamp</th>\n",
       "      <th>integrated_load</th>\n",
       "      <th>time_stamp_local</th>\n",
       "    </tr>\n",
       "  </thead>\n",
       "  <tbody>\n",
       "    <tr>\n",
       "      <th>1296</th>\n",
       "      <td>2017-01-01 05:00:00</td>\n",
       "      <td>5011.2</td>\n",
       "      <td>2017-01-01 00:00:00</td>\n",
       "    </tr>\n",
       "    <tr>\n",
       "      <th>1297</th>\n",
       "      <td>2017-01-01 06:00:00</td>\n",
       "      <td>4837.3</td>\n",
       "      <td>2017-01-01 01:00:00</td>\n",
       "    </tr>\n",
       "    <tr>\n",
       "      <th>1298</th>\n",
       "      <td>2017-01-01 07:00:00</td>\n",
       "      <td>4652.6</td>\n",
       "      <td>2017-01-01 02:00:00</td>\n",
       "    </tr>\n",
       "    <tr>\n",
       "      <th>1299</th>\n",
       "      <td>2017-01-01 08:00:00</td>\n",
       "      <td>4500.7</td>\n",
       "      <td>2017-01-01 03:00:00</td>\n",
       "    </tr>\n",
       "    <tr>\n",
       "      <th>1300</th>\n",
       "      <td>2017-01-01 09:00:00</td>\n",
       "      <td>4423.5</td>\n",
       "      <td>2017-01-01 04:00:00</td>\n",
       "    </tr>\n",
       "  </tbody>\n",
       "</table>\n",
       "</div>"
      ],
      "text/plain": [
       "              time_stamp  integrated_load    time_stamp_local\n",
       "1296 2017-01-01 05:00:00           5011.2 2017-01-01 00:00:00\n",
       "1297 2017-01-01 06:00:00           4837.3 2017-01-01 01:00:00\n",
       "1298 2017-01-01 07:00:00           4652.6 2017-01-01 02:00:00\n",
       "1299 2017-01-01 08:00:00           4500.7 2017-01-01 03:00:00\n",
       "1300 2017-01-01 09:00:00           4423.5 2017-01-01 04:00:00"
      ]
     },
     "execution_count": 125,
     "metadata": {},
     "output_type": "execute_result"
    }
   ],
   "source": [
    "df_test.head()"
   ]
  },
  {
   "cell_type": "code",
   "execution_count": 127,
   "metadata": {},
   "outputs": [],
   "source": [
    "df_test.to_csv('nyiso_2017.csv', index = False)"
   ]
  },
  {
   "cell_type": "code",
   "execution_count": null,
   "metadata": {},
   "outputs": [],
   "source": []
  }
 ],
 "metadata": {
  "anaconda-cloud": {},
  "kernelspec": {
   "display_name": "Python 3",
   "language": "python",
   "name": "python3"
  },
  "language_info": {
   "codemirror_mode": {
    "name": "ipython",
    "version": 3
   },
   "file_extension": ".py",
   "mimetype": "text/x-python",
   "name": "python",
   "nbconvert_exporter": "python",
   "pygments_lexer": "ipython3",
   "version": "3.5.4"
  }
 },
 "nbformat": 4,
 "nbformat_minor": 1
}
