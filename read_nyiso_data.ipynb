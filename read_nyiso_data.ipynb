{
 "cells": [
  {
   "cell_type": "code",
   "execution_count": 1,
   "metadata": {},
   "outputs": [],
   "source": [
    "import os\n",
    "import pandas as pd\n",
    "import matplotlib.pyplot as plt"
   ]
  },
  {
   "cell_type": "code",
   "execution_count": 3,
   "metadata": {},
   "outputs": [
    {
     "name": "stdout",
     "output_type": "stream",
     "text": [
      "\u001b[31m20170101pal.csv\u001b[m\u001b[m \u001b[31m20170108pal.csv\u001b[m\u001b[m \u001b[31m20170115pal.csv\u001b[m\u001b[m \u001b[31m20170122pal.csv\u001b[m\u001b[m \u001b[31m20170129pal.csv\u001b[m\u001b[m\r\n",
      "\u001b[31m20170102pal.csv\u001b[m\u001b[m \u001b[31m20170109pal.csv\u001b[m\u001b[m \u001b[31m20170116pal.csv\u001b[m\u001b[m \u001b[31m20170123pal.csv\u001b[m\u001b[m \u001b[31m20170130pal.csv\u001b[m\u001b[m\r\n",
      "\u001b[31m20170103pal.csv\u001b[m\u001b[m \u001b[31m20170110pal.csv\u001b[m\u001b[m \u001b[31m20170117pal.csv\u001b[m\u001b[m \u001b[31m20170124pal.csv\u001b[m\u001b[m \u001b[31m20170131pal.csv\u001b[m\u001b[m\r\n",
      "\u001b[31m20170104pal.csv\u001b[m\u001b[m \u001b[31m20170111pal.csv\u001b[m\u001b[m \u001b[31m20170118pal.csv\u001b[m\u001b[m \u001b[31m20170125pal.csv\u001b[m\u001b[m\r\n",
      "\u001b[31m20170105pal.csv\u001b[m\u001b[m \u001b[31m20170112pal.csv\u001b[m\u001b[m \u001b[31m20170119pal.csv\u001b[m\u001b[m \u001b[31m20170126pal.csv\u001b[m\u001b[m\r\n",
      "\u001b[31m20170106pal.csv\u001b[m\u001b[m \u001b[31m20170113pal.csv\u001b[m\u001b[m \u001b[31m20170120pal.csv\u001b[m\u001b[m \u001b[31m20170127pal.csv\u001b[m\u001b[m\r\n",
      "\u001b[31m20170107pal.csv\u001b[m\u001b[m \u001b[31m20170114pal.csv\u001b[m\u001b[m \u001b[31m20170121pal.csv\u001b[m\u001b[m \u001b[31m20170128pal.csv\u001b[m\u001b[m\r\n"
     ]
    }
   ],
   "source": [
    "!ls nyiso_load/20170101pal_csv/"
   ]
  },
  {
   "cell_type": "code",
   "execution_count": 7,
   "metadata": {},
   "outputs": [],
   "source": [
    "df_int = pd.read_csv('nyiso_load/' + '20170101pal_csv/' + '20170101pal.csv', parse_dates = ['Time Stamp'])"
   ]
  },
  {
   "cell_type": "code",
   "execution_count": 8,
   "metadata": {},
   "outputs": [
    {
     "data": {
      "text/html": [
       "<div>\n",
       "<style>\n",
       "    .dataframe thead tr:only-child th {\n",
       "        text-align: right;\n",
       "    }\n",
       "\n",
       "    .dataframe thead th {\n",
       "        text-align: left;\n",
       "    }\n",
       "\n",
       "    .dataframe tbody tr th {\n",
       "        vertical-align: top;\n",
       "    }\n",
       "</style>\n",
       "<table border=\"1\" class=\"dataframe\">\n",
       "  <thead>\n",
       "    <tr style=\"text-align: right;\">\n",
       "      <th></th>\n",
       "      <th>Time Stamp</th>\n",
       "      <th>Time Zone</th>\n",
       "      <th>Name</th>\n",
       "      <th>PTID</th>\n",
       "      <th>Load</th>\n",
       "    </tr>\n",
       "  </thead>\n",
       "  <tbody>\n",
       "    <tr>\n",
       "      <th>0</th>\n",
       "      <td>2017-01-01</td>\n",
       "      <td>EST</td>\n",
       "      <td>CAPITL</td>\n",
       "      <td>61757</td>\n",
       "      <td>1211.6</td>\n",
       "    </tr>\n",
       "    <tr>\n",
       "      <th>1</th>\n",
       "      <td>2017-01-01</td>\n",
       "      <td>EST</td>\n",
       "      <td>CENTRL</td>\n",
       "      <td>61754</td>\n",
       "      <td>1671.9</td>\n",
       "    </tr>\n",
       "    <tr>\n",
       "      <th>2</th>\n",
       "      <td>2017-01-01</td>\n",
       "      <td>EST</td>\n",
       "      <td>DUNWOD</td>\n",
       "      <td>61760</td>\n",
       "      <td>620.2</td>\n",
       "    </tr>\n",
       "    <tr>\n",
       "      <th>3</th>\n",
       "      <td>2017-01-01</td>\n",
       "      <td>EST</td>\n",
       "      <td>GENESE</td>\n",
       "      <td>61753</td>\n",
       "      <td>978.6</td>\n",
       "    </tr>\n",
       "    <tr>\n",
       "      <th>4</th>\n",
       "      <td>2017-01-01</td>\n",
       "      <td>EST</td>\n",
       "      <td>HUD VL</td>\n",
       "      <td>61758</td>\n",
       "      <td>1012.3</td>\n",
       "    </tr>\n",
       "  </tbody>\n",
       "</table>\n",
       "</div>"
      ],
      "text/plain": [
       "  Time Stamp Time Zone    Name   PTID    Load\n",
       "0 2017-01-01       EST  CAPITL  61757  1211.6\n",
       "1 2017-01-01       EST  CENTRL  61754  1671.9\n",
       "2 2017-01-01       EST  DUNWOD  61760   620.2\n",
       "3 2017-01-01       EST  GENESE  61753   978.6\n",
       "4 2017-01-01       EST  HUD VL  61758  1012.3"
      ]
     },
     "execution_count": 8,
     "metadata": {},
     "output_type": "execute_result"
    }
   ],
   "source": [
    "df_int.head()"
   ]
  },
  {
   "cell_type": "code",
   "execution_count": 9,
   "metadata": {},
   "outputs": [],
   "source": [
    "nyc_ind = df_int.Name.apply(lambda x: 'N.Y.C.' in x)\n",
    "df_nyc = df_int.loc[nyc_ind,['Time Stamp', 'Load']].reset_index(drop = True)"
   ]
  },
  {
   "cell_type": "code",
   "execution_count": 10,
   "metadata": {},
   "outputs": [
    {
     "data": {
      "text/html": [
       "<div>\n",
       "<style>\n",
       "    .dataframe thead tr:only-child th {\n",
       "        text-align: right;\n",
       "    }\n",
       "\n",
       "    .dataframe thead th {\n",
       "        text-align: left;\n",
       "    }\n",
       "\n",
       "    .dataframe tbody tr th {\n",
       "        vertical-align: top;\n",
       "    }\n",
       "</style>\n",
       "<table border=\"1\" class=\"dataframe\">\n",
       "  <thead>\n",
       "    <tr style=\"text-align: right;\">\n",
       "      <th></th>\n",
       "      <th>Time Stamp</th>\n",
       "      <th>Load</th>\n",
       "    </tr>\n",
       "  </thead>\n",
       "  <tbody>\n",
       "    <tr>\n",
       "      <th>0</th>\n",
       "      <td>2017-01-01 00:00:00</td>\n",
       "      <td>5116.9</td>\n",
       "    </tr>\n",
       "    <tr>\n",
       "      <th>1</th>\n",
       "      <td>2017-01-01 00:05:00</td>\n",
       "      <td>5102.1</td>\n",
       "    </tr>\n",
       "    <tr>\n",
       "      <th>2</th>\n",
       "      <td>2017-01-01 00:10:00</td>\n",
       "      <td>5074.9</td>\n",
       "    </tr>\n",
       "    <tr>\n",
       "      <th>3</th>\n",
       "      <td>2017-01-01 00:15:00</td>\n",
       "      <td>5089.6</td>\n",
       "    </tr>\n",
       "    <tr>\n",
       "      <th>4</th>\n",
       "      <td>2017-01-01 00:20:00</td>\n",
       "      <td>5061.3</td>\n",
       "    </tr>\n",
       "  </tbody>\n",
       "</table>\n",
       "</div>"
      ],
      "text/plain": [
       "           Time Stamp    Load\n",
       "0 2017-01-01 00:00:00  5116.9\n",
       "1 2017-01-01 00:05:00  5102.1\n",
       "2 2017-01-01 00:10:00  5074.9\n",
       "3 2017-01-01 00:15:00  5089.6\n",
       "4 2017-01-01 00:20:00  5061.3"
      ]
     },
     "execution_count": 10,
     "metadata": {},
     "output_type": "execute_result"
    }
   ],
   "source": [
    "df_nyc.head()"
   ]
  },
  {
   "cell_type": "code",
   "execution_count": 12,
   "metadata": {},
   "outputs": [],
   "source": [
    "df_nyc.columns = ['time_stamp', 'load']"
   ]
  },
  {
   "cell_type": "code",
   "execution_count": 13,
   "metadata": {},
   "outputs": [],
   "source": [
    "df_nyc.set_index('time_stamp', inplace = True)\n",
    "\n",
    "df_nyc['time_stamp_local'] = df_nyc.index\n",
    "\n",
    "df_nyc.set_index(df_nyc.index.tz_localize('US/Eastern'), inplace = True)"
   ]
  },
  {
   "cell_type": "code",
   "execution_count": 14,
   "metadata": {},
   "outputs": [
    {
     "data": {
      "text/html": [
       "<div>\n",
       "<style>\n",
       "    .dataframe thead tr:only-child th {\n",
       "        text-align: right;\n",
       "    }\n",
       "\n",
       "    .dataframe thead th {\n",
       "        text-align: left;\n",
       "    }\n",
       "\n",
       "    .dataframe tbody tr th {\n",
       "        vertical-align: top;\n",
       "    }\n",
       "</style>\n",
       "<table border=\"1\" class=\"dataframe\">\n",
       "  <thead>\n",
       "    <tr style=\"text-align: right;\">\n",
       "      <th></th>\n",
       "      <th>load</th>\n",
       "      <th>time_stamp_local</th>\n",
       "    </tr>\n",
       "    <tr>\n",
       "      <th>time_stamp</th>\n",
       "      <th></th>\n",
       "      <th></th>\n",
       "    </tr>\n",
       "  </thead>\n",
       "  <tbody>\n",
       "    <tr>\n",
       "      <th>2017-01-01 00:00:00-05:00</th>\n",
       "      <td>5116.9</td>\n",
       "      <td>2017-01-01 00:00:00</td>\n",
       "    </tr>\n",
       "    <tr>\n",
       "      <th>2017-01-01 00:05:00-05:00</th>\n",
       "      <td>5102.1</td>\n",
       "      <td>2017-01-01 00:05:00</td>\n",
       "    </tr>\n",
       "    <tr>\n",
       "      <th>2017-01-01 00:10:00-05:00</th>\n",
       "      <td>5074.9</td>\n",
       "      <td>2017-01-01 00:10:00</td>\n",
       "    </tr>\n",
       "    <tr>\n",
       "      <th>2017-01-01 00:15:00-05:00</th>\n",
       "      <td>5089.6</td>\n",
       "      <td>2017-01-01 00:15:00</td>\n",
       "    </tr>\n",
       "    <tr>\n",
       "      <th>2017-01-01 00:20:00-05:00</th>\n",
       "      <td>5061.3</td>\n",
       "      <td>2017-01-01 00:20:00</td>\n",
       "    </tr>\n",
       "  </tbody>\n",
       "</table>\n",
       "</div>"
      ],
      "text/plain": [
       "                             load    time_stamp_local\n",
       "time_stamp                                           \n",
       "2017-01-01 00:00:00-05:00  5116.9 2017-01-01 00:00:00\n",
       "2017-01-01 00:05:00-05:00  5102.1 2017-01-01 00:05:00\n",
       "2017-01-01 00:10:00-05:00  5074.9 2017-01-01 00:10:00\n",
       "2017-01-01 00:15:00-05:00  5089.6 2017-01-01 00:15:00\n",
       "2017-01-01 00:20:00-05:00  5061.3 2017-01-01 00:20:00"
      ]
     },
     "execution_count": 14,
     "metadata": {},
     "output_type": "execute_result"
    }
   ],
   "source": [
    "df_nyc.head()"
   ]
  },
  {
   "cell_type": "code",
   "execution_count": 15,
   "metadata": {},
   "outputs": [],
   "source": [
    "df_nyc.set_index(df_nyc.index.tz_convert('GMT'), inplace = True)"
   ]
  },
  {
   "cell_type": "code",
   "execution_count": 16,
   "metadata": {},
   "outputs": [
    {
     "data": {
      "text/html": [
       "<div>\n",
       "<style>\n",
       "    .dataframe thead tr:only-child th {\n",
       "        text-align: right;\n",
       "    }\n",
       "\n",
       "    .dataframe thead th {\n",
       "        text-align: left;\n",
       "    }\n",
       "\n",
       "    .dataframe tbody tr th {\n",
       "        vertical-align: top;\n",
       "    }\n",
       "</style>\n",
       "<table border=\"1\" class=\"dataframe\">\n",
       "  <thead>\n",
       "    <tr style=\"text-align: right;\">\n",
       "      <th></th>\n",
       "      <th>load</th>\n",
       "      <th>time_stamp_local</th>\n",
       "    </tr>\n",
       "    <tr>\n",
       "      <th>time_stamp</th>\n",
       "      <th></th>\n",
       "      <th></th>\n",
       "    </tr>\n",
       "  </thead>\n",
       "  <tbody>\n",
       "    <tr>\n",
       "      <th>2017-01-01 05:00:00+00:00</th>\n",
       "      <td>5116.9</td>\n",
       "      <td>2017-01-01 00:00:00</td>\n",
       "    </tr>\n",
       "    <tr>\n",
       "      <th>2017-01-01 05:05:00+00:00</th>\n",
       "      <td>5102.1</td>\n",
       "      <td>2017-01-01 00:05:00</td>\n",
       "    </tr>\n",
       "    <tr>\n",
       "      <th>2017-01-01 05:10:00+00:00</th>\n",
       "      <td>5074.9</td>\n",
       "      <td>2017-01-01 00:10:00</td>\n",
       "    </tr>\n",
       "    <tr>\n",
       "      <th>2017-01-01 05:15:00+00:00</th>\n",
       "      <td>5089.6</td>\n",
       "      <td>2017-01-01 00:15:00</td>\n",
       "    </tr>\n",
       "    <tr>\n",
       "      <th>2017-01-01 05:20:00+00:00</th>\n",
       "      <td>5061.3</td>\n",
       "      <td>2017-01-01 00:20:00</td>\n",
       "    </tr>\n",
       "  </tbody>\n",
       "</table>\n",
       "</div>"
      ],
      "text/plain": [
       "                             load    time_stamp_local\n",
       "time_stamp                                           \n",
       "2017-01-01 05:00:00+00:00  5116.9 2017-01-01 00:00:00\n",
       "2017-01-01 05:05:00+00:00  5102.1 2017-01-01 00:05:00\n",
       "2017-01-01 05:10:00+00:00  5074.9 2017-01-01 00:10:00\n",
       "2017-01-01 05:15:00+00:00  5089.6 2017-01-01 00:15:00\n",
       "2017-01-01 05:20:00+00:00  5061.3 2017-01-01 00:20:00"
      ]
     },
     "execution_count": 16,
     "metadata": {},
     "output_type": "execute_result"
    }
   ],
   "source": [
    "df_nyc.head()"
   ]
  },
  {
   "cell_type": "code",
   "execution_count": 17,
   "metadata": {},
   "outputs": [],
   "source": [
    "def select_nyc(dir_path, filename):\n",
    "    df_int = pd.read_csv(dir_path + filename, parse_dates = ['Time Stamp'])#, dtype={'Integrated Load' : np.float64})\n",
    "    nyc_ind = df_int.Name.apply(lambda x: 'N.Y.C.' in x)\n",
    "    df_nyc = df_int.loc[nyc_ind,['Time Stamp', 'Load']].reset_index(drop = True)\n",
    "    df_nyc.columns = ['time_stamp', 'load']\n",
    "    df_nyc.set_index('time_stamp', inplace = True)\n",
    "    df_nyc['time_stamp_local'] = df_nyc.index\n",
    "    df_nyc.set_index(df_nyc.index.tz_localize('US/Eastern', ambiguous='infer'), inplace = True)\n",
    "    df_nyc.set_index(df_nyc.index.tz_convert('GMT'), inplace = True)\n",
    "    output_filename = filename[:8] + 'nyc.csv'\n",
    "    df_nyc.to_csv(dir_path + output_filename)\n",
    "    return df_nyc"
   ]
  },
  {
   "cell_type": "code",
   "execution_count": 19,
   "metadata": {},
   "outputs": [],
   "source": [
    "df_t = pd.DataFrame()\n",
    "for dir_path in os.listdir('nyiso_load/'):\n",
    "    if 'csv' in dir_path:\n",
    "        dir_path = 'nyiso_load/' + dir_path + '/'\n",
    "        for filename in os.listdir(dir_path):\n",
    "            if 'pal' in filename:\n",
    "                df_t = pd.concat([df_t, select_nyc(dir_path, filename)])\n",
    "                #select_nyc(dir_path, filename)"
   ]
  },
  {
   "cell_type": "code",
   "execution_count": 20,
   "metadata": {},
   "outputs": [
    {
     "data": {
      "text/html": [
       "<div>\n",
       "<style>\n",
       "    .dataframe thead tr:only-child th {\n",
       "        text-align: right;\n",
       "    }\n",
       "\n",
       "    .dataframe thead th {\n",
       "        text-align: left;\n",
       "    }\n",
       "\n",
       "    .dataframe tbody tr th {\n",
       "        vertical-align: top;\n",
       "    }\n",
       "</style>\n",
       "<table border=\"1\" class=\"dataframe\">\n",
       "  <thead>\n",
       "    <tr style=\"text-align: right;\">\n",
       "      <th></th>\n",
       "      <th>load</th>\n",
       "      <th>time_stamp_local</th>\n",
       "    </tr>\n",
       "    <tr>\n",
       "      <th>time_stamp</th>\n",
       "      <th></th>\n",
       "      <th></th>\n",
       "    </tr>\n",
       "  </thead>\n",
       "  <tbody>\n",
       "    <tr>\n",
       "      <th>2017-12-20 05:00:00+00:00</th>\n",
       "      <td>4969.7</td>\n",
       "      <td>2017-12-20 00:00:00</td>\n",
       "    </tr>\n",
       "    <tr>\n",
       "      <th>2017-12-20 05:05:00+00:00</th>\n",
       "      <td>4939.9</td>\n",
       "      <td>2017-12-20 00:05:00</td>\n",
       "    </tr>\n",
       "    <tr>\n",
       "      <th>2017-12-20 05:10:00+00:00</th>\n",
       "      <td>4903.5</td>\n",
       "      <td>2017-12-20 00:10:00</td>\n",
       "    </tr>\n",
       "    <tr>\n",
       "      <th>2017-12-20 05:15:00+00:00</th>\n",
       "      <td>4864.9</td>\n",
       "      <td>2017-12-20 00:15:00</td>\n",
       "    </tr>\n",
       "    <tr>\n",
       "      <th>2017-12-20 05:20:00+00:00</th>\n",
       "      <td>4844.5</td>\n",
       "      <td>2017-12-20 00:20:00</td>\n",
       "    </tr>\n",
       "  </tbody>\n",
       "</table>\n",
       "</div>"
      ],
      "text/plain": [
       "                             load    time_stamp_local\n",
       "time_stamp                                           \n",
       "2017-12-20 05:00:00+00:00  4969.7 2017-12-20 00:00:00\n",
       "2017-12-20 05:05:00+00:00  4939.9 2017-12-20 00:05:00\n",
       "2017-12-20 05:10:00+00:00  4903.5 2017-12-20 00:10:00\n",
       "2017-12-20 05:15:00+00:00  4864.9 2017-12-20 00:15:00\n",
       "2017-12-20 05:20:00+00:00  4844.5 2017-12-20 00:20:00"
      ]
     },
     "execution_count": 20,
     "metadata": {},
     "output_type": "execute_result"
    }
   ],
   "source": [
    "df_t.head()"
   ]
  },
  {
   "cell_type": "code",
   "execution_count": 21,
   "metadata": {},
   "outputs": [
    {
     "data": {
      "text/plain": [
       "load                       float64\n",
       "time_stamp_local    datetime64[ns]\n",
       "dtype: object"
      ]
     },
     "execution_count": 21,
     "metadata": {},
     "output_type": "execute_result"
    }
   ],
   "source": [
    "df_t.dtypes"
   ]
  },
  {
   "cell_type": "code",
   "execution_count": null,
   "metadata": {},
   "outputs": [],
   "source": [
    "def is_number(s):\n",
    "    try:\n",
    "        float(s)\n",
    "        return float(s)\n",
    "    except ValueError:\n",
    "        return 0."
   ]
  },
  {
   "cell_type": "code",
   "execution_count": null,
   "metadata": {},
   "outputs": [],
   "source": [
    "df_t.loc[:,'integrated_load'] = df_t.integrated_load.apply(is_number)"
   ]
  },
  {
   "cell_type": "code",
   "execution_count": null,
   "metadata": {},
   "outputs": [],
   "source": [
    "#df_cmp = pd.read_csv('nyiso_2017.csv', parse_dates=['time_stamp'])"
   ]
  },
  {
   "cell_type": "code",
   "execution_count": 31,
   "metadata": {},
   "outputs": [],
   "source": [
    "# fig, ax = plt.subplots(figsize = (8, 8))\n",
    "# #ax.plot(df_t.loc[:,'time_stamp_local'], df_t.loc[:,'integrated_load'], '.')\n",
    "# ax.plot(df_t.index, df_t.loc[:,'time_stamp_local'], '.', label = 'GMT')\n",
    "# # ax.set_xlim(pd.datetime(2016,3,13), pd.datetime(2016,3,14))\n",
    "# # ax.set_ylim(pd.datetime(2016,3,13), pd.datetime(2016,3,14))\n",
    "# ax.set_xlim(pd.datetime(2016,11,6), pd.datetime(2016,11,7))\n",
    "# ax.set_ylim(pd.datetime(2016,11,6), pd.datetime(2016,11,7))"
   ]
  },
  {
   "cell_type": "code",
   "execution_count": 29,
   "metadata": {},
   "outputs": [
    {
     "data": {
      "text/plain": [
       "<matplotlib.legend.Legend at 0x1168d95c0>"
      ]
     },
     "execution_count": 29,
     "metadata": {},
     "output_type": "execute_result"
    },
    {
     "data": {
      "image/png": "[encoded data removed]",
      "text/plain": [
       "<matplotlib.figure.Figure at 0x1168a9b38>"
      ]
     },
     "metadata": {},
     "output_type": "display_data"
    }
   ],
   "source": [
    "fig, ax = plt.subplots(figsize = (16, 9))\n",
    "#ax.plot(df_t.loc[:,'time_stamp_local'], df_t.loc[:,'integrated_load'], '.')\n",
    "ax.plot(df_t.index, df_t.loc[:,'load'], '.', label = 'GMT')\n",
    "#ax.plot(df_cmp.iloc[:,0], df_cmp.iloc[:,1], '.', label = 'EST')\n",
    "ax.legend()\n",
    "#ax.set_xlim(pd.datetime(2017,3,8), pd.datetime(2017,3,15))"
   ]
  },
  {
   "cell_type": "code",
   "execution_count": 34,
   "metadata": {},
   "outputs": [
    {
     "data": {
      "text/plain": [
       "(106171, 2)"
      ]
     },
     "execution_count": 34,
     "metadata": {},
     "output_type": "execute_result"
    }
   ],
   "source": [
    "df_t.shape"
   ]
  },
  {
   "cell_type": "code",
   "execution_count": 27,
   "metadata": {},
   "outputs": [
    {
     "data": {
      "text/plain": [
       "load                       float64\n",
       "time_stamp_local    datetime64[ns]\n",
       "dtype: object"
      ]
     },
     "execution_count": 27,
     "metadata": {},
     "output_type": "execute_result"
    }
   ],
   "source": [
    "df_t.dtypes"
   ]
  },
  {
   "cell_type": "code",
   "execution_count": 22,
   "metadata": {},
   "outputs": [
    {
     "data": {
      "text/html": [
       "<div>\n",
       "<style>\n",
       "    .dataframe thead tr:only-child th {\n",
       "        text-align: right;\n",
       "    }\n",
       "\n",
       "    .dataframe thead th {\n",
       "        text-align: left;\n",
       "    }\n",
       "\n",
       "    .dataframe tbody tr th {\n",
       "        vertical-align: top;\n",
       "    }\n",
       "</style>\n",
       "<table border=\"1\" class=\"dataframe\">\n",
       "  <thead>\n",
       "    <tr style=\"text-align: right;\">\n",
       "      <th></th>\n",
       "      <th>load</th>\n",
       "      <th>time_stamp_local</th>\n",
       "    </tr>\n",
       "    <tr>\n",
       "      <th>time_stamp</th>\n",
       "      <th></th>\n",
       "      <th></th>\n",
       "    </tr>\n",
       "  </thead>\n",
       "  <tbody>\n",
       "    <tr>\n",
       "      <th>2017-12-20 05:00:00+00:00</th>\n",
       "      <td>4969.7</td>\n",
       "      <td>2017-12-20 00:00:00</td>\n",
       "    </tr>\n",
       "    <tr>\n",
       "      <th>2017-12-20 05:05:00+00:00</th>\n",
       "      <td>4939.9</td>\n",
       "      <td>2017-12-20 00:05:00</td>\n",
       "    </tr>\n",
       "    <tr>\n",
       "      <th>2017-12-20 05:10:00+00:00</th>\n",
       "      <td>4903.5</td>\n",
       "      <td>2017-12-20 00:10:00</td>\n",
       "    </tr>\n",
       "    <tr>\n",
       "      <th>2017-12-20 05:15:00+00:00</th>\n",
       "      <td>4864.9</td>\n",
       "      <td>2017-12-20 00:15:00</td>\n",
       "    </tr>\n",
       "    <tr>\n",
       "      <th>2017-12-20 05:20:00+00:00</th>\n",
       "      <td>4844.5</td>\n",
       "      <td>2017-12-20 00:20:00</td>\n",
       "    </tr>\n",
       "  </tbody>\n",
       "</table>\n",
       "</div>"
      ],
      "text/plain": [
       "                             load    time_stamp_local\n",
       "time_stamp                                           \n",
       "2017-12-20 05:00:00+00:00  4969.7 2017-12-20 00:00:00\n",
       "2017-12-20 05:05:00+00:00  4939.9 2017-12-20 00:05:00\n",
       "2017-12-20 05:10:00+00:00  4903.5 2017-12-20 00:10:00\n",
       "2017-12-20 05:15:00+00:00  4864.9 2017-12-20 00:15:00\n",
       "2017-12-20 05:20:00+00:00  4844.5 2017-12-20 00:20:00"
      ]
     },
     "execution_count": 22,
     "metadata": {},
     "output_type": "execute_result"
    }
   ],
   "source": [
    "df_t.head()"
   ]
  },
  {
   "cell_type": "code",
   "execution_count": 23,
   "metadata": {},
   "outputs": [],
   "source": [
    "df_t.sort_index(inplace = True)"
   ]
  },
  {
   "cell_type": "code",
   "execution_count": 24,
   "metadata": {},
   "outputs": [
    {
     "data": {
      "text/html": [
       "<div>\n",
       "<style>\n",
       "    .dataframe thead tr:only-child th {\n",
       "        text-align: right;\n",
       "    }\n",
       "\n",
       "    .dataframe thead th {\n",
       "        text-align: left;\n",
       "    }\n",
       "\n",
       "    .dataframe tbody tr th {\n",
       "        vertical-align: top;\n",
       "    }\n",
       "</style>\n",
       "<table border=\"1\" class=\"dataframe\">\n",
       "  <thead>\n",
       "    <tr style=\"text-align: right;\">\n",
       "      <th></th>\n",
       "      <th>load</th>\n",
       "      <th>time_stamp_local</th>\n",
       "    </tr>\n",
       "    <tr>\n",
       "      <th>time_stamp</th>\n",
       "      <th></th>\n",
       "      <th></th>\n",
       "    </tr>\n",
       "  </thead>\n",
       "  <tbody>\n",
       "    <tr>\n",
       "      <th>2017-01-01 05:00:00+00:00</th>\n",
       "      <td>5116.9</td>\n",
       "      <td>2017-01-01 00:00:00</td>\n",
       "    </tr>\n",
       "    <tr>\n",
       "      <th>2017-01-01 05:05:00+00:00</th>\n",
       "      <td>5102.1</td>\n",
       "      <td>2017-01-01 00:05:00</td>\n",
       "    </tr>\n",
       "    <tr>\n",
       "      <th>2017-01-01 05:10:00+00:00</th>\n",
       "      <td>5074.9</td>\n",
       "      <td>2017-01-01 00:10:00</td>\n",
       "    </tr>\n",
       "    <tr>\n",
       "      <th>2017-01-01 05:15:00+00:00</th>\n",
       "      <td>5089.6</td>\n",
       "      <td>2017-01-01 00:15:00</td>\n",
       "    </tr>\n",
       "    <tr>\n",
       "      <th>2017-01-01 05:20:00+00:00</th>\n",
       "      <td>5061.3</td>\n",
       "      <td>2017-01-01 00:20:00</td>\n",
       "    </tr>\n",
       "  </tbody>\n",
       "</table>\n",
       "</div>"
      ],
      "text/plain": [
       "                             load    time_stamp_local\n",
       "time_stamp                                           \n",
       "2017-01-01 05:00:00+00:00  5116.9 2017-01-01 00:00:00\n",
       "2017-01-01 05:05:00+00:00  5102.1 2017-01-01 00:05:00\n",
       "2017-01-01 05:10:00+00:00  5074.9 2017-01-01 00:10:00\n",
       "2017-01-01 05:15:00+00:00  5089.6 2017-01-01 00:15:00\n",
       "2017-01-01 05:20:00+00:00  5061.3 2017-01-01 00:20:00"
      ]
     },
     "execution_count": 24,
     "metadata": {},
     "output_type": "execute_result"
    }
   ],
   "source": [
    "df_t.head()"
   ]
  },
  {
   "cell_type": "code",
   "execution_count": 25,
   "metadata": {},
   "outputs": [
    {
     "data": {
      "text/html": [
       "<div>\n",
       "<style>\n",
       "    .dataframe thead tr:only-child th {\n",
       "        text-align: right;\n",
       "    }\n",
       "\n",
       "    .dataframe thead th {\n",
       "        text-align: left;\n",
       "    }\n",
       "\n",
       "    .dataframe tbody tr th {\n",
       "        vertical-align: top;\n",
       "    }\n",
       "</style>\n",
       "<table border=\"1\" class=\"dataframe\">\n",
       "  <thead>\n",
       "    <tr style=\"text-align: right;\">\n",
       "      <th></th>\n",
       "      <th>load</th>\n",
       "      <th>time_stamp_local</th>\n",
       "    </tr>\n",
       "    <tr>\n",
       "      <th>time_stamp</th>\n",
       "      <th></th>\n",
       "      <th></th>\n",
       "    </tr>\n",
       "  </thead>\n",
       "  <tbody>\n",
       "    <tr>\n",
       "      <th>2018-01-25 18:40:00+00:00</th>\n",
       "      <td>6771.2</td>\n",
       "      <td>2018-01-25 13:40:00</td>\n",
       "    </tr>\n",
       "    <tr>\n",
       "      <th>2018-01-25 18:45:00+00:00</th>\n",
       "      <td>6769.0</td>\n",
       "      <td>2018-01-25 13:45:00</td>\n",
       "    </tr>\n",
       "    <tr>\n",
       "      <th>2018-01-25 18:50:00+00:00</th>\n",
       "      <td>6752.4</td>\n",
       "      <td>2018-01-25 13:50:00</td>\n",
       "    </tr>\n",
       "    <tr>\n",
       "      <th>2018-01-25 18:55:00+00:00</th>\n",
       "      <td>NaN</td>\n",
       "      <td>2018-01-25 13:55:00</td>\n",
       "    </tr>\n",
       "    <tr>\n",
       "      <th>2018-01-25 19:00:00+00:00</th>\n",
       "      <td>NaN</td>\n",
       "      <td>2018-01-25 14:00:00</td>\n",
       "    </tr>\n",
       "  </tbody>\n",
       "</table>\n",
       "</div>"
      ],
      "text/plain": [
       "                             load    time_stamp_local\n",
       "time_stamp                                           \n",
       "2018-01-25 18:40:00+00:00  6771.2 2018-01-25 13:40:00\n",
       "2018-01-25 18:45:00+00:00  6769.0 2018-01-25 13:45:00\n",
       "2018-01-25 18:50:00+00:00  6752.4 2018-01-25 13:50:00\n",
       "2018-01-25 18:55:00+00:00     NaN 2018-01-25 13:55:00\n",
       "2018-01-25 19:00:00+00:00     NaN 2018-01-25 14:00:00"
      ]
     },
     "execution_count": 25,
     "metadata": {},
     "output_type": "execute_result"
    }
   ],
   "source": [
    "df_t.tail()"
   ]
  },
  {
   "cell_type": "code",
   "execution_count": 35,
   "metadata": {},
   "outputs": [],
   "source": [
    "df_t.dropna(inplace=True)"
   ]
  },
  {
   "cell_type": "code",
   "execution_count": 36,
   "metadata": {},
   "outputs": [
    {
     "data": {
      "text/plain": [
       "(106168, 2)"
      ]
     },
     "execution_count": 36,
     "metadata": {},
     "output_type": "execute_result"
    }
   ],
   "source": [
    "df_t.shape"
   ]
  },
  {
   "cell_type": "code",
   "execution_count": 37,
   "metadata": {},
   "outputs": [],
   "source": [
    "df_t.to_csv('nyiso_load_2017.csv')"
   ]
  },
  {
   "cell_type": "code",
   "execution_count": null,
   "metadata": {},
   "outputs": [],
   "source": [
    "df_test = pd.read_csv('nyiso_2017.csv', parse_dates=['time_stamp', 'time_stamp_local'])"
   ]
  },
  {
   "cell_type": "code",
   "execution_count": null,
   "metadata": {},
   "outputs": [],
   "source": [
    "df_test.head()"
   ]
  },
  {
   "cell_type": "code",
   "execution_count": null,
   "metadata": {},
   "outputs": [],
   "source": [
    "df_test.time_stamp.dtype"
   ]
  },
  {
   "cell_type": "code",
   "execution_count": null,
   "metadata": {},
   "outputs": [],
   "source": [
    "df_test.sort_values(['time_stamp'], inplace = True)"
   ]
  },
  {
   "cell_type": "code",
   "execution_count": null,
   "metadata": {},
   "outputs": [],
   "source": [
    "df_test.head()"
   ]
  },
  {
   "cell_type": "code",
   "execution_count": null,
   "metadata": {},
   "outputs": [],
   "source": [
    "df_test.to_csv('nyiso_2017.csv', index = False)"
   ]
  },
  {
   "cell_type": "code",
   "execution_count": null,
   "metadata": {},
   "outputs": [],
   "source": []
  }
 ],
 "metadata": {
  "anaconda-cloud": {},
  "kernelspec": {
   "display_name": "Python 3",
   "language": "python",
   "name": "python3"
  },
  "language_info": {
   "codemirror_mode": {
    "name": "ipython",
    "version": 3
   },
   "file_extension": ".py",
   "mimetype": "text/x-python",
   "name": "python",
   "nbconvert_exporter": "python",
   "pygments_lexer": "ipython3",
   "version": "3.5.4"
  }
 },
 "nbformat": 4,
 "nbformat_minor": 1
}
