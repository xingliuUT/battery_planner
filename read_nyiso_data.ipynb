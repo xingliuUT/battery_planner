{
 "cells": [
  {
   "cell_type": "code",
   "execution_count": 5,
   "metadata": {},
   "outputs": [],
   "source": [
    "import os\n",
    "import pandas as pd\n",
    "import matplotlib.pyplot as plt"
   ]
  },
  {
   "cell_type": "code",
   "execution_count": 51,
   "metadata": {
    "collapsed": true
   },
   "outputs": [],
   "source": [
    "def select_nyc(dir_path, filename):\n",
    "    df_int = pd.read_csv(dir_path + filename, parse_dates = ['Time Stamp'])\n",
    "    nyc_ind = df_int.Name.apply(lambda x: 'N.Y.C.' in x)\n",
    "    df_nyc = df_int.loc[nyc_ind,['Time Stamp', 'Name', 'Integrated Load']].reset_index(drop = True)\n",
    "    output_filename = filename[:8] + 'nyc.csv'\n",
    "    df_nyc.to_csv(dir_path + output_filename, index = False)\n",
    "    return df_nyc"
   ]
  },
  {
   "cell_type": "code",
   "execution_count": 71,
   "metadata": {},
   "outputs": [],
   "source": [
    "df_t = pd.DataFrame()\n",
    "for dir_path in os.listdir('nyiso_load/'):\n",
    "    if 'csv' in dir_path:\n",
    "        dir_path = 'nyiso_load/' + dir_path + '/'\n",
    "        for filename in os.listdir(dir_path):\n",
    "            df_t = pd.concat([df_t, select_nyc(dir_path, filename)])\n",
    "            "
   ]
  },
  {
   "cell_type": "code",
   "execution_count": 85,
   "metadata": {},
   "outputs": [
    {
     "data": {
      "text/plain": [
       "(736361.0, 736368.0)"
      ]
     },
     "execution_count": 85,
     "metadata": {},
     "output_type": "execute_result"
    },
    {
     "data": {
      "image/png": "[encoded data removed]",
      "text/plain": [
       "<matplotlib.figure.Figure at 0x11bdc0940>"
      ]
     },
     "metadata": {},
     "output_type": "display_data"
    }
   ],
   "source": [
    "fig, ax = plt.subplots(figsize = (16, 9))\n",
    "ax.plot(df_t.loc[:,'Time Stamp'], df_t.loc[:,'Integrated Load'], '.')\n",
    "ax.set_xlim(pd.datetime(2017,2,1), pd.datetime(2017,2,8))"
   ]
  },
  {
   "cell_type": "code",
   "execution_count": 75,
   "metadata": {},
   "outputs": [
    {
     "name": "stdout",
     "output_type": "stream",
     "text": [
      "/Users/xingliu/Documents/demo\r\n"
     ]
    }
   ],
   "source": [
    "!pwd"
   ]
  },
  {
   "cell_type": "code",
   "execution_count": 76,
   "metadata": {
    "collapsed": true
   },
   "outputs": [],
   "source": [
    "df_t.to_csv('nyiso_2017.csv', index = False)"
   ]
  },
  {
   "cell_type": "code",
   "execution_count": 77,
   "metadata": {},
   "outputs": [
    {
     "data": {
      "text/plain": [
       "(8686, 3)"
      ]
     },
     "execution_count": 77,
     "metadata": {},
     "output_type": "execute_result"
    }
   ],
   "source": [
    "df_t.shape"
   ]
  },
  {
   "cell_type": "code",
   "execution_count": 78,
   "metadata": {},
   "outputs": [
    {
     "data": {
      "text/html": [
       "<div>\n",
       "<style>\n",
       "    .dataframe thead tr:only-child th {\n",
       "        text-align: right;\n",
       "    }\n",
       "\n",
       "    .dataframe thead th {\n",
       "        text-align: left;\n",
       "    }\n",
       "\n",
       "    .dataframe tbody tr th {\n",
       "        vertical-align: top;\n",
       "    }\n",
       "</style>\n",
       "<table border=\"1\" class=\"dataframe\">\n",
       "  <thead>\n",
       "    <tr style=\"text-align: right;\">\n",
       "      <th></th>\n",
       "      <th>Time Stamp</th>\n",
       "      <th>Name</th>\n",
       "      <th>Integrated Load</th>\n",
       "    </tr>\n",
       "  </thead>\n",
       "  <tbody>\n",
       "    <tr>\n",
       "      <th>0</th>\n",
       "      <td>2017-04-12 00:00:00</td>\n",
       "      <td>N.Y.C.</td>\n",
       "      <td>4601.1</td>\n",
       "    </tr>\n",
       "    <tr>\n",
       "      <th>1</th>\n",
       "      <td>2017-04-12 01:00:00</td>\n",
       "      <td>N.Y.C.</td>\n",
       "      <td>4370.6</td>\n",
       "    </tr>\n",
       "    <tr>\n",
       "      <th>2</th>\n",
       "      <td>2017-04-12 02:00:00</td>\n",
       "      <td>N.Y.C.</td>\n",
       "      <td>4210.0</td>\n",
       "    </tr>\n",
       "    <tr>\n",
       "      <th>3</th>\n",
       "      <td>2017-04-12 03:00:00</td>\n",
       "      <td>N.Y.C.</td>\n",
       "      <td>4129.2</td>\n",
       "    </tr>\n",
       "    <tr>\n",
       "      <th>4</th>\n",
       "      <td>2017-04-12 04:00:00</td>\n",
       "      <td>N.Y.C.</td>\n",
       "      <td>4142.1</td>\n",
       "    </tr>\n",
       "  </tbody>\n",
       "</table>\n",
       "</div>"
      ],
      "text/plain": [
       "           Time Stamp    Name  Integrated Load\n",
       "0 2017-04-12 00:00:00  N.Y.C.           4601.1\n",
       "1 2017-04-12 01:00:00  N.Y.C.           4370.6\n",
       "2 2017-04-12 02:00:00  N.Y.C.           4210.0\n",
       "3 2017-04-12 03:00:00  N.Y.C.           4129.2\n",
       "4 2017-04-12 04:00:00  N.Y.C.           4142.1"
      ]
     },
     "execution_count": 78,
     "metadata": {},
     "output_type": "execute_result"
    }
   ],
   "source": [
    "df_t.head()"
   ]
  },
  {
   "cell_type": "code",
   "execution_count": null,
   "metadata": {
    "collapsed": true
   },
   "outputs": [],
   "source": []
  }
 ],
 "metadata": {
  "anaconda-cloud": {},
  "kernelspec": {
   "display_name": "Python 3",
   "language": "python",
   "name": "python3"
  },
  "language_info": {
   "codemirror_mode": {
    "name": "ipython",
    "version": 3
   },
   "file_extension": ".py",
   "mimetype": "text/x-python",
   "name": "python",
   "nbconvert_exporter": "python",
   "pygments_lexer": "ipython3",
   "version": "3.5.4"
  }
 },
 "nbformat": 4,
 "nbformat_minor": 1
}
