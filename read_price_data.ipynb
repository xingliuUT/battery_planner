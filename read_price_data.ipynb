{
 "cells": [
  {
   "cell_type": "code",
   "execution_count": 1,
   "metadata": {},
   "outputs": [],
   "source": [
    "import os\n",
    "import pandas as pd\n",
    "import matplotlib.pyplot as plt"
   ]
  },
  {
   "cell_type": "code",
   "execution_count": 3,
   "metadata": {},
   "outputs": [
    {
     "name": "stdout",
     "output_type": "stream",
     "text": [
      "\u001b[31m20180101realtime_zone.csv\u001b[m\u001b[m \u001b[31m20180110realtime_zone.csv\u001b[m\u001b[m \u001b[31m20180119realtime_zone.csv\u001b[m\u001b[m\r\n",
      "\u001b[31m20180102realtime_zone.csv\u001b[m\u001b[m \u001b[31m20180111realtime_zone.csv\u001b[m\u001b[m \u001b[31m20180120realtime_zone.csv\u001b[m\u001b[m\r\n",
      "\u001b[31m20180103realtime_zone.csv\u001b[m\u001b[m \u001b[31m20180112realtime_zone.csv\u001b[m\u001b[m \u001b[31m20180121realtime_zone.csv\u001b[m\u001b[m\r\n",
      "\u001b[31m20180104realtime_zone.csv\u001b[m\u001b[m \u001b[31m20180113realtime_zone.csv\u001b[m\u001b[m \u001b[31m20180122realtime_zone.csv\u001b[m\u001b[m\r\n",
      "\u001b[31m20180105realtime_zone.csv\u001b[m\u001b[m \u001b[31m20180114realtime_zone.csv\u001b[m\u001b[m \u001b[31m20180123realtime_zone.csv\u001b[m\u001b[m\r\n",
      "\u001b[31m20180106realtime_zone.csv\u001b[m\u001b[m \u001b[31m20180115realtime_zone.csv\u001b[m\u001b[m \u001b[31m20180124realtime_zone.csv\u001b[m\u001b[m\r\n",
      "\u001b[31m20180107realtime_zone.csv\u001b[m\u001b[m \u001b[31m20180116realtime_zone.csv\u001b[m\u001b[m \u001b[31m20180125realtime_zone.csv\u001b[m\u001b[m\r\n",
      "\u001b[31m20180108realtime_zone.csv\u001b[m\u001b[m \u001b[31m20180117realtime_zone.csv\u001b[m\u001b[m\r\n",
      "\u001b[31m20180109realtime_zone.csv\u001b[m\u001b[m \u001b[31m20180118realtime_zone.csv\u001b[m\u001b[m\r\n"
     ]
    }
   ],
   "source": [
    "!ls nyiso_price/20180101realtime_zone_csv/"
   ]
  },
  {
   "cell_type": "code",
   "execution_count": 4,
   "metadata": {},
   "outputs": [],
   "source": [
    "df_int = pd.read_csv('nyiso_price/' + '20180101realtime_zone_csv/' + '20180101realtime_zone.csv', parse_dates = ['Time Stamp'])"
   ]
  },
  {
   "cell_type": "code",
   "execution_count": 10,
   "metadata": {},
   "outputs": [
    {
     "data": {
      "text/html": [
       "<div>\n",
       "<style>\n",
       "    .dataframe thead tr:only-child th {\n",
       "        text-align: right;\n",
       "    }\n",
       "\n",
       "    .dataframe thead th {\n",
       "        text-align: left;\n",
       "    }\n",
       "\n",
       "    .dataframe tbody tr th {\n",
       "        vertical-align: top;\n",
       "    }\n",
       "</style>\n",
       "<table border=\"1\" class=\"dataframe\">\n",
       "  <thead>\n",
       "    <tr style=\"text-align: right;\">\n",
       "      <th></th>\n",
       "      <th>Time Stamp</th>\n",
       "      <th>Name</th>\n",
       "      <th>PTID</th>\n",
       "      <th>LBMP ($/MWHr)</th>\n",
       "      <th>Marginal Cost Losses ($/MWHr)</th>\n",
       "      <th>Marginal Cost Congestion ($/MWHr)</th>\n",
       "    </tr>\n",
       "  </thead>\n",
       "  <tbody>\n",
       "    <tr>\n",
       "      <th>0</th>\n",
       "      <td>2018-01-01 00:05:00</td>\n",
       "      <td>CAPITL</td>\n",
       "      <td>61757</td>\n",
       "      <td>156.00</td>\n",
       "      <td>3.64</td>\n",
       "      <td>-108.51</td>\n",
       "    </tr>\n",
       "    <tr>\n",
       "      <th>1</th>\n",
       "      <td>2018-01-01 00:05:00</td>\n",
       "      <td>CENTRL</td>\n",
       "      <td>61754</td>\n",
       "      <td>56.90</td>\n",
       "      <td>-0.66</td>\n",
       "      <td>-13.71</td>\n",
       "    </tr>\n",
       "    <tr>\n",
       "      <th>2</th>\n",
       "      <td>2018-01-01 00:05:00</td>\n",
       "      <td>DUNWOD</td>\n",
       "      <td>61760</td>\n",
       "      <td>128.64</td>\n",
       "      <td>3.33</td>\n",
       "      <td>-81.46</td>\n",
       "    </tr>\n",
       "    <tr>\n",
       "      <th>3</th>\n",
       "      <td>2018-01-01 00:05:00</td>\n",
       "      <td>GENESE</td>\n",
       "      <td>61753</td>\n",
       "      <td>51.75</td>\n",
       "      <td>-2.33</td>\n",
       "      <td>-10.22</td>\n",
       "    </tr>\n",
       "    <tr>\n",
       "      <th>4</th>\n",
       "      <td>2018-01-01 00:05:00</td>\n",
       "      <td>H Q</td>\n",
       "      <td>61844</td>\n",
       "      <td>43.33</td>\n",
       "      <td>-0.52</td>\n",
       "      <td>0.00</td>\n",
       "    </tr>\n",
       "    <tr>\n",
       "      <th>5</th>\n",
       "      <td>2018-01-01 00:05:00</td>\n",
       "      <td>HUD VL</td>\n",
       "      <td>61758</td>\n",
       "      <td>128.47</td>\n",
       "      <td>3.38</td>\n",
       "      <td>-81.24</td>\n",
       "    </tr>\n",
       "    <tr>\n",
       "      <th>6</th>\n",
       "      <td>2018-01-01 00:05:00</td>\n",
       "      <td>LONGIL</td>\n",
       "      <td>61762</td>\n",
       "      <td>129.03</td>\n",
       "      <td>3.64</td>\n",
       "      <td>-81.54</td>\n",
       "    </tr>\n",
       "    <tr>\n",
       "      <th>7</th>\n",
       "      <td>2018-01-01 00:05:00</td>\n",
       "      <td>MHK VL</td>\n",
       "      <td>61756</td>\n",
       "      <td>61.74</td>\n",
       "      <td>1.71</td>\n",
       "      <td>-16.18</td>\n",
       "    </tr>\n",
       "    <tr>\n",
       "      <th>8</th>\n",
       "      <td>2018-01-01 00:05:00</td>\n",
       "      <td>MILLWD</td>\n",
       "      <td>61759</td>\n",
       "      <td>129.83</td>\n",
       "      <td>3.55</td>\n",
       "      <td>-82.43</td>\n",
       "    </tr>\n",
       "    <tr>\n",
       "      <th>9</th>\n",
       "      <td>2018-01-01 00:05:00</td>\n",
       "      <td>N.Y.C.</td>\n",
       "      <td>61761</td>\n",
       "      <td>129.10</td>\n",
       "      <td>3.73</td>\n",
       "      <td>-81.52</td>\n",
       "    </tr>\n",
       "    <tr>\n",
       "      <th>10</th>\n",
       "      <td>2018-01-01 00:05:00</td>\n",
       "      <td>NORTH</td>\n",
       "      <td>61755</td>\n",
       "      <td>44.24</td>\n",
       "      <td>0.39</td>\n",
       "      <td>0.00</td>\n",
       "    </tr>\n",
       "    <tr>\n",
       "      <th>11</th>\n",
       "      <td>2018-01-01 00:05:00</td>\n",
       "      <td>NPX</td>\n",
       "      <td>61845</td>\n",
       "      <td>143.17</td>\n",
       "      <td>3.33</td>\n",
       "      <td>-95.99</td>\n",
       "    </tr>\n",
       "    <tr>\n",
       "      <th>12</th>\n",
       "      <td>2018-01-01 00:05:00</td>\n",
       "      <td>O H</td>\n",
       "      <td>61846</td>\n",
       "      <td>53.31</td>\n",
       "      <td>-4.30</td>\n",
       "      <td>-13.75</td>\n",
       "    </tr>\n",
       "    <tr>\n",
       "      <th>13</th>\n",
       "      <td>2018-01-01 00:05:00</td>\n",
       "      <td>PJM</td>\n",
       "      <td>61847</td>\n",
       "      <td>100.82</td>\n",
       "      <td>0.70</td>\n",
       "      <td>-56.27</td>\n",
       "    </tr>\n",
       "    <tr>\n",
       "      <th>14</th>\n",
       "      <td>2018-01-01 00:05:00</td>\n",
       "      <td>WEST</td>\n",
       "      <td>61752</td>\n",
       "      <td>53.65</td>\n",
       "      <td>-3.51</td>\n",
       "      <td>-13.31</td>\n",
       "    </tr>\n",
       "  </tbody>\n",
       "</table>\n",
       "</div>"
      ],
      "text/plain": [
       "            Time Stamp    Name   PTID  LBMP ($/MWHr)  \\\n",
       "0  2018-01-01 00:05:00  CAPITL  61757         156.00   \n",
       "1  2018-01-01 00:05:00  CENTRL  61754          56.90   \n",
       "2  2018-01-01 00:05:00  DUNWOD  61760         128.64   \n",
       "3  2018-01-01 00:05:00  GENESE  61753          51.75   \n",
       "4  2018-01-01 00:05:00     H Q  61844          43.33   \n",
       "5  2018-01-01 00:05:00  HUD VL  61758         128.47   \n",
       "6  2018-01-01 00:05:00  LONGIL  61762         129.03   \n",
       "7  2018-01-01 00:05:00  MHK VL  61756          61.74   \n",
       "8  2018-01-01 00:05:00  MILLWD  61759         129.83   \n",
       "9  2018-01-01 00:05:00  N.Y.C.  61761         129.10   \n",
       "10 2018-01-01 00:05:00   NORTH  61755          44.24   \n",
       "11 2018-01-01 00:05:00     NPX  61845         143.17   \n",
       "12 2018-01-01 00:05:00     O H  61846          53.31   \n",
       "13 2018-01-01 00:05:00     PJM  61847         100.82   \n",
       "14 2018-01-01 00:05:00    WEST  61752          53.65   \n",
       "\n",
       "    Marginal Cost Losses ($/MWHr)  Marginal Cost Congestion ($/MWHr)  \n",
       "0                            3.64                            -108.51  \n",
       "1                           -0.66                             -13.71  \n",
       "2                            3.33                             -81.46  \n",
       "3                           -2.33                             -10.22  \n",
       "4                           -0.52                               0.00  \n",
       "5                            3.38                             -81.24  \n",
       "6                            3.64                             -81.54  \n",
       "7                            1.71                             -16.18  \n",
       "8                            3.55                             -82.43  \n",
       "9                            3.73                             -81.52  \n",
       "10                           0.39                               0.00  \n",
       "11                           3.33                             -95.99  \n",
       "12                          -4.30                             -13.75  \n",
       "13                           0.70                             -56.27  \n",
       "14                          -3.51                             -13.31  "
      ]
     },
     "execution_count": 10,
     "metadata": {},
     "output_type": "execute_result"
    }
   ],
   "source": [
    "df_int.head(15)"
   ]
  },
  {
   "cell_type": "code",
   "execution_count": 11,
   "metadata": {},
   "outputs": [],
   "source": [
    "nyc_ind = df_int.Name.apply(lambda x: 'N.Y.C.' in x)\n",
    "df_nyc = df_int.loc[nyc_ind,['Time Stamp', 'LBMP ($/MWHr)']].reset_index(drop = True)"
   ]
  },
  {
   "cell_type": "code",
   "execution_count": 12,
   "metadata": {},
   "outputs": [
    {
     "data": {
      "text/html": [
       "<div>\n",
       "<style>\n",
       "    .dataframe thead tr:only-child th {\n",
       "        text-align: right;\n",
       "    }\n",
       "\n",
       "    .dataframe thead th {\n",
       "        text-align: left;\n",
       "    }\n",
       "\n",
       "    .dataframe tbody tr th {\n",
       "        vertical-align: top;\n",
       "    }\n",
       "</style>\n",
       "<table border=\"1\" class=\"dataframe\">\n",
       "  <thead>\n",
       "    <tr style=\"text-align: right;\">\n",
       "      <th></th>\n",
       "      <th>Time Stamp</th>\n",
       "      <th>LBMP ($/MWHr)</th>\n",
       "    </tr>\n",
       "  </thead>\n",
       "  <tbody>\n",
       "    <tr>\n",
       "      <th>0</th>\n",
       "      <td>2018-01-01 00:05:00</td>\n",
       "      <td>129.10</td>\n",
       "    </tr>\n",
       "    <tr>\n",
       "      <th>1</th>\n",
       "      <td>2018-01-01 00:10:00</td>\n",
       "      <td>135.16</td>\n",
       "    </tr>\n",
       "    <tr>\n",
       "      <th>2</th>\n",
       "      <td>2018-01-01 00:15:00</td>\n",
       "      <td>125.70</td>\n",
       "    </tr>\n",
       "    <tr>\n",
       "      <th>3</th>\n",
       "      <td>2018-01-01 00:20:00</td>\n",
       "      <td>125.04</td>\n",
       "    </tr>\n",
       "    <tr>\n",
       "      <th>4</th>\n",
       "      <td>2018-01-01 00:25:00</td>\n",
       "      <td>119.07</td>\n",
       "    </tr>\n",
       "  </tbody>\n",
       "</table>\n",
       "</div>"
      ],
      "text/plain": [
       "           Time Stamp  LBMP ($/MWHr)\n",
       "0 2018-01-01 00:05:00         129.10\n",
       "1 2018-01-01 00:10:00         135.16\n",
       "2 2018-01-01 00:15:00         125.70\n",
       "3 2018-01-01 00:20:00         125.04\n",
       "4 2018-01-01 00:25:00         119.07"
      ]
     },
     "execution_count": 12,
     "metadata": {},
     "output_type": "execute_result"
    }
   ],
   "source": [
    "df_nyc.head()"
   ]
  },
  {
   "cell_type": "code",
   "execution_count": 13,
   "metadata": {},
   "outputs": [],
   "source": [
    "df_nyc.columns = ['time_stamp', 'lbmp_price']"
   ]
  },
  {
   "cell_type": "code",
   "execution_count": 14,
   "metadata": {},
   "outputs": [],
   "source": [
    "df_nyc.set_index('time_stamp', inplace = True)\n",
    "\n",
    "df_nyc['time_stamp_local'] = df_nyc.index\n",
    "\n",
    "df_nyc.set_index(df_nyc.index.tz_localize('US/Eastern'), inplace = True)"
   ]
  },
  {
   "cell_type": "code",
   "execution_count": 15,
   "metadata": {},
   "outputs": [
    {
     "data": {
      "text/html": [
       "<div>\n",
       "<style>\n",
       "    .dataframe thead tr:only-child th {\n",
       "        text-align: right;\n",
       "    }\n",
       "\n",
       "    .dataframe thead th {\n",
       "        text-align: left;\n",
       "    }\n",
       "\n",
       "    .dataframe tbody tr th {\n",
       "        vertical-align: top;\n",
       "    }\n",
       "</style>\n",
       "<table border=\"1\" class=\"dataframe\">\n",
       "  <thead>\n",
       "    <tr style=\"text-align: right;\">\n",
       "      <th></th>\n",
       "      <th>lbmp_price</th>\n",
       "      <th>time_stamp_local</th>\n",
       "    </tr>\n",
       "    <tr>\n",
       "      <th>time_stamp</th>\n",
       "      <th></th>\n",
       "      <th></th>\n",
       "    </tr>\n",
       "  </thead>\n",
       "  <tbody>\n",
       "    <tr>\n",
       "      <th>2018-01-01 00:05:00-05:00</th>\n",
       "      <td>129.10</td>\n",
       "      <td>2018-01-01 00:05:00</td>\n",
       "    </tr>\n",
       "    <tr>\n",
       "      <th>2018-01-01 00:10:00-05:00</th>\n",
       "      <td>135.16</td>\n",
       "      <td>2018-01-01 00:10:00</td>\n",
       "    </tr>\n",
       "    <tr>\n",
       "      <th>2018-01-01 00:15:00-05:00</th>\n",
       "      <td>125.70</td>\n",
       "      <td>2018-01-01 00:15:00</td>\n",
       "    </tr>\n",
       "    <tr>\n",
       "      <th>2018-01-01 00:20:00-05:00</th>\n",
       "      <td>125.04</td>\n",
       "      <td>2018-01-01 00:20:00</td>\n",
       "    </tr>\n",
       "    <tr>\n",
       "      <th>2018-01-01 00:25:00-05:00</th>\n",
       "      <td>119.07</td>\n",
       "      <td>2018-01-01 00:25:00</td>\n",
       "    </tr>\n",
       "  </tbody>\n",
       "</table>\n",
       "</div>"
      ],
      "text/plain": [
       "                           lbmp_price    time_stamp_local\n",
       "time_stamp                                               \n",
       "2018-01-01 00:05:00-05:00      129.10 2018-01-01 00:05:00\n",
       "2018-01-01 00:10:00-05:00      135.16 2018-01-01 00:10:00\n",
       "2018-01-01 00:15:00-05:00      125.70 2018-01-01 00:15:00\n",
       "2018-01-01 00:20:00-05:00      125.04 2018-01-01 00:20:00\n",
       "2018-01-01 00:25:00-05:00      119.07 2018-01-01 00:25:00"
      ]
     },
     "execution_count": 15,
     "metadata": {},
     "output_type": "execute_result"
    }
   ],
   "source": [
    "df_nyc.head()"
   ]
  },
  {
   "cell_type": "code",
   "execution_count": 16,
   "metadata": {},
   "outputs": [],
   "source": [
    "df_nyc.set_index(df_nyc.index.tz_convert('GMT'), inplace = True)"
   ]
  },
  {
   "cell_type": "code",
   "execution_count": 17,
   "metadata": {},
   "outputs": [
    {
     "data": {
      "text/html": [
       "<div>\n",
       "<style>\n",
       "    .dataframe thead tr:only-child th {\n",
       "        text-align: right;\n",
       "    }\n",
       "\n",
       "    .dataframe thead th {\n",
       "        text-align: left;\n",
       "    }\n",
       "\n",
       "    .dataframe tbody tr th {\n",
       "        vertical-align: top;\n",
       "    }\n",
       "</style>\n",
       "<table border=\"1\" class=\"dataframe\">\n",
       "  <thead>\n",
       "    <tr style=\"text-align: right;\">\n",
       "      <th></th>\n",
       "      <th>lbmp_price</th>\n",
       "      <th>time_stamp_local</th>\n",
       "    </tr>\n",
       "    <tr>\n",
       "      <th>time_stamp</th>\n",
       "      <th></th>\n",
       "      <th></th>\n",
       "    </tr>\n",
       "  </thead>\n",
       "  <tbody>\n",
       "    <tr>\n",
       "      <th>2018-01-01 05:05:00+00:00</th>\n",
       "      <td>129.10</td>\n",
       "      <td>2018-01-01 00:05:00</td>\n",
       "    </tr>\n",
       "    <tr>\n",
       "      <th>2018-01-01 05:10:00+00:00</th>\n",
       "      <td>135.16</td>\n",
       "      <td>2018-01-01 00:10:00</td>\n",
       "    </tr>\n",
       "    <tr>\n",
       "      <th>2018-01-01 05:15:00+00:00</th>\n",
       "      <td>125.70</td>\n",
       "      <td>2018-01-01 00:15:00</td>\n",
       "    </tr>\n",
       "    <tr>\n",
       "      <th>2018-01-01 05:20:00+00:00</th>\n",
       "      <td>125.04</td>\n",
       "      <td>2018-01-01 00:20:00</td>\n",
       "    </tr>\n",
       "    <tr>\n",
       "      <th>2018-01-01 05:25:00+00:00</th>\n",
       "      <td>119.07</td>\n",
       "      <td>2018-01-01 00:25:00</td>\n",
       "    </tr>\n",
       "  </tbody>\n",
       "</table>\n",
       "</div>"
      ],
      "text/plain": [
       "                           lbmp_price    time_stamp_local\n",
       "time_stamp                                               \n",
       "2018-01-01 05:05:00+00:00      129.10 2018-01-01 00:05:00\n",
       "2018-01-01 05:10:00+00:00      135.16 2018-01-01 00:10:00\n",
       "2018-01-01 05:15:00+00:00      125.70 2018-01-01 00:15:00\n",
       "2018-01-01 05:20:00+00:00      125.04 2018-01-01 00:20:00\n",
       "2018-01-01 05:25:00+00:00      119.07 2018-01-01 00:25:00"
      ]
     },
     "execution_count": 17,
     "metadata": {},
     "output_type": "execute_result"
    }
   ],
   "source": [
    "df_nyc.head()"
   ]
  },
  {
   "cell_type": "code",
   "execution_count": 18,
   "metadata": {},
   "outputs": [],
   "source": [
    "def select_nyc(dir_path, filename):\n",
    "    df_int = pd.read_csv(dir_path + filename, parse_dates = ['Time Stamp'])#, dtype={'Integrated Load' : np.float64})\n",
    "    nyc_ind = df_int.Name.apply(lambda x: 'N.Y.C.' in x)\n",
    "    df_nyc = df_int.loc[nyc_ind,['Time Stamp', 'LBMP ($/MWHr)']].reset_index(drop = True)\n",
    "    df_nyc.columns = ['time_stamp', 'lbmp_price']\n",
    "    df_nyc.set_index('time_stamp', inplace = True)\n",
    "    df_nyc['time_stamp_local'] = df_nyc.index\n",
    "    df_nyc.set_index(df_nyc.index.tz_localize('US/Eastern', ambiguous='infer'), inplace = True)\n",
    "    df_nyc.set_index(df_nyc.index.tz_convert('GMT'), inplace = True)\n",
    "    output_filename = filename[:8] + 'nyc.csv'\n",
    "    df_nyc.to_csv(dir_path + output_filename)\n",
    "    return df_nyc"
   ]
  },
  {
   "cell_type": "code",
   "execution_count": 19,
   "metadata": {},
   "outputs": [],
   "source": [
    "df_t = pd.DataFrame()\n",
    "for dir_path in os.listdir('nyiso_price/'):\n",
    "    if 'csv' in dir_path:\n",
    "        dir_path = 'nyiso_price/' + dir_path + '/'\n",
    "        for filename in os.listdir(dir_path):\n",
    "            if 'realtime' in filename:\n",
    "                df_t = pd.concat([df_t, select_nyc(dir_path, filename)])\n",
    "                #select_nyc(dir_path, filename)"
   ]
  },
  {
   "cell_type": "code",
   "execution_count": 20,
   "metadata": {},
   "outputs": [
    {
     "data": {
      "text/html": [
       "<div>\n",
       "<style>\n",
       "    .dataframe thead tr:only-child th {\n",
       "        text-align: right;\n",
       "    }\n",
       "\n",
       "    .dataframe thead th {\n",
       "        text-align: left;\n",
       "    }\n",
       "\n",
       "    .dataframe tbody tr th {\n",
       "        vertical-align: top;\n",
       "    }\n",
       "</style>\n",
       "<table border=\"1\" class=\"dataframe\">\n",
       "  <thead>\n",
       "    <tr style=\"text-align: right;\">\n",
       "      <th></th>\n",
       "      <th>lbmp_price</th>\n",
       "      <th>time_stamp_local</th>\n",
       "    </tr>\n",
       "    <tr>\n",
       "      <th>time_stamp</th>\n",
       "      <th></th>\n",
       "      <th></th>\n",
       "    </tr>\n",
       "  </thead>\n",
       "  <tbody>\n",
       "    <tr>\n",
       "      <th>2018-01-12 05:05:00+00:00</th>\n",
       "      <td>27.60</td>\n",
       "      <td>2018-01-12 00:05:00</td>\n",
       "    </tr>\n",
       "    <tr>\n",
       "      <th>2018-01-12 05:10:00+00:00</th>\n",
       "      <td>30.77</td>\n",
       "      <td>2018-01-12 00:10:00</td>\n",
       "    </tr>\n",
       "    <tr>\n",
       "      <th>2018-01-12 05:15:00+00:00</th>\n",
       "      <td>28.95</td>\n",
       "      <td>2018-01-12 00:15:00</td>\n",
       "    </tr>\n",
       "    <tr>\n",
       "      <th>2018-01-12 05:20:00+00:00</th>\n",
       "      <td>25.63</td>\n",
       "      <td>2018-01-12 00:20:00</td>\n",
       "    </tr>\n",
       "    <tr>\n",
       "      <th>2018-01-12 05:25:00+00:00</th>\n",
       "      <td>27.02</td>\n",
       "      <td>2018-01-12 00:25:00</td>\n",
       "    </tr>\n",
       "  </tbody>\n",
       "</table>\n",
       "</div>"
      ],
      "text/plain": [
       "                           lbmp_price    time_stamp_local\n",
       "time_stamp                                               \n",
       "2018-01-12 05:05:00+00:00       27.60 2018-01-12 00:05:00\n",
       "2018-01-12 05:10:00+00:00       30.77 2018-01-12 00:10:00\n",
       "2018-01-12 05:15:00+00:00       28.95 2018-01-12 00:15:00\n",
       "2018-01-12 05:20:00+00:00       25.63 2018-01-12 00:20:00\n",
       "2018-01-12 05:25:00+00:00       27.02 2018-01-12 00:25:00"
      ]
     },
     "execution_count": 20,
     "metadata": {},
     "output_type": "execute_result"
    }
   ],
   "source": [
    "df_t.head()"
   ]
  },
  {
   "cell_type": "code",
   "execution_count": 21,
   "metadata": {},
   "outputs": [
    {
     "data": {
      "text/plain": [
       "lbmp_price                 float64\n",
       "time_stamp_local    datetime64[ns]\n",
       "dtype: object"
      ]
     },
     "execution_count": 21,
     "metadata": {},
     "output_type": "execute_result"
    }
   ],
   "source": [
    "df_t.dtypes"
   ]
  },
  {
   "cell_type": "code",
   "execution_count": 108,
   "metadata": {},
   "outputs": [],
   "source": [
    "def is_number(s):\n",
    "    try:\n",
    "        float(s)\n",
    "        return float(s)\n",
    "    except ValueError:\n",
    "        return 0."
   ]
  },
  {
   "cell_type": "code",
   "execution_count": 110,
   "metadata": {},
   "outputs": [],
   "source": [
    "df_t.loc[:,'integrated_load'] = df_t.integrated_load.apply(is_number)"
   ]
  },
  {
   "cell_type": "code",
   "execution_count": 46,
   "metadata": {},
   "outputs": [],
   "source": [
    "#df_cmp = pd.read_csv('nyiso_2017.csv', parse_dates=['time_stamp'])"
   ]
  },
  {
   "cell_type": "code",
   "execution_count": 111,
   "metadata": {},
   "outputs": [
    {
     "data": {
      "text/plain": [
       "(736274.0, 736275.0)"
      ]
     },
     "execution_count": 111,
     "metadata": {},
     "output_type": "execute_result"
    },
    {
     "data": {
      "image/png": "[encoded data removed]",
      "text/plain": [
       "<matplotlib.figure.Figure at 0x11655bc50>"
      ]
     },
     "metadata": {},
     "output_type": "display_data"
    }
   ],
   "source": [
    "fig, ax = plt.subplots(figsize = (8, 8))\n",
    "#ax.plot(df_t.loc[:,'time_stamp_local'], df_t.loc[:,'integrated_load'], '.')\n",
    "ax.plot(df_t.index, df_t.loc[:,'time_stamp_local'], '.', label = 'GMT')\n",
    "# ax.set_xlim(pd.datetime(2016,3,13), pd.datetime(2016,3,14))\n",
    "# ax.set_ylim(pd.datetime(2016,3,13), pd.datetime(2016,3,14))\n",
    "ax.set_xlim(pd.datetime(2016,11,6), pd.datetime(2016,11,7))\n",
    "ax.set_ylim(pd.datetime(2016,11,6), pd.datetime(2016,11,7))"
   ]
  },
  {
   "cell_type": "code",
   "execution_count": 50,
   "metadata": {},
   "outputs": [
    {
     "data": {
      "text/plain": [
       "(0, 500)"
      ]
     },
     "execution_count": 50,
     "metadata": {},
     "output_type": "execute_result"
    },
    {
     "data": {
      "image/png": "[encoded data removed]",
      "text/plain": [
       "<matplotlib.figure.Figure at 0x115fcc630>"
      ]
     },
     "metadata": {},
     "output_type": "display_data"
    }
   ],
   "source": [
    "fig, ax = plt.subplots(figsize = (16, 9))\n",
    "#ax.plot(df_t.loc[:,'time_stamp_local'], df_t.loc[:,'integrated_load'], '.')\n",
    "ax.plot(df_t.loc[:,'time_stamp_local'], df_t.loc[:,'lbmp_price'], label = 'GMT')\n",
    "#ax.plot(df_cmp.iloc[:,0], df_cmp.iloc[:,1], '.', label = 'EST')\n",
    "ax.legend()\n",
    "ax.set_xlim(pd.datetime(2017,3,11), pd.datetime(2017,3,15))\n",
    "ax.set_ylim(0, 500)"
   ]
  },
  {
   "cell_type": "code",
   "execution_count": 23,
   "metadata": {},
   "outputs": [
    {
     "data": {
      "text/plain": [
       "(113161, 2)"
      ]
     },
     "execution_count": 23,
     "metadata": {},
     "output_type": "execute_result"
    }
   ],
   "source": [
    "df_t.shape"
   ]
  },
  {
   "cell_type": "code",
   "execution_count": 24,
   "metadata": {},
   "outputs": [
    {
     "data": {
      "text/plain": [
       "lbmp_price                 float64\n",
       "time_stamp_local    datetime64[ns]\n",
       "dtype: object"
      ]
     },
     "execution_count": 24,
     "metadata": {},
     "output_type": "execute_result"
    }
   ],
   "source": [
    "df_t.dtypes"
   ]
  },
  {
   "cell_type": "code",
   "execution_count": 55,
   "metadata": {},
   "outputs": [
    {
     "data": {
      "image/png": "[encoded data removed]",
      "text/plain": [
       "<matplotlib.figure.Figure at 0x115c9c048>"
      ]
     },
     "metadata": {},
     "output_type": "display_data"
    }
   ],
   "source": [
    "fig, ax = plt.subplots(figsize = (16, 9))\n",
    "plt.hist(df_t.lbmp_price, bins = 200, range= [0, 500], log = True);"
   ]
  },
  {
   "cell_type": "code",
   "execution_count": 26,
   "metadata": {},
   "outputs": [],
   "source": [
    "df_t.sort_index(inplace = True)"
   ]
  },
  {
   "cell_type": "code",
   "execution_count": 27,
   "metadata": {},
   "outputs": [
    {
     "data": {
      "text/html": [
       "<div>\n",
       "<style>\n",
       "    .dataframe thead tr:only-child th {\n",
       "        text-align: right;\n",
       "    }\n",
       "\n",
       "    .dataframe thead th {\n",
       "        text-align: left;\n",
       "    }\n",
       "\n",
       "    .dataframe tbody tr th {\n",
       "        vertical-align: top;\n",
       "    }\n",
       "</style>\n",
       "<table border=\"1\" class=\"dataframe\">\n",
       "  <thead>\n",
       "    <tr style=\"text-align: right;\">\n",
       "      <th></th>\n",
       "      <th>lbmp_price</th>\n",
       "      <th>time_stamp_local</th>\n",
       "    </tr>\n",
       "    <tr>\n",
       "      <th>time_stamp</th>\n",
       "      <th></th>\n",
       "      <th></th>\n",
       "    </tr>\n",
       "  </thead>\n",
       "  <tbody>\n",
       "    <tr>\n",
       "      <th>2017-01-01 05:05:00+00:00</th>\n",
       "      <td>32.66</td>\n",
       "      <td>2017-01-01 00:05:00</td>\n",
       "    </tr>\n",
       "    <tr>\n",
       "      <th>2017-01-01 05:10:00+00:00</th>\n",
       "      <td>30.54</td>\n",
       "      <td>2017-01-01 00:10:00</td>\n",
       "    </tr>\n",
       "    <tr>\n",
       "      <th>2017-01-01 05:15:00+00:00</th>\n",
       "      <td>34.23</td>\n",
       "      <td>2017-01-01 00:15:00</td>\n",
       "    </tr>\n",
       "    <tr>\n",
       "      <th>2017-01-01 05:20:00+00:00</th>\n",
       "      <td>32.10</td>\n",
       "      <td>2017-01-01 00:20:00</td>\n",
       "    </tr>\n",
       "    <tr>\n",
       "      <th>2017-01-01 05:25:00+00:00</th>\n",
       "      <td>32.09</td>\n",
       "      <td>2017-01-01 00:25:00</td>\n",
       "    </tr>\n",
       "  </tbody>\n",
       "</table>\n",
       "</div>"
      ],
      "text/plain": [
       "                           lbmp_price    time_stamp_local\n",
       "time_stamp                                               \n",
       "2017-01-01 05:05:00+00:00       32.66 2017-01-01 00:05:00\n",
       "2017-01-01 05:10:00+00:00       30.54 2017-01-01 00:10:00\n",
       "2017-01-01 05:15:00+00:00       34.23 2017-01-01 00:15:00\n",
       "2017-01-01 05:20:00+00:00       32.10 2017-01-01 00:20:00\n",
       "2017-01-01 05:25:00+00:00       32.09 2017-01-01 00:25:00"
      ]
     },
     "execution_count": 27,
     "metadata": {},
     "output_type": "execute_result"
    }
   ],
   "source": [
    "df_t.head()"
   ]
  },
  {
   "cell_type": "code",
   "execution_count": 28,
   "metadata": {},
   "outputs": [
    {
     "data": {
      "text/html": [
       "<div>\n",
       "<style>\n",
       "    .dataframe thead tr:only-child th {\n",
       "        text-align: right;\n",
       "    }\n",
       "\n",
       "    .dataframe thead th {\n",
       "        text-align: left;\n",
       "    }\n",
       "\n",
       "    .dataframe tbody tr th {\n",
       "        vertical-align: top;\n",
       "    }\n",
       "</style>\n",
       "<table border=\"1\" class=\"dataframe\">\n",
       "  <thead>\n",
       "    <tr style=\"text-align: right;\">\n",
       "      <th></th>\n",
       "      <th>lbmp_price</th>\n",
       "      <th>time_stamp_local</th>\n",
       "    </tr>\n",
       "    <tr>\n",
       "      <th>time_stamp</th>\n",
       "      <th></th>\n",
       "      <th></th>\n",
       "    </tr>\n",
       "  </thead>\n",
       "  <tbody>\n",
       "    <tr>\n",
       "      <th>2018-01-25 19:15:00+00:00</th>\n",
       "      <td>30.12</td>\n",
       "      <td>2018-01-25 14:15:00</td>\n",
       "    </tr>\n",
       "    <tr>\n",
       "      <th>2018-01-25 19:30:00+00:00</th>\n",
       "      <td>29.97</td>\n",
       "      <td>2018-01-25 14:30:00</td>\n",
       "    </tr>\n",
       "    <tr>\n",
       "      <th>2018-01-25 19:45:00+00:00</th>\n",
       "      <td>29.78</td>\n",
       "      <td>2018-01-25 14:45:00</td>\n",
       "    </tr>\n",
       "    <tr>\n",
       "      <th>2018-01-25 20:00:00+00:00</th>\n",
       "      <td>41.62</td>\n",
       "      <td>2018-01-25 15:00:00</td>\n",
       "    </tr>\n",
       "    <tr>\n",
       "      <th>2018-01-25 20:15:00+00:00</th>\n",
       "      <td>41.34</td>\n",
       "      <td>2018-01-25 15:15:00</td>\n",
       "    </tr>\n",
       "  </tbody>\n",
       "</table>\n",
       "</div>"
      ],
      "text/plain": [
       "                           lbmp_price    time_stamp_local\n",
       "time_stamp                                               \n",
       "2018-01-25 19:15:00+00:00       30.12 2018-01-25 14:15:00\n",
       "2018-01-25 19:30:00+00:00       29.97 2018-01-25 14:30:00\n",
       "2018-01-25 19:45:00+00:00       29.78 2018-01-25 14:45:00\n",
       "2018-01-25 20:00:00+00:00       41.62 2018-01-25 15:00:00\n",
       "2018-01-25 20:15:00+00:00       41.34 2018-01-25 15:15:00"
      ]
     },
     "execution_count": 28,
     "metadata": {},
     "output_type": "execute_result"
    }
   ],
   "source": [
    "df_t.tail()"
   ]
  },
  {
   "cell_type": "code",
   "execution_count": 29,
   "metadata": {},
   "outputs": [],
   "source": [
    "df_t.to_csv('nyiso_price_2017.csv')"
   ]
  },
  {
   "cell_type": "code",
   "execution_count": 30,
   "metadata": {},
   "outputs": [],
   "source": [
    "df_test = pd.read_csv('nyiso_price_2017.csv', parse_dates=['time_stamp', 'time_stamp_local'])"
   ]
  },
  {
   "cell_type": "code",
   "execution_count": 31,
   "metadata": {},
   "outputs": [
    {
     "data": {
      "text/html": [
       "<div>\n",
       "<style>\n",
       "    .dataframe thead tr:only-child th {\n",
       "        text-align: right;\n",
       "    }\n",
       "\n",
       "    .dataframe thead th {\n",
       "        text-align: left;\n",
       "    }\n",
       "\n",
       "    .dataframe tbody tr th {\n",
       "        vertical-align: top;\n",
       "    }\n",
       "</style>\n",
       "<table border=\"1\" class=\"dataframe\">\n",
       "  <thead>\n",
       "    <tr style=\"text-align: right;\">\n",
       "      <th></th>\n",
       "      <th>time_stamp</th>\n",
       "      <th>lbmp_price</th>\n",
       "      <th>time_stamp_local</th>\n",
       "    </tr>\n",
       "  </thead>\n",
       "  <tbody>\n",
       "    <tr>\n",
       "      <th>0</th>\n",
       "      <td>2017-01-01 05:05:00</td>\n",
       "      <td>32.66</td>\n",
       "      <td>2017-01-01 00:05:00</td>\n",
       "    </tr>\n",
       "    <tr>\n",
       "      <th>1</th>\n",
       "      <td>2017-01-01 05:10:00</td>\n",
       "      <td>30.54</td>\n",
       "      <td>2017-01-01 00:10:00</td>\n",
       "    </tr>\n",
       "    <tr>\n",
       "      <th>2</th>\n",
       "      <td>2017-01-01 05:15:00</td>\n",
       "      <td>34.23</td>\n",
       "      <td>2017-01-01 00:15:00</td>\n",
       "    </tr>\n",
       "    <tr>\n",
       "      <th>3</th>\n",
       "      <td>2017-01-01 05:20:00</td>\n",
       "      <td>32.10</td>\n",
       "      <td>2017-01-01 00:20:00</td>\n",
       "    </tr>\n",
       "    <tr>\n",
       "      <th>4</th>\n",
       "      <td>2017-01-01 05:25:00</td>\n",
       "      <td>32.09</td>\n",
       "      <td>2017-01-01 00:25:00</td>\n",
       "    </tr>\n",
       "  </tbody>\n",
       "</table>\n",
       "</div>"
      ],
      "text/plain": [
       "           time_stamp  lbmp_price    time_stamp_local\n",
       "0 2017-01-01 05:05:00       32.66 2017-01-01 00:05:00\n",
       "1 2017-01-01 05:10:00       30.54 2017-01-01 00:10:00\n",
       "2 2017-01-01 05:15:00       34.23 2017-01-01 00:15:00\n",
       "3 2017-01-01 05:20:00       32.10 2017-01-01 00:20:00\n",
       "4 2017-01-01 05:25:00       32.09 2017-01-01 00:25:00"
      ]
     },
     "execution_count": 31,
     "metadata": {},
     "output_type": "execute_result"
    }
   ],
   "source": [
    "df_test.head()"
   ]
  },
  {
   "cell_type": "code",
   "execution_count": 32,
   "metadata": {},
   "outputs": [
    {
     "data": {
      "text/plain": [
       "dtype('<M8[ns]')"
      ]
     },
     "execution_count": 32,
     "metadata": {},
     "output_type": "execute_result"
    }
   ],
   "source": [
    "df_test.time_stamp.dtype"
   ]
  }
 ],
 "metadata": {
  "anaconda-cloud": {},
  "kernelspec": {
   "display_name": "Python 3",
   "language": "python",
   "name": "python3"
  },
  "language_info": {
   "codemirror_mode": {
    "name": "ipython",
    "version": 3
   },
   "file_extension": ".py",
   "mimetype": "text/x-python",
   "name": "python",
   "nbconvert_exporter": "python",
   "pygments_lexer": "ipython3",
   "version": "3.5.4"
  }
 },
 "nbformat": 4,
 "nbformat_minor": 1
}
